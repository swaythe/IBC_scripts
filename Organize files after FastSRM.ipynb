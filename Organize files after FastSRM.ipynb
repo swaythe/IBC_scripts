{
 "cells": [
  {
   "cell_type": "code",
   "execution_count": 1,
   "metadata": {},
   "outputs": [],
   "source": [
    "import os\n",
    "import shutil\n",
    "import glob"
   ]
  },
  {
   "cell_type": "code",
   "execution_count": 3,
   "metadata": {},
   "outputs": [],
   "source": [
    "task = 'raiders'\n",
    "taskdir = os.path.join('/home/sshankar/', task, '3mm')"
   ]
  },
  {
   "cell_type": "code",
   "execution_count": 21,
   "metadata": {},
   "outputs": [],
   "source": [
    "# Create directories with task directory\n",
    "# to hold FastSRM and tICA data\n",
    "if not os.path.isdir(os.path.join(taskdir, 'fastsrm')):\n",
    "    os.mkdir(os.path.join(taskdir, 'fastsrm'))\n",
    "    \n",
    "if not os.path.isdir(os.path.join(taskdir, 'fastsrm', 'tica_on_fastsrm')):\n",
    "    os.mkdir(os.path.join(taskdir, 'fastsrm', 'tica_on_fastsrm'))"
   ]
  },
  {
   "cell_type": "code",
   "execution_count": 23,
   "metadata": {},
   "outputs": [],
   "source": [
    "# Move all the second-level GLM files to the fastsrm folder\n",
    "os.chdir(taskdir)\n",
    "\n",
    "files = glob.glob('component*')\n",
    "for file in files:\n",
    "    shutil.move(file, os.path.join(taskdir, 'fastsrm'))\n",
    "    \n",
    "files = glob.glob('shared_resp*')\n",
    "for file in files:\n",
    "    shutil.move(file, os.path.join(taskdir, 'fastsrm'))\n",
    "    \n",
    "files = glob.glob(task + '*')\n",
    "for file in files:\n",
    "    shutil.move(file, os.path.join(taskdir, 'fastsrm'))"
   ]
  },
  {
   "cell_type": "code",
   "execution_count": 5,
   "metadata": {},
   "outputs": [],
   "source": [
    "# Create directories within subject directories \n",
    "# to hold FastSRM and tICA data\n",
    "os.chdir(taskdir)\n",
    "subs = glob.glob('sub*')\n",
    "\n",
    "for sub in subs:\n",
    "    if not os.path.isdir(os.path.join(taskdir, sub, 'fastsrm')):\n",
    "        os.mkdir(os.path.join(taskdir, sub, 'fastsrm'))\n",
    "\n",
    "    if not os.path.isdir(os.path.join(taskdir, sub, 'fastsrm', 'tica_on_fastsrm')):\n",
    "        os.mkdir(os.path.join(taskdir, sub, 'fastsrm', 'tica_on_fastsrm'))\n",
    "        \n",
    "    if not os.path.isdir(os.path.join(taskdir, sub, 'fastsrm', 'sica_on_fastsrm')):\n",
    "        os.mkdir(os.path.join(taskdir, sub, 'fastsrm', 'sica_on_fastsrm'))"
   ]
  },
  {
   "cell_type": "code",
   "execution_count": 32,
   "metadata": {},
   "outputs": [],
   "source": [
    "# Copy basis list files to fastsrm folders within subject folders\n",
    "os.chdir(taskdir)\n",
    "subs = glob.glob('sub*')\n",
    "\n",
    "for sub in subs:\n",
    "    os.chdir(os.path.join(taskdir, sub))\n",
    "    files = glob.glob('basis_list*')\n",
    "    for file in files:\n",
    "        shutil.move(file, os.path.join(taskdir, sub, 'fastsrm'))\n",
    "        \n",
    "    # Copy basis list files to fastsrm folders within subject folders\n",
    "    files = glob.glob('tICA_basis_list*')\n",
    "    for file in files:\n",
    "        shutil.move(file, os.path.join(taskdir, sub, 'fastsrm', 'tica_on_fastsrm'))"
   ]
  },
  {
   "cell_type": "code",
   "execution_count": 13,
   "metadata": {},
   "outputs": [],
   "source": [
    "# Delete files\n",
    "subs = sorted(glob.glob(taskdir + '/sub*'))\n",
    "pattern = '/reduced*'\n",
    "\n",
    "for s, sub in enumerate(subs):\n",
    "    sess = sorted(glob.glob(sub + '/ses*'))\n",
    "\n",
    "    for i, ses in enumerate(sess):\n",
    "        del_files = glob.glob(ses + pattern)\n",
    "        for f, file in enumerate(del_files):\n",
    "            os.remove(file)"
   ]
  },
  {
   "cell_type": "code",
   "execution_count": 6,
   "metadata": {},
   "outputs": [],
   "source": [
    "# Delete directories\n",
    "subs = sorted(glob.glob(taskdir + '/sub*'))\n",
    "pattern = '/reduced*'\n",
    "\n",
    "for s, sub in enumerate(subs):\n",
    "    shutil.rmtree(os.path.join(sub, 'fastsrm', 'reduced_front'))\n",
    "    shutil.rmtree(os.path.join(sub, 'fastsrm', 'reduced_back'))\n",
    "    shutil.rmtree(os.path.join(sub, 'fastsrm', 'reduced_front_back'))"
   ]
  },
  {
   "cell_type": "code",
   "execution_count": null,
   "metadata": {},
   "outputs": [],
   "source": []
  }
 ],
 "metadata": {
  "kernelspec": {
   "display_name": "Python 3",
   "language": "python",
   "name": "python3"
  },
  "language_info": {
   "codemirror_mode": {
    "name": "ipython",
    "version": 3
   },
   "file_extension": ".py",
   "mimetype": "text/x-python",
   "name": "python",
   "nbconvert_exporter": "python",
   "pygments_lexer": "ipython3",
   "version": "3.6.9"
  }
 },
 "nbformat": 4,
 "nbformat_minor": 2
}
