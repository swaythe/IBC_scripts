{
 "cells": [
  {
   "cell_type": "code",
   "execution_count": 1,
   "metadata": {},
   "outputs": [],
   "source": [
    "import os\n",
    "import pandas as pd\n",
    "import numpy as np\n",
    "import glob"
   ]
  },
  {
   "cell_type": "code",
   "execution_count": 10,
   "metadata": {},
   "outputs": [],
   "source": [
    "sub = 'sub-09'\n",
    "ses = 'ses-02'\n",
    "battery = 'camcan'\n",
    "task = 'finger-tapping'\n",
    "\n",
    "main_dir = '/home/sshankar/ibc/analysis_pipeline/ibc_main/neurospin_data/info/'\n",
    "datadir = os.path.join(main_dir, sub, battery, ses)\n",
    "os.chdir(datadir)\n",
    "csv_files = sorted(glob.glob('*' + task + '*.txt'))\n",
    "tsv_files = []\n",
    "# for i in range(len(csv_files)):\n",
    "i = 0\n",
    "tsv_files.append(task + '_' + sub + '_run-0' + str(i+1) + '.tsv')"
   ]
  },
  {
   "cell_type": "code",
   "execution_count": 11,
   "metadata": {},
   "outputs": [
    {
     "data": {
      "text/plain": [
       "['finger-tapping_sub-09_run-01_1618999400.txt',\n",
       " 'finger-tapping_sub-09_run-02_1618999792.txt']"
      ]
     },
     "execution_count": 11,
     "metadata": {},
     "output_type": "execute_result"
    }
   ],
   "source": [
    "csv_files"
   ]
  },
  {
   "cell_type": "code",
   "execution_count": 12,
   "metadata": {},
   "outputs": [],
   "source": [
    "# In the log file run start is the file line.\n",
    "# To extract it read in the first line by itself and then \n",
    "# read the rest of the file as a DataFrame.\n",
    "line1 = pd.read_csv(os.path.join(datadir, csv_files[i]), sep=':', header=None, nrows=1)\n",
    "run_start = line1[1][0]"
   ]
  },
  {
   "cell_type": "code",
   "execution_count": 13,
   "metadata": {},
   "outputs": [
    {
     "data": {
      "text/plain": [
       "1197.7309"
      ]
     },
     "execution_count": 13,
     "metadata": {},
     "output_type": "execute_result"
    }
   ],
   "source": [
    "run_start"
   ]
  },
  {
   "cell_type": "code",
   "execution_count": 14,
   "metadata": {},
   "outputs": [],
   "source": [
    "# Read in the rest of the file\n",
    "file_df = pd.read_csv(os.path.join(datadir, csv_files[i]), header=1, sep=',', skipinitialspace=True)"
   ]
  },
  {
   "cell_type": "code",
   "execution_count": 7,
   "metadata": {
    "scrolled": true
   },
   "outputs": [
    {
     "data": {
      "text/html": [
       "<div>\n",
       "<style scoped>\n",
       "    .dataframe tbody tr th:only-of-type {\n",
       "        vertical-align: middle;\n",
       "    }\n",
       "\n",
       "    .dataframe tbody tr th {\n",
       "        vertical-align: top;\n",
       "    }\n",
       "\n",
       "    .dataframe thead th {\n",
       "        text-align: right;\n",
       "    }\n",
       "</style>\n",
       "<table border=\"1\" class=\"dataframe\">\n",
       "  <thead>\n",
       "    <tr style=\"text-align: right;\">\n",
       "      <th></th>\n",
       "      <th>Block#</th>\n",
       "      <th>Trial#</th>\n",
       "      <th>Stimulus#</th>\n",
       "      <th>TrialOnset</th>\n",
       "      <th>StimulusOnset</th>\n",
       "      <th>TrialOffest</th>\n",
       "      <th>KeyPressed#</th>\n",
       "      <th>KeyPressed</th>\n",
       "      <th>ResponseTime</th>\n",
       "      <th>RandOrder</th>\n",
       "    </tr>\n",
       "  </thead>\n",
       "  <tbody>\n",
       "    <tr>\n",
       "      <th>0</th>\n",
       "      <td>0</td>\n",
       "      <td>1.0</td>\n",
       "      <td>4.0</td>\n",
       "      <td>1669.63</td>\n",
       "      <td>1669.68</td>\n",
       "      <td>2.2</td>\n",
       "      <td>NaN</td>\n",
       "      <td>&lt;</td>\n",
       "      <td>1670.59</td>\n",
       "      <td>4.0</td>\n",
       "    </tr>\n",
       "    <tr>\n",
       "      <th>1</th>\n",
       "      <td>0</td>\n",
       "      <td>2.0</td>\n",
       "      <td>3.0</td>\n",
       "      <td>1671.83</td>\n",
       "      <td>1671.83</td>\n",
       "      <td>2.2</td>\n",
       "      <td>-9</td>\n",
       "      <td>-9.00</td>\n",
       "      <td>3.00</td>\n",
       "      <td>NaN</td>\n",
       "    </tr>\n",
       "    <tr>\n",
       "      <th>2</th>\n",
       "      <td>0</td>\n",
       "      <td>3.0</td>\n",
       "      <td>6.0</td>\n",
       "      <td>1674.03</td>\n",
       "      <td>1674.03</td>\n",
       "      <td>2.2</td>\n",
       "      <td>NaN</td>\n",
       "      <td>&lt;</td>\n",
       "      <td>1674.79</td>\n",
       "      <td>1.0</td>\n",
       "    </tr>\n",
       "    <tr>\n",
       "      <th>3</th>\n",
       "      <td>0</td>\n",
       "      <td>4.0</td>\n",
       "      <td>2.0</td>\n",
       "      <td>1676.23</td>\n",
       "      <td>1676.23</td>\n",
       "      <td>2.2</td>\n",
       "      <td>g</td>\n",
       "      <td>1677.14</td>\n",
       "      <td>1.00</td>\n",
       "      <td>NaN</td>\n",
       "    </tr>\n",
       "    <tr>\n",
       "      <th>4</th>\n",
       "      <td>0</td>\n",
       "      <td>5.0</td>\n",
       "      <td>8.0</td>\n",
       "      <td>1678.43</td>\n",
       "      <td>1678.43</td>\n",
       "      <td>2.2</td>\n",
       "      <td>r</td>\n",
       "      <td>1679.10</td>\n",
       "      <td>4.00</td>\n",
       "      <td>NaN</td>\n",
       "    </tr>\n",
       "    <tr>\n",
       "      <th>...</th>\n",
       "      <td>...</td>\n",
       "      <td>...</td>\n",
       "      <td>...</td>\n",
       "      <td>...</td>\n",
       "      <td>...</td>\n",
       "      <td>...</td>\n",
       "      <td>...</td>\n",
       "      <td>...</td>\n",
       "      <td>...</td>\n",
       "      <td>...</td>\n",
       "    </tr>\n",
       "    <tr>\n",
       "      <th>120</th>\n",
       "      <td>0</td>\n",
       "      <td>116.0</td>\n",
       "      <td>2.0</td>\n",
       "      <td>1982.72</td>\n",
       "      <td>1982.72</td>\n",
       "      <td>2.2</td>\n",
       "      <td>g</td>\n",
       "      <td>1983.52</td>\n",
       "      <td>3.00</td>\n",
       "      <td>NaN</td>\n",
       "    </tr>\n",
       "    <tr>\n",
       "      <th>121</th>\n",
       "      <td>0</td>\n",
       "      <td>117.0</td>\n",
       "      <td>5.0</td>\n",
       "      <td>1984.92</td>\n",
       "      <td>1984.92</td>\n",
       "      <td>2.2</td>\n",
       "      <td>r</td>\n",
       "      <td>1985.62</td>\n",
       "      <td>3.00</td>\n",
       "      <td>NaN</td>\n",
       "    </tr>\n",
       "    <tr>\n",
       "      <th>122</th>\n",
       "      <td>0</td>\n",
       "      <td>118.0</td>\n",
       "      <td>8.0</td>\n",
       "      <td>1987.12</td>\n",
       "      <td>1987.12</td>\n",
       "      <td>2.2</td>\n",
       "      <td>g</td>\n",
       "      <td>1987.90</td>\n",
       "      <td>3.00</td>\n",
       "      <td>NaN</td>\n",
       "    </tr>\n",
       "    <tr>\n",
       "      <th>123</th>\n",
       "      <td>0</td>\n",
       "      <td>119.0</td>\n",
       "      <td>4.0</td>\n",
       "      <td>1989.32</td>\n",
       "      <td>1989.32</td>\n",
       "      <td>2.2</td>\n",
       "      <td>NaN</td>\n",
       "      <td>&lt;</td>\n",
       "      <td>1990.54</td>\n",
       "      <td>2.0</td>\n",
       "    </tr>\n",
       "    <tr>\n",
       "      <th>124</th>\n",
       "      <td>0</td>\n",
       "      <td>120.0</td>\n",
       "      <td>7.0</td>\n",
       "      <td>1991.52</td>\n",
       "      <td>1991.52</td>\n",
       "      <td>2.2</td>\n",
       "      <td>NaN</td>\n",
       "      <td>&lt;</td>\n",
       "      <td>1992.11</td>\n",
       "      <td>4.0</td>\n",
       "    </tr>\n",
       "  </tbody>\n",
       "</table>\n",
       "<p>125 rows × 10 columns</p>\n",
       "</div>"
      ],
      "text/plain": [
       "    Block#  Trial#  Stimulus#  TrialOnset  StimulusOnset  TrialOffest  \\\n",
       "0        0     1.0        4.0     1669.63        1669.68          2.2   \n",
       "1        0     2.0        3.0     1671.83        1671.83          2.2   \n",
       "2        0     3.0        6.0     1674.03        1674.03          2.2   \n",
       "3        0     4.0        2.0     1676.23        1676.23          2.2   \n",
       "4        0     5.0        8.0     1678.43        1678.43          2.2   \n",
       "..     ...     ...        ...         ...            ...          ...   \n",
       "120      0   116.0        2.0     1982.72        1982.72          2.2   \n",
       "121      0   117.0        5.0     1984.92        1984.92          2.2   \n",
       "122      0   118.0        8.0     1987.12        1987.12          2.2   \n",
       "123      0   119.0        4.0     1989.32        1989.32          2.2   \n",
       "124      0   120.0        7.0     1991.52        1991.52          2.2   \n",
       "\n",
       "    KeyPressed# KeyPressed  ResponseTime  RandOrder  \n",
       "0           NaN          <       1670.59        4.0  \n",
       "1            -9      -9.00          3.00        NaN  \n",
       "2           NaN          <       1674.79        1.0  \n",
       "3             g    1677.14          1.00        NaN  \n",
       "4             r    1679.10          4.00        NaN  \n",
       "..          ...        ...           ...        ...  \n",
       "120           g    1983.52          3.00        NaN  \n",
       "121           r    1985.62          3.00        NaN  \n",
       "122           g    1987.90          3.00        NaN  \n",
       "123         NaN          <       1990.54        2.0  \n",
       "124         NaN          <       1992.11        4.0  \n",
       "\n",
       "[125 rows x 10 columns]"
      ]
     },
     "execution_count": 7,
     "metadata": {},
     "output_type": "execute_result"
    }
   ],
   "source": [
    "file_df"
   ]
  },
  {
   "cell_type": "code",
   "execution_count": 15,
   "metadata": {},
   "outputs": [],
   "source": [
    "# Find rows with trial information\n",
    "trials = file_df['Block#'].str.contains('Rest')==False\n",
    "# trials = file_df['Block#'] != 'Rest'"
   ]
  },
  {
   "cell_type": "code",
   "execution_count": 16,
   "metadata": {},
   "outputs": [],
   "source": [
    "bl = file_df['Block#']"
   ]
  },
  {
   "cell_type": "code",
   "execution_count": 43,
   "metadata": {},
   "outputs": [
    {
     "data": {
      "text/plain": [
       "[<matplotlib.lines.Line2D at 0x7fcbe6314ef0>]"
      ]
     },
     "execution_count": 43,
     "metadata": {},
     "output_type": "execute_result"
    },
    {
     "data": {
      "image/png": "[encoded data removed]",
      "text/plain": [
       "<Figure size 432x288 with 1 Axes>"
      ]
     },
     "metadata": {
      "needs_background": "light"
     },
     "output_type": "display_data"
    }
   ],
   "source": [
    "import matplotlib.pyplot as plt\n",
    "%matplotlib inline\n",
    "plt.plot(bl[trials])"
   ]
  },
  {
   "cell_type": "code",
   "execution_count": 27,
   "metadata": {},
   "outputs": [
    {
     "data": {
      "text/plain": [
       "True"
      ]
     },
     "execution_count": 27,
     "metadata": {},
     "output_type": "execute_result"
    }
   ],
   "source": [
    "trials[21]"
   ]
  },
  {
   "cell_type": "code",
   "execution_count": 17,
   "metadata": {},
   "outputs": [],
   "source": [
    "# Extract the onsets of stimulus, probe and response\n",
    "trial_onsets = file_df.loc[trials]['StimulusOnset']\n",
    "\n",
    "# The stimuli are always on screen for 1s\n",
    "durations = np.ones(sum(trials))\n",
    "\n",
    "# The trials are coded numerically, and there are 9 types.\n",
    "# We are interested in 3 categories:\n",
    "# “specified” trials, in which subjects are told which finger to press (type 1-4)\n",
    "# “chosen” trials, in which subjects choose one of many fingers to press (type 5-8)\n",
    "# null events, where no finger press is required (type 9)\n",
    "types = file_df.loc[trials]['Stimulus#']\n",
    "trial_types = np.array(np.zeros(sum(trials), dtype=np.object_))\n",
    "\n",
    "# Find indices of 'specified' trials and mark as such\n",
    "s_list = [1, 2, 3, 4]\n",
    "for si, s in enumerate(s_list):\n",
    "    trial_types[types == s] = 'specified'\n",
    "\n",
    "# Find indices of 'chosen' trials and mark as such\n",
    "c_list = [5, 6, 7, 8]\n",
    "for ci, c in enumerate(c_list):\n",
    "    trial_types[types == c] = 'chosen'\n",
    "\n",
    "# Find indices of 'null' trials and mark as such\n",
    "trial_types[types == 9] = 'null'"
   ]
  },
  {
   "cell_type": "code",
   "execution_count": 10,
   "metadata": {},
   "outputs": [
    {
     "data": {
      "text/plain": [
       "array(['specified', 'specified', 'chosen', 'specified', 'chosen', 'null',\n",
       "       'chosen', 'chosen', 'null', 'null', 'specified', 'specified',\n",
       "       'specified', 'null', 'specified', 'specified', 'specified',\n",
       "       'chosen', 'null', 'null', 'chosen', 'chosen', 'specified', 'null',\n",
       "       'chosen', 'null', 'specified', 'null', 'null', 'specified', 'null',\n",
       "       'chosen', 'chosen', 'null', 'chosen', 'chosen', 'chosen', 'chosen',\n",
       "       'specified', 'chosen', 'specified', 'chosen', 'chosen', 'null',\n",
       "       'null', 'null', 'specified', 'null', 'chosen', 'specified', 'null',\n",
       "       'specified', 'null', 'chosen', 'specified', 'specified', 'chosen',\n",
       "       'null', 'specified', 'specified', 'chosen', 'null', 'null',\n",
       "       'specified', 'null', 'null', 'chosen', 'null', 'chosen', 'null',\n",
       "       'specified', 'chosen', 'chosen', 'chosen', 'specified', 'chosen',\n",
       "       'null', 'specified', 'chosen', 'null', 'null', 'specified',\n",
       "       'chosen', 'null', 'specified', 'specified', 'chosen', 'null',\n",
       "       'chosen', 'null', 'chosen', 'null', 'null', 'chosen', 'specified',\n",
       "       'specified', 'specified', 'chosen', 'chosen', 'null', 'null',\n",
       "       'chosen', 'chosen', 'specified', 'null', 'chosen', 'specified',\n",
       "       'chosen', 'null', 'specified', 'chosen', 'chosen', 'chosen',\n",
       "       'chosen', 'null', 'specified', 'chosen', 'chosen', 'specified',\n",
       "       'chosen'], dtype=object)"
      ]
     },
     "execution_count": 10,
     "metadata": {},
     "output_type": "execute_result"
    }
   ],
   "source": [
    "trial_types"
   ]
  },
  {
   "cell_type": "code",
   "execution_count": 18,
   "metadata": {},
   "outputs": [],
   "source": [
    "# Create a DataFrame to save to events file\n",
    "df = pd.DataFrame({'onset':(trial_onsets-run_start), 'duration':durations, 'trial_type':trial_types})\n",
    "df.to_csv(os.path.join(datadir, tsv_files[0]), sep='\\t', float_format='%0.3f', index=False)"
   ]
  },
  {
   "cell_type": "code",
   "execution_count": null,
   "metadata": {},
   "outputs": [],
   "source": []
  }
 ],
 "metadata": {
  "kernelspec": {
   "display_name": "Python 3",
   "language": "python",
   "name": "python3"
  },
  "language_info": {
   "codemirror_mode": {
    "name": "ipython",
    "version": 3
   },
   "file_extension": ".py",
   "mimetype": "text/x-python",
   "name": "python",
   "nbconvert_exporter": "python",
   "pygments_lexer": "ipython3",
   "version": "3.6.9"
  }
 },
 "nbformat": 4,
 "nbformat_minor": 2
}
