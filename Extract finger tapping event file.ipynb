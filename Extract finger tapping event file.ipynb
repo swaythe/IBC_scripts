{
 "cells": [
  {
   "cell_type": "code",
   "execution_count": 1,
   "metadata": {},
   "outputs": [],
   "source": [
    "import os\n",
    "import pandas as pd\n",
    "import numpy as np\n",
    "import glob"
   ]
  },
  {
   "cell_type": "code",
   "execution_count": 9,
   "metadata": {},
   "outputs": [],
   "source": [
    "sub = 'sub-04'\n",
    "ses = 'ses-02'\n",
    "battery = 'camcan'\n",
    "task = 'finger-tapping'\n",
    "\n",
    "main_dir = '/home/sshankar/ibc/analysis_pipeline/ibc_main/neurospin_data/info/'\n",
    "datadir = os.path.join(main_dir, sub, battery, ses)\n",
    "os.chdir(datadir)\n",
    "csv_files = sorted(glob.glob('*' + task + '*.txt'))\n",
    "tsv_files = []\n",
    "# for i in range(len(csv_files)):\n",
    "i = 0\n",
    "tsv_files.append(task + '_' + sub + '_run-0' + str(i+1) + '.tsv')"
   ]
  },
  {
   "cell_type": "code",
   "execution_count": 11,
   "metadata": {},
   "outputs": [
    {
     "data": {
      "text/plain": [
       "['finger-tapping_sub-09_run-01_1618999400.txt',\n",
       " 'finger-tapping_sub-09_run-02_1618999792.txt']"
      ]
     },
     "execution_count": 11,
     "metadata": {},
     "output_type": "execute_result"
    }
   ],
   "source": [
    "csv_files"
   ]
  },
  {
   "cell_type": "code",
   "execution_count": 10,
   "metadata": {},
   "outputs": [],
   "source": [
    "# In the log file run start is the file line.\n",
    "# To extract it read in the first line by itself and then \n",
    "# read the rest of the file as a DataFrame.\n",
    "line1 = pd.read_csv(os.path.join(datadir, csv_files[i]), sep=':', header=None, nrows=1)\n",
    "run_start = line1[1][0]"
   ]
  },
  {
   "cell_type": "code",
   "execution_count": 11,
   "metadata": {},
   "outputs": [
    {
     "data": {
      "text/plain": [
       "1263.8859"
      ]
     },
     "execution_count": 11,
     "metadata": {},
     "output_type": "execute_result"
    }
   ],
   "source": [
    "run_start"
   ]
  },
  {
   "cell_type": "code",
   "execution_count": 12,
   "metadata": {},
   "outputs": [],
   "source": [
    "# Read in the rest of the file\n",
    "file_df = pd.read_csv(os.path.join(datadir, csv_files[i]), header=1, sep=',', skipinitialspace=True)"
   ]
  },
  {
   "cell_type": "code",
   "execution_count": 13,
   "metadata": {},
   "outputs": [],
   "source": [
    "# Find rows with trial information\n",
    "trials = file_df['Block#'].str.contains('Rest')==False\n",
    "# trials = file_df['Block#'] != 'Rest'"
   ]
  },
  {
   "cell_type": "code",
   "execution_count": 14,
   "metadata": {},
   "outputs": [],
   "source": [
    "# Extract the onsets of stimulus, probe and response\n",
    "trial_onsets = file_df.loc[trials]['StimulusOnset']\n",
    "\n",
    "# The stimuli are always on screen for 1s\n",
    "durations = np.ones(sum(trials))\n",
    "\n",
    "# The trials are coded numerically, and there are 9 types.\n",
    "# We are interested in 3 categories:\n",
    "# “specified” trials, in which subjects are told which finger to press (type 1-4)\n",
    "# “chosen” trials, in which subjects choose one of many fingers to press (type 5-8)\n",
    "# null events, where no finger press is required (type 9)\n",
    "types = file_df.loc[trials]['Stimulus#']\n",
    "trial_types = np.array(np.zeros(sum(trials), dtype=np.object_))\n",
    "\n",
    "# Find indices of 'specified' trials and mark as such\n",
    "s_list = [1, 2, 3, 4]\n",
    "for si, s in enumerate(s_list):\n",
    "    trial_types[types == s] = 'specified'\n",
    "\n",
    "# Find indices of 'chosen' trials and mark as such\n",
    "c_list = [5, 6, 7, 8]\n",
    "for ci, c in enumerate(c_list):\n",
    "    trial_types[types == c] = 'chosen'\n",
    "\n",
    "# Find indices of 'null' trials and mark as such\n",
    "trial_types[types == 9] = 'null'"
   ]
  },
  {
   "cell_type": "code",
   "execution_count": 15,
   "metadata": {},
   "outputs": [],
   "source": [
    "# Create a DataFrame to save to events file\n",
    "df = pd.DataFrame({'onset':(trial_onsets-run_start), 'duration':durations, 'trial_type':trial_types})\n",
    "df.to_csv(os.path.join(datadir, tsv_files[0]), sep='\\t', float_format='%0.3f', index=False)"
   ]
  },
  {
   "cell_type": "code",
   "execution_count": null,
   "metadata": {},
   "outputs": [],
   "source": []
  }
 ],
 "metadata": {
  "kernelspec": {
   "display_name": "Python 3",
   "language": "python",
   "name": "python3"
  },
  "language_info": {
   "codemirror_mode": {
    "name": "ipython",
    "version": 3
   },
   "file_extension": ".py",
   "mimetype": "text/x-python",
   "name": "python",
   "nbconvert_exporter": "python",
   "pygments_lexer": "ipython3",
   "version": "3.6.9"
  }
 },
 "nbformat": 4,
 "nbformat_minor": 2
}
