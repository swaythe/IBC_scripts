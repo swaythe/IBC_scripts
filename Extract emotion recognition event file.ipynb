{
 "cells": [
  {
   "cell_type": "code",
   "execution_count": 1,
   "metadata": {},
   "outputs": [],
   "source": [
    "import os\n",
    "import pandas as pd\n",
    "import numpy as np\n",
    "import glob"
   ]
  },
  {
   "cell_type": "code",
   "execution_count": 10,
   "metadata": {},
   "outputs": [],
   "source": [
    "sub = 'sub-04'\n",
    "ses = 'ses-01'\n",
    "battery = 'camcan'\n",
    "task = 'emotion-recognition'\n",
    "\n",
    "main_dir = '/home/sshankar/ibc/analysis_pipeline/ibc_main/neurospin_data/info/'\n",
    "datadir = os.path.join(main_dir, sub, battery, ses)\n",
    "os.chdir(datadir)\n",
    "csv_files = sorted(glob.glob('*' + task + '*.csv'))\n",
    "tsv_files = []\n",
    "# for i in range(len(csv_files)):\n",
    "i = 0\n",
    "tsv_files.append(task + '_' + sub + '_run-0' + str(i+1) + '.tsv')"
   ]
  },
  {
   "cell_type": "code",
   "execution_count": 23,
   "metadata": {},
   "outputs": [
    {
     "data": {
      "text/plain": [
       "['emotion-recognition_sub-05_run-02.tsv']"
      ]
     },
     "execution_count": 23,
     "metadata": {},
     "output_type": "execute_result"
    }
   ],
   "source": [
    "tsv_files"
   ]
  },
  {
   "cell_type": "code",
   "execution_count": 8,
   "metadata": {},
   "outputs": [
    {
     "data": {
      "text/plain": [
       "['extracted_emotion-recognition_sub-07_run-01_232021-152.csv',\n",
       " 'extracted_emotion-recognition_sub-07_run-02_232021-1513.csv']"
      ]
     },
     "execution_count": 8,
     "metadata": {},
     "output_type": "execute_result"
    }
   ],
   "source": [
    "csv_files"
   ]
  },
  {
   "cell_type": "code",
   "execution_count": 11,
   "metadata": {},
   "outputs": [],
   "source": [
    "file_df = pd.read_csv(os.path.join(datadir, csv_files[i]))"
   ]
  },
  {
   "cell_type": "code",
   "execution_count": 12,
   "metadata": {},
   "outputs": [],
   "source": [
    "# In the csv file extracted from the E-Prime txt file, \n",
    "# run onset is the 'GetReady.OffsetTime' column of last row, \n",
    "# and all other columns of this row are empty.\n",
    "run_start = (file_df.loc[~np.isnan(file_df['GetReady.OffsetTime'])])['GetReady.OffsetTime']\n",
    "run_start = run_start.values[0]"
   ]
  },
  {
   "cell_type": "code",
   "execution_count": 13,
   "metadata": {},
   "outputs": [
    {
     "data": {
      "text/plain": [
       "76353.0"
      ]
     },
     "execution_count": 13,
     "metadata": {},
     "output_type": "execute_result"
    }
   ],
   "source": [
    "run_start"
   ]
  },
  {
   "cell_type": "code",
   "execution_count": 14,
   "metadata": {},
   "outputs": [],
   "source": [
    "# Find the trial-related rows\n",
    "trials = ~np.isnan(file_df['afac1.OnsetTime']) | ~np.isnan(file_df['nfac1.OnsetTime'])\n",
    "angry_trials = ~np.isnan(file_df['afac1.OnsetTime'])\n",
    "neutral_trials = ~np.isnan(file_df['nfac1.OnsetTime'])"
   ]
  },
  {
   "cell_type": "code",
   "execution_count": 15,
   "metadata": {},
   "outputs": [],
   "source": [
    "# Extract the gender of the displayed face\n",
    "im = file_df.loc[trials]['image']\n",
    "gender = [\"female\" if x[0]=='f' else \"male\" for x in im]"
   ]
  },
  {
   "cell_type": "code",
   "execution_count": 30,
   "metadata": {},
   "outputs": [
    {
     "data": {
      "text/plain": [
       "['male',\n",
       " 'female',\n",
       " 'male',\n",
       " 'female',\n",
       " 'male',\n",
       " 'female',\n",
       " 'male',\n",
       " 'female',\n",
       " 'male',\n",
       " 'female',\n",
       " 'male',\n",
       " 'female',\n",
       " 'male',\n",
       " 'male',\n",
       " 'female',\n",
       " 'female',\n",
       " 'male',\n",
       " 'female',\n",
       " 'male',\n",
       " 'male',\n",
       " 'female',\n",
       " 'female',\n",
       " 'male',\n",
       " 'female',\n",
       " 'male',\n",
       " 'male',\n",
       " 'male',\n",
       " 'female',\n",
       " 'female',\n",
       " 'female',\n",
       " 'male',\n",
       " 'male',\n",
       " 'male',\n",
       " 'female',\n",
       " 'female',\n",
       " 'female',\n",
       " 'male',\n",
       " 'female',\n",
       " 'female',\n",
       " 'male',\n",
       " 'female',\n",
       " 'male',\n",
       " 'male',\n",
       " 'female',\n",
       " 'female',\n",
       " 'male',\n",
       " 'female',\n",
       " 'male',\n",
       " 'male',\n",
       " 'female',\n",
       " 'male',\n",
       " 'female',\n",
       " 'male',\n",
       " 'female',\n",
       " 'male',\n",
       " 'female',\n",
       " 'male',\n",
       " 'female',\n",
       " 'male',\n",
       " 'female',\n",
       " 'female',\n",
       " 'male',\n",
       " 'female',\n",
       " 'male',\n",
       " 'male',\n",
       " 'female',\n",
       " 'female',\n",
       " 'male',\n",
       " 'female',\n",
       " 'male',\n",
       " 'male',\n",
       " 'female',\n",
       " 'male',\n",
       " 'female',\n",
       " 'female',\n",
       " 'female',\n",
       " 'male',\n",
       " 'male',\n",
       " 'male',\n",
       " 'female',\n",
       " 'female',\n",
       " 'female',\n",
       " 'male',\n",
       " 'male',\n",
       " 'male',\n",
       " 'female',\n",
       " 'male',\n",
       " 'female',\n",
       " 'male',\n",
       " 'female',\n",
       " 'male',\n",
       " 'female',\n",
       " 'male',\n",
       " 'female',\n",
       " 'male',\n",
       " 'female',\n",
       " 'female',\n",
       " 'male',\n",
       " 'female',\n",
       " 'female',\n",
       " 'male',\n",
       " 'male',\n",
       " 'female',\n",
       " 'male',\n",
       " 'female',\n",
       " 'female',\n",
       " 'male',\n",
       " 'male']"
      ]
     },
     "execution_count": 30,
     "metadata": {},
     "output_type": "execute_result"
    }
   ],
   "source": [
    "gender"
   ]
  },
  {
   "cell_type": "code",
   "execution_count": 16,
   "metadata": {},
   "outputs": [],
   "source": [
    "# Trial onsets are in 'afac1.OnsetTime' and 'nfac1.OnsetTime' \n",
    "# for angry and neutral trials, respectively\n",
    "angry_onsets = file_df.loc[angry_trials]['afac1.OnsetTime']\n",
    "neutral_onsets = file_df.loc[neutral_trials]['nfac1.OnsetTime']\n",
    "trial_onsets = np.sort(np.hstack((angry_onsets, neutral_onsets)))\n",
    "\n",
    "# Trial offsets are in 'afac1.OffsetTime' 'nfac1.OffsetTime'\n",
    "# for angry and neutral trials, respectively\n",
    "angry_offsets = file_df.loc[angry_trials]['afac1.OffsetTime']\n",
    "neutral_offsets = file_df.loc[neutral_trials]['nfac1.OffsetTime']\n",
    "\n",
    "# Calculate trial durations\n",
    "angry_durations = angry_offsets - angry_onsets\n",
    "neutral_durations = neutral_offsets - neutral_onsets\n",
    "durations = np.hstack((angry_durations, neutral_durations))\n",
    "\n",
    "# Finally, trial_types are in 'Emotion'\n",
    "trial_types = (file_df.loc[trials]['Emotion']).str.lower()\n",
    "trial_types = [i+'_'+j for i, j in zip(trial_types, gender)]"
   ]
  },
  {
   "cell_type": "code",
   "execution_count": 32,
   "metadata": {},
   "outputs": [
    {
     "name": "stdout",
     "output_type": "stream",
     "text": [
      "0       57766.0\n",
      "2       61444.0\n",
      "5       66912.0\n",
      "7       70593.0\n",
      "9       74234.0\n",
      "11      77886.0\n",
      "39     123538.0\n",
      "40     125404.0\n",
      "42     129056.0\n",
      "44     132705.0\n",
      "48     139954.0\n",
      "49     141804.0\n",
      "53     147253.0\n",
      "57     154502.0\n",
      "58     156355.0\n",
      "60     160004.0\n",
      "61     161856.0\n",
      "62     163707.0\n",
      "78     189237.0\n",
      "81     194686.0\n",
      "83     198338.0\n",
      "85     201990.0\n",
      "86     203842.0\n",
      "87     205708.0\n",
      "105    235012.0\n",
      "107    238680.0\n",
      "109    242344.0\n",
      "112    247860.0\n",
      "113    249728.0\n",
      "114    251597.0\n",
      "132    280759.0\n",
      "134    284409.0\n",
      "135    286258.0\n",
      "136    288108.0\n",
      "139    293557.0\n",
      "140    295406.0\n",
      "156    320955.0\n",
      "157    322805.0\n",
      "159    326456.0\n",
      "160    328284.0\n",
      "162    331937.0\n",
      "164    335587.0\n",
      "182    364714.0\n",
      "185    370163.0\n",
      "186    372013.0\n",
      "190    379262.0\n",
      "192    382928.0\n",
      "193    384794.0\n",
      "209    410389.0\n",
      "212    415838.0\n",
      "213    417688.0\n",
      "216    423141.0\n",
      "217    424990.0\n",
      "218    426840.0\n",
      "Name: afac1.OnsetTime, dtype: float64 13      79736.0\n",
      "15      83388.0\n",
      "16      85238.0\n",
      "17      87087.0\n",
      "20      92523.0\n",
      "24      99773.0\n",
      "26     101622.0\n",
      "27     103472.0\n",
      "31     110721.0\n",
      "32     112573.0\n",
      "36     119823.0\n",
      "37     121672.0\n",
      "65     167356.0\n",
      "68     172807.0\n",
      "69     174640.0\n",
      "73     181867.0\n",
      "75     185520.0\n",
      "76     187371.0\n",
      "91     211177.0\n",
      "94     216628.0\n",
      "96     220278.0\n",
      "97     222178.0\n",
      "101    229510.0\n",
      "102    231362.0\n",
      "118    257049.0\n",
      "120    260701.0\n",
      "121    262553.0\n",
      "123    266202.0\n",
      "124    268051.0\n",
      "125    269904.0\n",
      "145    302651.0\n",
      "146    304503.0\n",
      "148    308154.0\n",
      "149    310007.0\n",
      "150    311856.0\n",
      "153    317306.0\n",
      "171    346435.0\n",
      "173    350085.0\n",
      "175    353734.0\n",
      "178    359183.0\n",
      "179    361016.0\n",
      "180    362865.0\n",
      "195    386677.0\n",
      "196    388543.0\n",
      "199    393992.0\n",
      "201    397641.0\n",
      "203    401290.0\n",
      "206    406740.0\n",
      "223    434089.0\n",
      "225    437738.0\n",
      "227    441388.0\n",
      "228    443237.0\n",
      "229    445086.0\n",
      "231    448736.0\n",
      "Name: nfac1.OnsetTime, dtype: float64 [ 57766.  61444.  66912.  70593.  74234.  77886.  79736.  83388.  85238.\n",
      "  87087.  92523.  99773. 101622. 103472. 110721. 112573. 119823. 121672.\n",
      " 123538. 125404. 129056. 132705. 139954. 141804. 147253. 154502. 156355.\n",
      " 160004. 161856. 163707. 167356. 172807. 174640. 181867. 185520. 187371.\n",
      " 189237. 194686. 198338. 201990. 203842. 205708. 211177. 216628. 220278.\n",
      " 222178. 229510. 231362. 235012. 238680. 242344. 247860. 249728. 251597.\n",
      " 257049. 260701. 262553. 266202. 268051. 269904. 280759. 284409. 286258.\n",
      " 288108. 293557. 295406. 302651. 304503. 308154. 310007. 311856. 317306.\n",
      " 320955. 322805. 326456. 328284. 331937. 335587. 346435. 350085. 353734.\n",
      " 359183. 361016. 362865. 364714. 370163. 372013. 379262. 382928. 384794.\n",
      " 386677. 388543. 393992. 397641. 401290. 406740. 410389. 415838. 417688.\n",
      " 423141. 424990. 426840. 434089. 437738. 441388. 443237. 445086. 448736.]\n"
     ]
    }
   ],
   "source": [
    "print(angry_onsets, neutral_onsets, trial_onsets)"
   ]
  },
  {
   "cell_type": "code",
   "execution_count": 20,
   "metadata": {},
   "outputs": [
    {
     "data": {
      "text/plain": [
       "['angry_male',\n",
       " 'angry_female',\n",
       " 'angry_male',\n",
       " 'angry_female',\n",
       " 'angry_male',\n",
       " 'angry_female',\n",
       " 'neutral_male',\n",
       " 'neutral_female',\n",
       " 'neutral_male',\n",
       " 'neutral_female',\n",
       " 'neutral_male',\n",
       " 'neutral_female',\n",
       " 'neutral_male',\n",
       " 'neutral_male',\n",
       " 'neutral_female',\n",
       " 'neutral_female',\n",
       " 'neutral_male',\n",
       " 'neutral_female',\n",
       " 'angry_male',\n",
       " 'angry_male',\n",
       " 'angry_female',\n",
       " 'angry_female',\n",
       " 'angry_male',\n",
       " 'angry_female',\n",
       " 'angry_male',\n",
       " 'angry_male',\n",
       " 'angry_male',\n",
       " 'angry_female',\n",
       " 'angry_female',\n",
       " 'angry_female',\n",
       " 'neutral_male',\n",
       " 'neutral_male',\n",
       " 'neutral_male',\n",
       " 'neutral_female',\n",
       " 'neutral_female',\n",
       " 'neutral_female',\n",
       " 'angry_male',\n",
       " 'angry_female',\n",
       " 'angry_female',\n",
       " 'angry_male',\n",
       " 'angry_female',\n",
       " 'angry_male',\n",
       " 'neutral_male',\n",
       " 'neutral_female',\n",
       " 'neutral_female',\n",
       " 'neutral_male',\n",
       " 'neutral_female',\n",
       " 'neutral_male',\n",
       " 'angry_male',\n",
       " 'angry_female',\n",
       " 'angry_male',\n",
       " 'angry_female',\n",
       " 'angry_male',\n",
       " 'angry_female',\n",
       " 'neutral_male',\n",
       " 'neutral_female',\n",
       " 'neutral_male',\n",
       " 'neutral_female',\n",
       " 'neutral_male',\n",
       " 'neutral_female',\n",
       " 'angry_female',\n",
       " 'angry_male',\n",
       " 'angry_female',\n",
       " 'angry_male',\n",
       " 'angry_male',\n",
       " 'angry_female',\n",
       " 'neutral_female',\n",
       " 'neutral_male',\n",
       " 'neutral_female',\n",
       " 'neutral_male',\n",
       " 'neutral_male',\n",
       " 'neutral_female',\n",
       " 'angry_male',\n",
       " 'angry_female',\n",
       " 'angry_female',\n",
       " 'angry_female',\n",
       " 'angry_male',\n",
       " 'angry_male',\n",
       " 'neutral_male',\n",
       " 'neutral_female',\n",
       " 'neutral_female',\n",
       " 'neutral_female',\n",
       " 'neutral_male',\n",
       " 'neutral_male',\n",
       " 'angry_male',\n",
       " 'angry_female',\n",
       " 'angry_male',\n",
       " 'angry_female',\n",
       " 'angry_male',\n",
       " 'angry_female',\n",
       " 'neutral_male',\n",
       " 'neutral_female',\n",
       " 'neutral_male',\n",
       " 'neutral_female',\n",
       " 'neutral_male',\n",
       " 'neutral_female',\n",
       " 'angry_female',\n",
       " 'angry_male',\n",
       " 'angry_female',\n",
       " 'angry_female',\n",
       " 'angry_male',\n",
       " 'angry_male',\n",
       " 'neutral_female',\n",
       " 'neutral_male',\n",
       " 'neutral_female',\n",
       " 'neutral_female',\n",
       " 'neutral_male',\n",
       " 'neutral_male']"
      ]
     },
     "execution_count": 20,
     "metadata": {},
     "output_type": "execute_result"
    }
   ],
   "source": [
    "trial_types"
   ]
  },
  {
   "cell_type": "code",
   "execution_count": 24,
   "metadata": {},
   "outputs": [
    {
     "name": "stdout",
     "output_type": "stream",
     "text": [
      "619.5370370370371\n",
      "649.074074074074\n"
     ]
    }
   ],
   "source": [
    "# Responses are in 'afac1.RESP' for angry trials andnfac1.RESP for neutral trials.\n",
    "# RTs are in afac1.RT and fixa1.RT for angry trials, and\n",
    "# nfac1.RT and fixn1.RT for neutral trials.\n",
    "\n",
    "# These field are not used in tsv file generation but are useful \n",
    "# for behavioral analysis.\n",
    "\n",
    "angry_responses1 = file_df.loc[angry_trials]['afac1.RESP']\n",
    "# angry_responses2 = file_df.loc[angry_trials]['fixa1.RESP']\n",
    "angry_RT1 = file_df.loc[angry_trials]['afac1.RT']\n",
    "angry_RT2 = file_df.loc[angry_trials]['fixa1.RT']\n",
    "print(np.mean(angry_RT1))\n",
    "\n",
    "neutral_responses1 = file_df.loc[neutral_trials]['nfac1.RESP']\n",
    "# neutral_responses2 = file_df.loc[neutral_trials]['fixn1.RESP']\n",
    "neutral_RT1 = file_df.loc[neutral_trials]['nfac1.RT']\n",
    "neutral_RT2 = file_df.loc[neutral_trials]['fixn1.RT']\n",
    "print(np.mean(neutral_RT1))"
   ]
  },
  {
   "cell_type": "code",
   "execution_count": 17,
   "metadata": {},
   "outputs": [],
   "source": [
    "# Create a DataFrame to save to events file\n",
    "df = pd.DataFrame({'onset':(trial_onsets-run_start)/1000, 'duration':durations/1000, 'trial_type':trial_types})\n",
    "df.to_csv(os.path.join(datadir, tsv_files[0]), sep='\\t', float_format='%0.3f', index=False)"
   ]
  },
  {
   "cell_type": "code",
   "execution_count": null,
   "metadata": {},
   "outputs": [],
   "source": []
  }
 ],
 "metadata": {
  "kernelspec": {
   "display_name": "Python 3",
   "language": "python",
   "name": "python3"
  },
  "language_info": {
   "codemirror_mode": {
    "name": "ipython",
    "version": 3
   },
   "file_extension": ".py",
   "mimetype": "text/x-python",
   "name": "python",
   "nbconvert_exporter": "python",
   "pygments_lexer": "ipython3",
   "version": "3.6.9"
  }
 },
 "nbformat": 4,
 "nbformat_minor": 2
}
