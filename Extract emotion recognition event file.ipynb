{
 "cells": [
  {
   "cell_type": "code",
   "execution_count": 1,
   "metadata": {},
   "outputs": [],
   "source": [
    "import os\n",
    "import pandas as pd\n",
    "import numpy as np\n",
    "import glob"
   ]
  },
  {
   "cell_type": "code",
   "execution_count": 10,
   "metadata": {},
   "outputs": [],
   "source": [
    "sub = 'sub-12'\n",
    "ses = 'ses-01'\n",
    "battery = 'camcan'\n",
    "task = 'emotion-recognition'\n",
    "\n",
    "main_dir = '/home/sshankar/ibc/analysis_pipeline/ibc_main/neurospin_data/info/'\n",
    "datadir = os.path.join(main_dir, sub, battery, ses)\n",
    "os.chdir(datadir)\n",
    "csv_files = sorted(glob.glob('*' + task + '*.csv'))\n",
    "tsv_files = []\n",
    "# for i in range(len(csv_files)):\n",
    "i = 1\n",
    "tsv_files.append(task + '_' + sub + '_run-0' + str(i+1) + '.tsv')"
   ]
  },
  {
   "cell_type": "code",
   "execution_count": 23,
   "metadata": {},
   "outputs": [
    {
     "data": {
      "text/plain": [
       "['emotion-recognition_sub-05_run-02.tsv']"
      ]
     },
     "execution_count": 23,
     "metadata": {},
     "output_type": "execute_result"
    }
   ],
   "source": [
    "tsv_files"
   ]
  },
  {
   "cell_type": "code",
   "execution_count": 8,
   "metadata": {},
   "outputs": [
    {
     "data": {
      "text/plain": [
       "['extracted_emotion-recognition_sub-07_run-01_232021-152.csv',\n",
       " 'extracted_emotion-recognition_sub-07_run-02_232021-1513.csv']"
      ]
     },
     "execution_count": 8,
     "metadata": {},
     "output_type": "execute_result"
    }
   ],
   "source": [
    "csv_files"
   ]
  },
  {
   "cell_type": "code",
   "execution_count": 11,
   "metadata": {},
   "outputs": [],
   "source": [
    "file_df = pd.read_csv(os.path.join(datadir, csv_files[i]))"
   ]
  },
  {
   "cell_type": "code",
   "execution_count": 12,
   "metadata": {},
   "outputs": [],
   "source": [
    "# In the csv file extracted from the E-Prime txt file, \n",
    "# run onset is the 'GetReady.OffsetTime' column of last row, \n",
    "# and all other columns of this row are empty.\n",
    "run_start = (file_df.loc[~np.isnan(file_df['GetReady.OffsetTime'])])['GetReady.OffsetTime']\n",
    "run_start = run_start.values[0]"
   ]
  },
  {
   "cell_type": "code",
   "execution_count": 13,
   "metadata": {},
   "outputs": [
    {
     "data": {
      "text/plain": [
       "61306.0"
      ]
     },
     "execution_count": 13,
     "metadata": {},
     "output_type": "execute_result"
    }
   ],
   "source": [
    "run_start"
   ]
  },
  {
   "cell_type": "code",
   "execution_count": 14,
   "metadata": {},
   "outputs": [],
   "source": [
    "# Find the trial-related rows\n",
    "trials = ~np.isnan(file_df['afac1.OnsetTime']) | ~np.isnan(file_df['nfac1.OnsetTime'])\n",
    "angry_trials = ~np.isnan(file_df['afac1.OnsetTime'])\n",
    "neutral_trials = ~np.isnan(file_df['nfac1.OnsetTime'])"
   ]
  },
  {
   "cell_type": "code",
   "execution_count": 15,
   "metadata": {},
   "outputs": [],
   "source": [
    "# Extract the gender of the displayed face\n",
    "im = file_df.loc[trials]['image']\n",
    "gender = [\"female\" if x[0]=='f' else \"male\" for x in im]"
   ]
  },
  {
   "cell_type": "code",
   "execution_count": 16,
   "metadata": {},
   "outputs": [],
   "source": [
    "# Trial onsets are in 'afac1.OnsetTime' and 'nfac1.OnsetTime' \n",
    "# for angry and neutral trials, respectively\n",
    "angry_onsets = file_df.loc[angry_trials]['afac1.OnsetTime']\n",
    "neutral_onsets = file_df.loc[neutral_trials]['nfac1.OnsetTime']\n",
    "trial_onsets = np.sort(np.hstack((angry_onsets, neutral_onsets)))\n",
    "\n",
    "# Trial offsets are in 'afac1.OffsetTime' 'nfac1.OffsetTime'\n",
    "# for angry and neutral trials, respectively\n",
    "angry_offsets = file_df.loc[angry_trials]['afac1.OffsetTime']\n",
    "neutral_offsets = file_df.loc[neutral_trials]['nfac1.OffsetTime']\n",
    "\n",
    "# Calculate trial durations\n",
    "angry_durations = angry_offsets - angry_onsets\n",
    "neutral_durations = neutral_offsets - neutral_onsets\n",
    "durations = np.hstack((angry_durations, neutral_durations))\n",
    "\n",
    "# Finally, trial_types are in 'Emotion'\n",
    "trial_types = (file_df.loc[trials]['Emotion']).str.lower()\n",
    "trial_types = [i+'_'+j for i, j in zip(trial_types, gender)]"
   ]
  },
  {
   "cell_type": "code",
   "execution_count": 11,
   "metadata": {},
   "outputs": [
    {
     "name": "stdout",
     "output_type": "stream",
     "text": [
      "621.1481481481482\n",
      "612.2407407407408\n"
     ]
    }
   ],
   "source": [
    "# Responses are in 'afac1.RESP' for angry trials andnfac1.RESP for neutral trials.\n",
    "# RTs are in afac1.RT and fixa1.RT for angry trials, and\n",
    "# nfac1.RT and fixn1.RT for neutral trials.\n",
    "\n",
    "# These field are not used in tsv file generation but are useful \n",
    "# for behavioral analysis.\n",
    "\n",
    "angry_responses1 = file_df.loc[angry_trials]['afac1.RESP']\n",
    "# angry_responses2 = file_df.loc[angry_trials]['fixa1.RESP']\n",
    "angry_RT1 = file_df.loc[angry_trials]['afac1.RT']\n",
    "angry_RT2 = file_df.loc[angry_trials]['fixa1.RT']\n",
    "print(np.mean(angry_RT1))\n",
    "\n",
    "neutral_responses1 = file_df.loc[neutral_trials]['nfac1.RESP']\n",
    "# neutral_responses2 = file_df.loc[neutral_trials]['fixn1.RESP']\n",
    "neutral_RT1 = file_df.loc[neutral_trials]['nfac1.RT']\n",
    "neutral_RT2 = file_df.loc[neutral_trials]['fixn1.RT']\n",
    "print(np.mean(neutral_RT1))"
   ]
  },
  {
   "cell_type": "code",
   "execution_count": 17,
   "metadata": {},
   "outputs": [],
   "source": [
    "# Create a DataFrame to save to events file\n",
    "df = pd.DataFrame({'onset':(trial_onsets-run_start)/1000, 'duration':durations/1000, 'trial_type':trial_types})\n",
    "df.to_csv(os.path.join(datadir, tsv_files[0]), sep='\\t', float_format='%0.3f', index=False)"
   ]
  },
  {
   "cell_type": "code",
   "execution_count": null,
   "metadata": {},
   "outputs": [],
   "source": []
  }
 ],
 "metadata": {
  "kernelspec": {
   "display_name": "Python 3",
   "language": "python",
   "name": "python3"
  },
  "language_info": {
   "codemirror_mode": {
    "name": "ipython",
    "version": 3
   },
   "file_extension": ".py",
   "mimetype": "text/x-python",
   "name": "python",
   "nbconvert_exporter": "python",
   "pygments_lexer": "ipython3",
   "version": "3.6.9"
  }
 },
 "nbformat": 4,
 "nbformat_minor": 2
}
