{
 "cells": [
  {
   "cell_type": "code",
   "execution_count": 1,
   "metadata": {},
   "outputs": [],
   "source": [
    "import os\n",
    "import pandas as pd\n",
    "from pathlib import Path"
   ]
  },
  {
   "cell_type": "code",
   "execution_count": 2,
   "metadata": {},
   "outputs": [],
   "source": [
    "home = '/home/sshankar'\n",
    "ibc_folder = 'ibc'"
   ]
  },
  {
   "cell_type": "code",
   "execution_count": 3,
   "metadata": {},
   "outputs": [],
   "source": [
    "# The sessions.csv file contains information on which task \n",
    "# was acquired in which session\n",
    "# Use it to also get the list of subjects and sessions\n",
    "\n",
    "sessfile = os.path.join(home, ibc_folder, 'public_analysis_code/ibc_data/sessions.csv')\n",
    "sess_df = pd.read_csv(sessfile)\n",
    "subjects = sess_df.subject\n",
    "sessions = sess_df.columns[1:]"
   ]
  },
  {
   "cell_type": "code",
   "execution_count": 29,
   "metadata": {},
   "outputs": [],
   "source": [
    "# What is the task of interest?\n",
    "task = 'clips'"
   ]
  },
  {
   "cell_type": "code",
   "execution_count": 5,
   "metadata": {},
   "outputs": [
    {
     "data": {
      "text/plain": [
       "0     sub-01\n",
       "1     sub-02\n",
       "2     sub-04\n",
       "3     sub-05\n",
       "4     sub-06\n",
       "5     sub-07\n",
       "6     sub-08\n",
       "7     sub-09\n",
       "8     sub-11\n",
       "9     sub-12\n",
       "10    sub-13\n",
       "11    sub-14\n",
       "12    sub-15\n",
       "Name: subject, dtype: object"
      ]
     },
     "execution_count": 5,
     "metadata": {},
     "output_type": "execute_result"
    }
   ],
   "source": [
    "subjects"
   ]
  },
  {
   "cell_type": "code",
   "execution_count": 15,
   "metadata": {},
   "outputs": [
    {
     "data": {
      "text/plain": [
       "Index(['ses-00', 'ses-01', 'ses-02', 'ses-03', 'ses-04', 'ses-05', 'ses-06',\n",
       "       'ses-07', 'ses-08', 'ses-09', 'ses-10', 'ses-11', 'ses-12', 'ses-13',\n",
       "       'ses-14', 'ses-15', 'ses-16', 'ses-17', 'ses-18', 'ses-19', 'ses-20',\n",
       "       'ses-21', 'ses-22', 'ses-23', 'ses-24', 'ses-25', 'ses-26', 'ses-27',\n",
       "       'ses-28', 'ses-29', 'ses-30'],\n",
       "      dtype='object')"
      ]
     },
     "execution_count": 15,
     "metadata": {},
     "output_type": "execute_result"
    }
   ],
   "source": [
    "sessions"
   ]
  },
  {
   "cell_type": "code",
   "execution_count": 30,
   "metadata": {},
   "outputs": [],
   "source": [
    "# For each subject, find which sessions contain the task of interest\n",
    "task_sess = []\n",
    "\n",
    "for i in range(len(subjects)):\n",
    "    if subjects[i] in subs:\n",
    "        ser = sess_df.iloc[i,:]\n",
    "        ids = ser.str.contains(task)==True\n",
    "        sess = ser.loc[ids].keys().tolist()\n",
    "        task_sess.append(sess)"
   ]
  },
  {
   "cell_type": "code",
   "execution_count": 9,
   "metadata": {},
   "outputs": [
    {
     "data": {
      "text/plain": [
       "subject           sub-15\n",
       "ses-00         screening\n",
       "ses-01             archi\n",
       "ses-02              hcp1\n",
       "ses-03              hcp2\n",
       "ses-04     rsvp-language\n",
       "ses-05               tom\n",
       "ses-06       preferences\n",
       "ses-07            clips1\n",
       "ses-08            clips2\n",
       "ses-09            clips3\n",
       "ses-10       enumeration\n",
       "ses-11            clips4\n",
       "ses-12             anat1\n",
       "ses-13             anat2\n",
       "ses-14              mtt1\n",
       "ses-15              mtt2\n",
       "ses-16          raiders1\n",
       "ses-17             anat1\n",
       "ses-18             lyon1\n",
       "ses-19              self\n",
       "ses-20             lyon2\n",
       "ses-21            audio1\n",
       "ses-22            audio2\n",
       "ses-23         stanford1\n",
       "ses-24               NaN\n",
       "ses-25               NaN\n",
       "ses-26               NaN\n",
       "ses-27               NaN\n",
       "ses-28               NaN\n",
       "ses-29               NaN\n",
       "ses-30               NaN\n",
       "Name: 12, dtype: object"
      ]
     },
     "execution_count": 9,
     "metadata": {},
     "output_type": "execute_result"
    }
   ],
   "source": [
    "ser"
   ]
  },
  {
   "cell_type": "code",
   "execution_count": 31,
   "metadata": {},
   "outputs": [
    {
     "data": {
      "text/plain": [
       "[['ses-06', 'ses-08', 'ses-09', 'ses-11'],\n",
       " ['ses-05', 'ses-06', 'ses-07', 'ses-09'],\n",
       " ['ses-05', 'ses-06', 'ses-07', 'ses-09'],\n",
       " ['ses-05', 'ses-06', 'ses-07', 'ses-08'],\n",
       " ['ses-05', 'ses-06', 'ses-07', 'ses-08'],\n",
       " ['ses-05', 'ses-06', 'ses-07', 'ses-08'],\n",
       " ['ses-06', 'ses-07', 'ses-08', 'ses-10'],\n",
       " ['ses-04', 'ses-06', 'ses-07', 'ses-08'],\n",
       " ['ses-05', 'ses-06', 'ses-07', 'ses-08'],\n",
       " ['ses-05', 'ses-06', 'ses-07', 'ses-08'],\n",
       " ['ses-07', 'ses-08', 'ses-09', 'ses-10'],\n",
       " ['ses-07', 'ses-08', 'ses-09', 'ses-11']]"
      ]
     },
     "execution_count": 31,
     "metadata": {},
     "output_type": "execute_result"
    }
   ],
   "source": [
    "task_sess"
   ]
  },
  {
   "cell_type": "code",
   "execution_count": 17,
   "metadata": {},
   "outputs": [
    {
     "data": {
      "text/plain": [
       "[['ses-06', 'ses-08', 'ses-09', 'ses-11'],\n",
       " ['ses-07', 'ses-08', 'ses-09'],\n",
       " ['ses-05', 'ses-06', 'ses-07', 'ses-09'],\n",
       " ['ses-05', 'ses-06', 'ses-07', 'ses-09'],\n",
       " ['ses-05', 'ses-06', 'ses-07', 'ses-08'],\n",
       " ['ses-05', 'ses-06', 'ses-07', 'ses-08'],\n",
       " ['ses-05', 'ses-06', 'ses-07', 'ses-08'],\n",
       " ['ses-06', 'ses-07', 'ses-08', 'ses-10'],\n",
       " ['ses-04', 'ses-06', 'ses-07', 'ses-08'],\n",
       " ['ses-05', 'ses-06', 'ses-07', 'ses-08'],\n",
       " ['ses-05', 'ses-06', 'ses-07', 'ses-08'],\n",
       " ['ses-07', 'ses-08', 'ses-09', 'ses-10'],\n",
       " ['ses-07', 'ses-08', 'ses-09', 'ses-11']]"
      ]
     },
     "execution_count": 17,
     "metadata": {},
     "output_type": "execute_result"
    }
   ],
   "source": [
    "task_sess"
   ]
  },
  {
   "cell_type": "code",
   "execution_count": 23,
   "metadata": {},
   "outputs": [],
   "source": [
    "subs = ['sub-01', 'sub-04', 'sub-05', 'sub-06', 'sub-07', 'sub-08', \n",
    "        'sub-09', 'sub-11', 'sub-12', 'sub-13', 'sub-14', 'sub-15']\n",
    "# raiders1 = [16, 13, 13, 13, 14, 14, 14, 14, 13, 14]\n",
    "# raiders2 = [17, 14, 14, 14, 15, 15, 15, 15, 14, 15]"
   ]
  },
  {
   "cell_type": "code",
   "execution_count": 134,
   "metadata": {},
   "outputs": [],
   "source": [
    "data_dir_local = os.path.join(home, task, '3mm')\n",
    "data_dir_drago = 'sshankar@drago:/storage/store/data/ibc/3mm/'"
   ]
  },
  {
   "cell_type": "code",
   "execution_count": 135,
   "metadata": {},
   "outputs": [],
   "source": [
    "# Create directories for subjects and sessions\n",
    "for i, sub in enumerate(subjects):\n",
    "    for ses in task_sess[i]:\n",
    "        ses_path = os.path.join(data_dir_local, sub, ses)\n",
    "        if not os.path.isdir(ses_path):\n",
    "            os.makedirs(ses_path)"
   ]
  },
  {
   "cell_type": "code",
   "execution_count": 137,
   "metadata": {},
   "outputs": [],
   "source": [
    "for i, sub in enumerate(subjects):\n",
    "    for ses in task_sess[i]:\n",
    "        ses_path = os.path.join(data_dir_local, sub, ses)\n",
    "        os.chdir(ses_path)\n",
    "        remotefile = os.path.join(data_dir_drago, sub, ses, 'func/wrd*')\n",
    "        os.system('scp %s .' % (remotefile) )"
   ]
  },
  {
   "cell_type": "code",
   "execution_count": null,
   "metadata": {},
   "outputs": [],
   "source": []
  }
 ],
 "metadata": {
  "kernelspec": {
   "display_name": "Python 3",
   "language": "python",
   "name": "python3"
  },
  "language_info": {
   "codemirror_mode": {
    "name": "ipython",
    "version": 3
   },
   "file_extension": ".py",
   "mimetype": "text/x-python",
   "name": "python",
   "nbconvert_exporter": "python",
   "pygments_lexer": "ipython3",
   "version": "3.6.9"
  }
 },
 "nbformat": 4,
 "nbformat_minor": 2
}
