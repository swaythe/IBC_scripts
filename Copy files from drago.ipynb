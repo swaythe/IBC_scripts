{
 "cells": [
  {
   "cell_type": "code",
   "execution_count": 1,
   "metadata": {},
   "outputs": [],
   "source": [
    "import os\n",
    "import pandas as pd\n",
    "from pathlib import Path"
   ]
  },
  {
   "cell_type": "code",
   "execution_count": 6,
   "metadata": {},
   "outputs": [],
   "source": [
    "home = '/home/sshankar'\n",
    "ibc_folder = 'ibc'"
   ]
  },
  {
   "cell_type": "code",
   "execution_count": 122,
   "metadata": {},
   "outputs": [],
   "source": [
    "# The sessions.csv file contains information on which task \n",
    "# was acquired in which session\n",
    "# Use it to also get the list of subjects and sessions\n",
    "\n",
    "sessfile = os.path.join(home, ibc_folder, 'public_analysis_code/ibc_data/sessions.csv')\n",
    "sess_df = pd.read_csv(sessfile)\n",
    "subjects = sess_df.subject\n",
    "sessions = sess_df.columns[1:]"
   ]
  },
  {
   "cell_type": "code",
   "execution_count": 119,
   "metadata": {},
   "outputs": [],
   "source": [
    "# What is the task of interest?\n",
    "task = 'clips'"
   ]
  },
  {
   "cell_type": "code",
   "execution_count": 127,
   "metadata": {},
   "outputs": [],
   "source": [
    "# For each subject, find which sessions contain the task of interest\n",
    "task_sess = []\n",
    "\n",
    "for i in range(len(subjects)):\n",
    "    ser = sess_df.iloc[i,:]\n",
    "    ids = ser.str.contains(task)==True\n",
    "    sess = ser.loc[ids].keys().tolist()\n",
    "    task_sess.append(sess)"
   ]
  },
  {
   "cell_type": "code",
   "execution_count": 128,
   "metadata": {},
   "outputs": [
    {
     "data": {
      "text/plain": [
       "[['ses-06', 'ses-08', 'ses-09', 'ses-11'],\n",
       " ['ses-07', 'ses-08', 'ses-09'],\n",
       " ['ses-05', 'ses-06', 'ses-07', 'ses-09'],\n",
       " ['ses-05', 'ses-06', 'ses-07', 'ses-09'],\n",
       " ['ses-05', 'ses-06', 'ses-07', 'ses-08'],\n",
       " ['ses-05', 'ses-06', 'ses-07', 'ses-08'],\n",
       " ['ses-05', 'ses-06', 'ses-07', 'ses-08'],\n",
       " ['ses-06', 'ses-07', 'ses-08', 'ses-10'],\n",
       " ['ses-04', 'ses-06', 'ses-07', 'ses-08'],\n",
       " ['ses-05', 'ses-06', 'ses-07', 'ses-08'],\n",
       " ['ses-05', 'ses-06', 'ses-07', 'ses-08'],\n",
       " ['ses-07', 'ses-08', 'ses-09', 'ses-10'],\n",
       " ['ses-07', 'ses-08', 'ses-09', 'ses-11']]"
      ]
     },
     "execution_count": 128,
     "metadata": {},
     "output_type": "execute_result"
    }
   ],
   "source": [
    "task_sess"
   ]
  },
  {
   "cell_type": "code",
   "execution_count": 2,
   "metadata": {},
   "outputs": [],
   "source": [
    "subs = ['sub-01', 'sub-04', 'sub-05', 'sub-06', 'sub-07', 'sub-09', 'sub-11', 'sub-12', 'sub-13', 'sub-14']\n",
    "# raiders1 = [16, 13, 13, 13, 14, 14, 14, 14, 13, 14]\n",
    "# raiders2 = [17, 14, 14, 14, 15, 15, 15, 15, 14, 15]"
   ]
  },
  {
   "cell_type": "code",
   "execution_count": 134,
   "metadata": {},
   "outputs": [],
   "source": [
    "data_dir_local = os.path.join(home, task, '3mm')\n",
    "data_dir_drago = 'sshankar@drago:/storage/store/data/ibc/3mm/'"
   ]
  },
  {
   "cell_type": "code",
   "execution_count": 135,
   "metadata": {},
   "outputs": [],
   "source": [
    "# Create directories for subjects and sessions\n",
    "for i, sub in enumerate(subjects):\n",
    "    for ses in task_sess[i]:\n",
    "        ses_path = os.path.join(data_dir_local, sub, ses)\n",
    "        if not os.path.isdir(ses_path):\n",
    "            os.makedirs(ses_path)"
   ]
  },
  {
   "cell_type": "code",
   "execution_count": 137,
   "metadata": {},
   "outputs": [],
   "source": [
    "for i, sub in enumerate(subjects):\n",
    "    for ses in task_sess[i]:\n",
    "        ses_path = os.path.join(data_dir_local, sub, ses)\n",
    "        os.chdir(ses_path)\n",
    "        remotefile = os.path.join(data_dir_drago, sub, ses, 'func/wrd*')\n",
    "        os.system('scp %s .' % (remotefile) )"
   ]
  },
  {
   "cell_type": "code",
   "execution_count": null,
   "metadata": {},
   "outputs": [],
   "source": []
  }
 ],
 "metadata": {
  "kernelspec": {
   "display_name": "Python 3",
   "language": "python",
   "name": "python3"
  },
  "language_info": {
   "codemirror_mode": {
    "name": "ipython",
    "version": 3
   },
   "file_extension": ".py",
   "mimetype": "text/x-python",
   "name": "python",
   "nbconvert_exporter": "python",
   "pygments_lexer": "ipython3",
   "version": "3.6.8"
  }
 },
 "nbformat": 4,
 "nbformat_minor": 2
}
