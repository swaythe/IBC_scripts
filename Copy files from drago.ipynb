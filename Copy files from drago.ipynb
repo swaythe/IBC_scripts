{
 "cells": [
  {
   "cell_type": "code",
   "execution_count": 1,
   "metadata": {},
   "outputs": [],
   "source": [
    "import os\n",
    "import pandas as pd\n",
    "from pathlib import Path"
   ]
  },
  {
   "cell_type": "code",
   "execution_count": 2,
   "metadata": {},
   "outputs": [],
   "source": [
    "home = '/home/sshankar'\n",
    "ibc_folder = 'ibc'"
   ]
  },
  {
   "cell_type": "code",
   "execution_count": 3,
   "metadata": {},
   "outputs": [],
   "source": [
    "# The sessions.csv file contains information on which task \n",
    "# was acquired in which session\n",
    "# Use it to also get the list of subjects and sessions\n",
    "\n",
    "sessfile = os.path.join(home, ibc_folder, 'public_analysis_code/ibc_data/sessions.csv')\n",
    "sess_df = pd.read_csv(sessfile)\n",
    "subjects = sess_df.subject\n",
    "sessions = sess_df.columns[1:]"
   ]
  },
  {
   "cell_type": "code",
   "execution_count": 4,
   "metadata": {},
   "outputs": [],
   "source": [
    "# What is the task of interest?\n",
    "task = 'raiders'"
   ]
  },
  {
   "cell_type": "code",
   "execution_count": 5,
   "metadata": {},
   "outputs": [
    {
     "data": {
      "text/plain": [
       "0     sub-01\n",
       "1     sub-02\n",
       "2     sub-04\n",
       "3     sub-05\n",
       "4     sub-06\n",
       "5     sub-07\n",
       "6     sub-08\n",
       "7     sub-09\n",
       "8     sub-11\n",
       "9     sub-12\n",
       "10    sub-13\n",
       "11    sub-14\n",
       "12    sub-15\n",
       "Name: subject, dtype: object"
      ]
     },
     "execution_count": 5,
     "metadata": {},
     "output_type": "execute_result"
    }
   ],
   "source": [
    "subjects"
   ]
  },
  {
   "cell_type": "code",
   "execution_count": 5,
   "metadata": {},
   "outputs": [],
   "source": [
    "# For each subject, find which sessions contain the task of interest\n",
    "task_sess = []\n",
    "\n",
    "for i in range(len(subjects)):\n",
    "#     if subjects[i] in subs:\n",
    "    ser = sess_df.iloc[i,:]\n",
    "    ids = ser.str.contains(task)==True\n",
    "    sess = ser.loc[ids].keys().tolist()\n",
    "    task_sess.append(sess)"
   ]
  },
  {
   "cell_type": "code",
   "execution_count": 6,
   "metadata": {},
   "outputs": [
    {
     "data": {
      "text/plain": [
       "[['ses-16', 'ses-17'],\n",
       " [],\n",
       " ['ses-13', 'ses-14'],\n",
       " ['ses-13', 'ses-14'],\n",
       " ['ses-13', 'ses-14'],\n",
       " ['ses-13', 'ses-14'],\n",
       " [],\n",
       " ['ses-14', 'ses-15'],\n",
       " ['ses-13', 'ses-14', 'ses-15'],\n",
       " ['ses-13', 'ses-14', 'ses-15'],\n",
       " ['ses-13', 'ses-14'],\n",
       " ['ses-14', 'ses-15'],\n",
       " ['ses-16', 'ses-17']]"
      ]
     },
     "execution_count": 6,
     "metadata": {},
     "output_type": "execute_result"
    }
   ],
   "source": [
    "task_sess"
   ]
  },
  {
   "cell_type": "code",
   "execution_count": 7,
   "metadata": {},
   "outputs": [],
   "source": [
    "data_dir_local = os.path.join(home, task, 'derivatives')\n",
    "data_dir_drago = 'sshankar@drago:/storage/store/data/ibc/derivatives/'\n",
    "events_dir_drago = 'sshankar@drago:/storage/store/data/ibc/sourcedata/'"
   ]
  },
  {
   "cell_type": "code",
   "execution_count": 9,
   "metadata": {},
   "outputs": [],
   "source": [
    "# Create directories for subjects and sessions\n",
    "for i, sub in enumerate(subjects):\n",
    "    for ses in task_sess[i]:\n",
    "        ses_path = os.path.join(data_dir_local, sub, ses)\n",
    "        if not os.path.isdir(ses_path):\n",
    "            os.makedirs(ses_path)"
   ]
  },
  {
   "cell_type": "code",
   "execution_count": 9,
   "metadata": {},
   "outputs": [],
   "source": [
    "# To copy data files\n",
    "# for i, sub in enumerate(subjects):\n",
    "for i in range(8,13):\n",
    "    sub = subjects[i]\n",
    "    for ses in task_sess[i]:\n",
    "        ses_path = os.path.join(data_dir_local, sub, ses)\n",
    "        os.chdir(ses_path)\n",
    "        remote_data_file = os.path.join(data_dir_drago, sub, ses, 'func/wrdc*')\n",
    "        os.system('scp %s .' % (remote_data_file) )"
   ]
  },
  {
   "cell_type": "code",
   "execution_count": 10,
   "metadata": {},
   "outputs": [],
   "source": [
    "# To copy events files\n",
    "for i, sub in enumerate(subjects):\n",
    "    for ses in task_sess[i]:\n",
    "        ses_path = os.path.join(data_dir_local, sub, ses)\n",
    "        os.chdir(ses_path)\n",
    "        remote_data_file = os.path.join(events_dir_drago, sub, ses, 'func/*tsv')\n",
    "        os.system('scp %s .' % (remote_data_file) )"
   ]
  },
  {
   "cell_type": "code",
   "execution_count": null,
   "metadata": {},
   "outputs": [],
   "source": []
  }
 ],
 "metadata": {
  "kernelspec": {
   "display_name": "Python 3",
   "language": "python",
   "name": "python3"
  },
  "language_info": {
   "codemirror_mode": {
    "name": "ipython",
    "version": 3
   },
   "file_extension": ".py",
   "mimetype": "text/x-python",
   "name": "python",
   "nbconvert_exporter": "python",
   "pygments_lexer": "ipython3",
   "version": "3.6.9"
  }
 },
 "nbformat": 4,
 "nbformat_minor": 2
}
