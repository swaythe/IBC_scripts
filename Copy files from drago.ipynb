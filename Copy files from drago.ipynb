{
 "cells": [
  {
   "cell_type": "code",
   "execution_count": 1,
   "metadata": {},
   "outputs": [],
   "source": [
    "import os\n",
    "import pandas as pd\n",
    "from pathlib import Path"
   ]
  },
  {
   "cell_type": "code",
   "execution_count": 2,
   "metadata": {},
   "outputs": [],
   "source": [
    "home = '/home/sshankar'\n",
    "ibc_folder = 'ibc'"
   ]
  },
  {
   "cell_type": "code",
   "execution_count": 3,
   "metadata": {},
   "outputs": [],
   "source": [
    "# The sessions.csv file contains information on which task \n",
    "# was acquired in which session\n",
    "# Use it to also get the list of subjects and sessions\n",
    "\n",
    "sessfile = os.path.join(home, ibc_folder, 'public_analysis_code/ibc_data/sessions.csv')\n",
    "sess_df = pd.read_csv(sessfile)\n",
    "subjects = sess_df.subject\n",
    "sessions = sess_df.columns[1:]"
   ]
  },
  {
   "cell_type": "code",
   "execution_count": 4,
   "metadata": {},
   "outputs": [],
   "source": [
    "# What is the task of interest?\n",
    "task = 'hcp1'"
   ]
  },
  {
   "cell_type": "code",
   "execution_count": 5,
   "metadata": {
    "scrolled": true
   },
   "outputs": [
    {
     "data": {
      "text/plain": [
       "0     sub-01\n",
       "1     sub-02\n",
       "2     sub-04\n",
       "3     sub-05\n",
       "4     sub-06\n",
       "5     sub-07\n",
       "6     sub-08\n",
       "7     sub-09\n",
       "8     sub-11\n",
       "9     sub-12\n",
       "10    sub-13\n",
       "11    sub-14\n",
       "12    sub-15\n",
       "Name: subject, dtype: object"
      ]
     },
     "execution_count": 5,
     "metadata": {},
     "output_type": "execute_result"
    }
   ],
   "source": [
    "subjects"
   ]
  },
  {
   "cell_type": "code",
   "execution_count": 5,
   "metadata": {},
   "outputs": [],
   "source": [
    "# For each subject, find which sessions contain the task of interest\n",
    "task_sess = []\n",
    "\n",
    "for i in range(len(subjects)):\n",
    "#     if subjects[i] in subs:\n",
    "    ser = sess_df.iloc[i,:]\n",
    "    ids = ser.str.contains(task)==True\n",
    "    sess = ser.loc[ids].keys().tolist()\n",
    "    task_sess.append(sess)"
   ]
  },
  {
   "cell_type": "code",
   "execution_count": null,
   "metadata": {},
   "outputs": [],
   "source": [
    "task_sess"
   ]
  },
  {
   "cell_type": "code",
   "execution_count": null,
   "metadata": {},
   "outputs": [],
   "source": [
    "# Some subjects have an extra session. If so, ignore the first session.\n",
    "# Number of sessions per task\n",
    "if task=='raiders':\n",
    "    nsess = 2\n",
    "elif task=='clips':\n",
    "    nsess = 3\n",
    "\n",
    "new_tsess = []\n",
    "for s in range(len(task_sess)):\n",
    "    if len(task_sess[s]) > nsess:\n",
    "        l = len(task_sess[s])\n",
    "        new_tsess.append(task_sess[s][l-nsess:])\n",
    "    else:\n",
    "        new_tsess.append(task_sess[s])"
   ]
  },
  {
   "cell_type": "code",
   "execution_count": 6,
   "metadata": {},
   "outputs": [],
   "source": [
    "new_tsess = task_sess"
   ]
  },
  {
   "cell_type": "code",
   "execution_count": 9,
   "metadata": {},
   "outputs": [],
   "source": [
    "# Some useful directories\n",
    "data_dir_local = os.path.join(home, task, 'sourcedata')\n",
    "data_dir_drago = 'sshankar@drago:/storage/store/data/ibc/derivatives/'\n",
    "events_dir_drago = 'sshankar@drago:/storage/store/data/ibc/sourcedata/'\n",
    "fmap_dir_drago = 'sshankar@drago:/storage/store/data/ibc/sourcedata/'"
   ]
  },
  {
   "cell_type": "code",
   "execution_count": null,
   "metadata": {},
   "outputs": [],
   "source": [
    "# Create directories for subjects and sessions\n",
    "for i, sub in enumerate(subjects):\n",
    "    for ses in new_tsess[i]:\n",
    "        ses_path = os.path.join(data_dir_local, sub, ses)\n",
    "        if not os.path.isdir(ses_path):\n",
    "            os.makedirs(ses_path)"
   ]
  },
  {
   "cell_type": "code",
   "execution_count": null,
   "metadata": {},
   "outputs": [],
   "source": [
    "# To copy data files\n",
    "for i, sub in enumerate(subjects):\n",
    "    for ses in new_tsess[i]:\n",
    "        ses_path = os.path.join(data_dir_local, sub, ses)\n",
    "        os.chdir(ses_path)\n",
    "        remote_data_file = os.path.join(data_dir_drago, sub, ses, 'func/dc*')\n",
    "#             remote_data_file = os.path.join(data_dir_drago, sub, ses, 'anat/*nii.gz')\n",
    "        os.system('scp %s .' % (remote_data_file) )"
   ]
  },
  {
   "cell_type": "code",
   "execution_count": 9,
   "metadata": {},
   "outputs": [],
   "source": [
    "# To copy events files\n",
    "for i, sub in enumerate(subjects):\n",
    "    for ses in new_tsess[i]:\n",
    "        ses_path = os.path.join(data_dir_local, sub, ses)\n",
    "        os.chdir(ses_path)\n",
    "        remote_data_file = os.path.join(events_dir_drago, sub, ses, 'func/*tsv')\n",
    "        os.system('scp %s .' % (remote_data_file) )"
   ]
  },
  {
   "cell_type": "code",
   "execution_count": 10,
   "metadata": {},
   "outputs": [],
   "source": [
    "# To copy fmap files\n",
    "for i, sub in enumerate(subjects):\n",
    "    if i < 5:\n",
    "        for ses in new_tsess[i]:\n",
    "            ses_path = os.path.join(data_dir_local, sub, ses, 'fmap')\n",
    "            os.chdir(ses_path)\n",
    "            remote_data_file = os.path.join(events_dir_drago, sub, ses, 'fmap/*dir*epi*gz')\n",
    "            os.system('scp %s .' % (remote_data_file) )"
   ]
  },
  {
   "cell_type": "code",
   "execution_count": null,
   "metadata": {},
   "outputs": [],
   "source": [
    "# To copy movement parameter files\n",
    "# for i, sub in enumerate(subjects):\n",
    "i=12\n",
    "sub = subjects[i]\n",
    "for ses in new_tsess[i]:\n",
    "    ses_path = os.path.join(data_dir_local, sub, ses)\n",
    "    os.chdir(ses_path)\n",
    "    remote_data_file = os.path.join(data_dir_drago, sub, ses, 'func/rp*txt')\n",
    "    os.system('scp %s .' % (remote_data_file) )"
   ]
  },
  {
   "cell_type": "code",
   "execution_count": null,
   "metadata": {},
   "outputs": [],
   "source": [
    "# To move from one local directory to another\n",
    "data_dir_from = os.path.join(home, task, 'derivatives')\n",
    "data_dir_to = os.path.join(home, task, '3mm')\n",
    "for i, sub in enumerate(subjects):\n",
    "    for ses in task_sess[i]:\n",
    "        ses_path = os.path.join(data_dir_to, sub, ses)\n",
    "        if os.path.isdir(ses_path):\n",
    "            os.chdir(ses_path)\n",
    "            remote_data_file = os.path.join(data_dir_from, sub, ses, 'rp*txt')\n",
    "            os.system('mv %s .' % (remote_data_file) )"
   ]
  },
  {
   "cell_type": "code",
   "execution_count": null,
   "metadata": {},
   "outputs": [],
   "source": []
  }
 ],
 "metadata": {
  "kernelspec": {
   "display_name": "Python 3",
   "language": "python",
   "name": "python3"
  },
  "language_info": {
   "codemirror_mode": {
    "name": "ipython",
    "version": 3
   },
   "file_extension": ".py",
   "mimetype": "text/x-python",
   "name": "python",
   "nbconvert_exporter": "python",
   "pygments_lexer": "ipython3",
   "version": "3.6.9"
  }
 },
 "nbformat": 4,
 "nbformat_minor": 2
}
