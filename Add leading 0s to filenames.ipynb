{
 "cells": [
  {
   "cell_type": "code",
   "execution_count": 30,
   "metadata": {},
   "outputs": [],
   "source": [
    "# This script replaces the numbers in file names with\n",
    "# zero-padded numbers, so sorting provides the correct order\n",
    "import os\n",
    "import glob"
   ]
  },
  {
   "cell_type": "code",
   "execution_count": 60,
   "metadata": {},
   "outputs": [],
   "source": [
    "home = '/home/sshankar'\n",
    "task = 'clips/3mm'\n",
    "last_bit = 'modl/no_atlas/ncomp_200/components/'\n",
    "\n",
    "zfill_no = 3\n",
    "\n",
    "fpattern = 'component*.nii.gz'\n",
    "\n",
    "fdir = os.path.join(home, task, last_bit)"
   ]
  },
  {
   "cell_type": "code",
   "execution_count": 61,
   "metadata": {},
   "outputs": [],
   "source": [
    "os.chdir(fdir)\n",
    "files = glob.glob(fpattern)"
   ]
  },
  {
   "cell_type": "code",
   "execution_count": 62,
   "metadata": {},
   "outputs": [],
   "source": [
    "# The character preceding the number is usually a '-'\n",
    "# while the extension typically follows the number\n",
    "for i, file in enumerate(files):\n",
    "    p1 = file.find('-')\n",
    "    p2 = file.find('.nii')\n",
    "    fno = file[p1+1:p2].zfill(zfill_no)\n",
    "    new_fname = file[0:p1+1] + fno + file[p2:]\n",
    "    os.rename(file, new_fname)"
   ]
  },
  {
   "cell_type": "code",
   "execution_count": null,
   "metadata": {},
   "outputs": [],
   "source": []
  }
 ],
 "metadata": {
  "kernelspec": {
   "display_name": "Python 3",
   "language": "python",
   "name": "python3"
  },
  "language_info": {
   "codemirror_mode": {
    "name": "ipython",
    "version": 3
   },
   "file_extension": ".py",
   "mimetype": "text/x-python",
   "name": "python",
   "nbconvert_exporter": "python",
   "pygments_lexer": "ipython3",
   "version": "3.6.9"
  }
 },
 "nbformat": 4,
 "nbformat_minor": 2
}
