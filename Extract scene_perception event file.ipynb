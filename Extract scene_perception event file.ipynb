{
 "cells": [
  {
   "cell_type": "code",
   "execution_count": 2,
   "metadata": {},
   "outputs": [],
   "source": [
    "import os\n",
    "import pandas as pd\n",
    "import numpy as np\n",
    "import glob"
   ]
  },
  {
   "cell_type": "code",
   "execution_count": 29,
   "metadata": {},
   "outputs": [],
   "source": [
    "sub = 'sub-05'\n",
    "folder = 'scene_perception'\n",
    "task = 'scene-perception'\n",
    "\n",
    "main_dir = '/home/sshankar/ibc/analysis_pipeline/ibc_main/neurospin_data/info/'\n",
    "datadir = os.path.join(main_dir, sub, folder)\n",
    "os.chdir(datadir)\n",
    "csv_files = sorted(glob.glob('*' + task + '*.csv'))\n",
    "tsv_files = []\n",
    "i = 1\n",
    "tsv_files.append(task + '_' + sub + '_run-0' + str(i+1) + '.tsv')"
   ]
  },
  {
   "cell_type": "code",
   "execution_count": 30,
   "metadata": {},
   "outputs": [],
   "source": [
    "file_df = pd.read_csv(os.path.join(datadir, csv_files[i]))"
   ]
  },
  {
   "cell_type": "code",
   "execution_count": 31,
   "metadata": {},
   "outputs": [],
   "source": [
    "# In the csv file extracted from the E-Prime txt file, \n",
    "# run onset is the 'GetReady.OffsetTime' column of last row, \n",
    "# and all other columns of this row are empty.\n",
    "run_start = (file_df.loc[~np.isnan(file_df['Fix.OnsetTime'])])['Fix.OnsetTime']\n",
    "run_start = run_start.values[0]"
   ]
  },
  {
   "cell_type": "code",
   "execution_count": 32,
   "metadata": {},
   "outputs": [
    {
     "data": {
      "text/plain": [
       "52088.0"
      ]
     },
     "execution_count": 32,
     "metadata": {},
     "output_type": "execute_result"
    }
   ],
   "source": [
    "run_start"
   ]
  },
  {
   "cell_type": "code",
   "execution_count": 33,
   "metadata": {},
   "outputs": [
    {
     "name": "stderr",
     "output_type": "stream",
     "text": [
      "/home/sshankar/.local/lib/python3.6/site-packages/ipykernel_launcher.py:15: SettingWithCopyWarning: \n",
      "A value is trying to be set on a copy of a slice from a DataFrame\n",
      "\n",
      "See the caveats in the documentation: http://pandas.pydata.org/pandas-docs/stable/user_guide/indexing.html#returning-a-view-versus-a-copy\n",
      "  from ipykernel import kernelapp as app\n",
      "/home/sshankar/.local/lib/python3.6/site-packages/ipykernel_launcher.py:16: SettingWithCopyWarning: \n",
      "A value is trying to be set on a copy of a slice from a DataFrame\n",
      "\n",
      "See the caveats in the documentation: http://pandas.pydata.org/pandas-docs/stable/user_guide/indexing.html#returning-a-view-versus-a-copy\n",
      "  app.launch_new_instance()\n",
      "/home/sshankar/.local/lib/python3.6/site-packages/ipykernel_launcher.py:17: SettingWithCopyWarning: \n",
      "A value is trying to be set on a copy of a slice from a DataFrame\n",
      "\n",
      "See the caveats in the documentation: http://pandas.pydata.org/pandas-docs/stable/user_guide/indexing.html#returning-a-view-versus-a-copy\n",
      "/home/sshankar/.local/lib/python3.6/site-packages/ipykernel_launcher.py:18: SettingWithCopyWarning: \n",
      "A value is trying to be set on a copy of a slice from a DataFrame\n",
      "\n",
      "See the caveats in the documentation: http://pandas.pydata.org/pandas-docs/stable/user_guide/indexing.html#returning-a-view-versus-a-copy\n",
      "/home/sshankar/.local/lib/python3.6/site-packages/ipykernel_launcher.py:19: SettingWithCopyWarning: \n",
      "A value is trying to be set on a copy of a slice from a DataFrame\n",
      "\n",
      "See the caveats in the documentation: http://pandas.pydata.org/pandas-docs/stable/user_guide/indexing.html#returning-a-view-versus-a-copy\n",
      "/home/sshankar/.local/lib/python3.6/site-packages/ipykernel_launcher.py:20: SettingWithCopyWarning: \n",
      "A value is trying to be set on a copy of a slice from a DataFrame\n",
      "\n",
      "See the caveats in the documentation: http://pandas.pydata.org/pandas-docs/stable/user_guide/indexing.html#returning-a-view-versus-a-copy\n",
      "/home/sshankar/.local/lib/python3.6/site-packages/ipykernel_launcher.py:21: SettingWithCopyWarning: \n",
      "A value is trying to be set on a copy of a slice from a DataFrame\n",
      "\n",
      "See the caveats in the documentation: http://pandas.pydata.org/pandas-docs/stable/user_guide/indexing.html#returning-a-view-versus-a-copy\n",
      "/home/sshankar/.local/lib/python3.6/site-packages/ipykernel_launcher.py:22: SettingWithCopyWarning: \n",
      "A value is trying to be set on a copy of a slice from a DataFrame\n",
      "\n",
      "See the caveats in the documentation: http://pandas.pydata.org/pandas-docs/stable/user_guide/indexing.html#returning-a-view-versus-a-copy\n",
      "/home/sshankar/.local/lib/python3.6/site-packages/ipykernel_launcher.py:23: SettingWithCopyWarning: \n",
      "A value is trying to be set on a copy of a slice from a DataFrame\n",
      "\n",
      "See the caveats in the documentation: http://pandas.pydata.org/pandas-docs/stable/user_guide/indexing.html#returning-a-view-versus-a-copy\n",
      "/home/sshankar/.local/lib/python3.6/site-packages/ipykernel_launcher.py:24: SettingWithCopyWarning: \n",
      "A value is trying to be set on a copy of a slice from a DataFrame\n",
      "\n",
      "See the caveats in the documentation: http://pandas.pydata.org/pandas-docs/stable/user_guide/indexing.html#returning-a-view-versus-a-copy\n",
      "/home/sshankar/.local/lib/python3.6/site-packages/ipykernel_launcher.py:25: SettingWithCopyWarning: \n",
      "A value is trying to be set on a copy of a slice from a DataFrame\n",
      "\n",
      "See the caveats in the documentation: http://pandas.pydata.org/pandas-docs/stable/user_guide/indexing.html#returning-a-view-versus-a-copy\n"
     ]
    }
   ],
   "source": [
    "# There are 3 events per trial: Fix, Stimulus, ITI. Each trial has all 3 events\n",
    "# Fix onsets are in Fix.OnsetTime\n",
    "fix_onsets = (file_df.loc[~np.isnan(file_df['Fix.OnsetTime'])])['Fix.OnsetTime']\n",
    "n_trials = len(fix_onsets)\n",
    "fix_types = ['fix'] * n_trials \n",
    "\n",
    "# Stimulus onsets are in 'Stimulus.OnsetTime'\n",
    "stim_onsets = (file_df.loc[~np.isnan(file_df['Stimulus.OnsetTime'])])['Stimulus.OnsetTime']\n",
    "fix_durations = (stim_onsets - fix_onsets)/1000\n",
    "\n",
    "# Trial_types are in 'Condition'\n",
    "stim_types = (file_df.loc[~np.isnan(file_df['Stimulus.OnsetTime'])])['Condition']\n",
    "accuracy = (file_df.loc[~np.isnan(file_df['Stimulus.OnsetTime'])])['Stimulus.ACC']\n",
    "stim_types[np.logical_and(stim_types=='scn_pos', accuracy==1)] = 'scene_possible_correct'\n",
    "stim_types[np.logical_and(stim_types=='scn_pos', accuracy==0)] = 'scene_possible_incorrect'\n",
    "stim_types[np.logical_and(stim_types=='scn_imp', accuracy==1)] = 'scene_impossible_correct'\n",
    "stim_types[np.logical_and(stim_types=='scn_imp', accuracy==0)] = 'scene_impossible_incorrect'\n",
    "stim_types[np.logical_and(stim_types=='dot_pos_l', accuracy==1)] = 'dot_easy_left_correct'\n",
    "stim_types[np.logical_and(stim_types=='dot_pos_r', accuracy==1)] = 'dot_easy_right_correct'\n",
    "stim_types[np.logical_and(stim_types=='dot_pos_l', accuracy==0)] = 'dot_easy_left_incorrect'\n",
    "stim_types[np.logical_and(stim_types=='dot_pos_r', accuracy==0)] = 'dot_easy_right_incorrect'\n",
    "stim_types[np.logical_and(stim_types=='dot_imp_l', accuracy==1)] = 'dot_hard_left_correct'\n",
    "stim_types[np.logical_and(stim_types=='dot_imp_r', accuracy==1)] = 'dot_hard_right_correct'\n",
    "stim_types[np.logical_and(stim_types=='dot_imp_l', accuracy==0)] = 'dot_hard_left_incorrect'\n",
    "stim_types[np.logical_and(stim_types=='dot_imp_r', accuracy==0)] = 'dot_hard_right_incorrect'\n",
    "\n",
    "# In this task, stimulus/trial durations are 5 s\n",
    "stim_durations = np.ones(n_trials) * 5\n",
    "\n",
    "# ITI onsets are in ITI.OnsetTime\n",
    "iti_onsets = (file_df.loc[~np.isnan(file_df['ITI.OnsetTime'])])['ITI.OnsetTime']\n",
    "iti_durations = (file_df.loc[~np.isnan(file_df['ITI.OnsetTime'])])['ITI']\n",
    "iti_durations = iti_durations/1000\n",
    "iti_types = ['iti'] * n_trials"
   ]
  },
  {
   "cell_type": "code",
   "execution_count": 34,
   "metadata": {},
   "outputs": [],
   "source": [
    "# Interleave the onsets, durations and types of the 3 events\n",
    "onsets_list = [fix_onsets, stim_onsets, iti_onsets]\n",
    "onsets = [val for tup in zip(*onsets_list) for val in tup]\n",
    "\n",
    "durations_list = [fix_durations, stim_durations, iti_durations]\n",
    "durations = [val for tup in zip(*durations_list) for val in tup]\n",
    "\n",
    "types_list = [fix_types, stim_types, iti_types]\n",
    "trial_types = [val for tup in zip(*types_list) for val in tup]"
   ]
  },
  {
   "cell_type": "code",
   "execution_count": 35,
   "metadata": {},
   "outputs": [],
   "source": [
    "# Create a DataFrame to save to events file\n",
    "df = pd.DataFrame({'onset':(onsets-run_start)/1000, 'duration':durations, 'trial_type':trial_types})\n",
    "df.to_csv(os.path.join(datadir, tsv_files[0]), sep='\\t', float_format='%0.3f', index=False)"
   ]
  },
  {
   "cell_type": "code",
   "execution_count": null,
   "metadata": {},
   "outputs": [],
   "source": []
  }
 ],
 "metadata": {
  "kernelspec": {
   "display_name": "Python 3",
   "language": "python",
   "name": "python3"
  },
  "language_info": {
   "codemirror_mode": {
    "name": "ipython",
    "version": 3
   },
   "file_extension": ".py",
   "mimetype": "text/x-python",
   "name": "python",
   "nbconvert_exporter": "python",
   "pygments_lexer": "ipython3",
   "version": "3.6.9"
  }
 },
 "nbformat": 4,
 "nbformat_minor": 2
}
