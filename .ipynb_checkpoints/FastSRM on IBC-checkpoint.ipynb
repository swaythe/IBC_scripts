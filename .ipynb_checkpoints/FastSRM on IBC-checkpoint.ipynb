{
 "cells": [
  {
   "cell_type": "code",
   "execution_count": 1,
   "metadata": {},
   "outputs": [
    {
     "name": "stderr",
     "output_type": "stream",
     "text": [
      "/volatile/sshankar/fastsrm_env/lib/python3.6/site-packages/sklearn/externals/joblib/__init__.py:15: DeprecationWarning: sklearn.externals.joblib is deprecated in 0.21 and will be removed in 0.23. Please import this functionality directly from joblib, which can be installed with: pip install joblib. If this warning is raised when loading pickled models, you may need to re-serialize those models with scikit-learn 0.21+.\n",
      "  warnings.warn(msg, category=DeprecationWarning)\n"
     ]
    }
   ],
   "source": [
    "from nilearn.input_data import NiftiMasker, MultiNiftiMasker\n",
    "from fastsrm.fastsrm import FastSRM\n",
    "from fastsrm import fastsrm\n",
    "import matplotlib.pyplot as plt\n",
    "from nilearn import image\n",
    "from nilearn import plotting\n",
    "import os\n",
    "import glob\n",
    "import numpy as np\n",
    "from nilearn.image import new_img_like\n",
    "import ibc_public\n",
    "import nibabel as nib\n",
    "\n",
    "%matplotlib inline"
   ]
  },
  {
   "cell_type": "code",
   "execution_count": 2,
   "metadata": {},
   "outputs": [],
   "source": [
    "# Specify the mask image\n",
    "_package_directory = os.path.dirname(os.path.abspath(ibc_public.__file__))\n",
    "mask_gm = nib.load(os.path.join(_package_directory, '../ibc_data', 'gm_mask_3mm.nii.gz'))"
   ]
  },
  {
   "cell_type": "code",
   "execution_count": 3,
   "metadata": {},
   "outputs": [],
   "source": [
    "# Do this for a previously unused atlas. \n",
    "# Else, you should have a .npy file saved from before, and you can just load it.\n",
    "# The transform() funtion takes a few minutes to run so don't run it \n",
    "# unless you absolutely need to.\n",
    "\n",
    "# Now, a bit of shape shifting to make the atlas compatible with\n",
    "# what fastsrm.reduce_data() requires.\n",
    "# 1. Add a 4th dimension to the 3D atlas. The 4th dimension will have as many\n",
    "#   elements as atlas parcesl (444, in this case)\n",
    "# 2. The 3D \"volume\" pertaining to each 4th dimension will contain 1 in the\n",
    "#   \"voxel\" for that parcel and 0 otherwise\n",
    "# 3. Apply the atlas masker set up previously to transform the new 4D atlas\n",
    "#   into 2D, with n_voxel rows and n_parcel columns,\n",
    "#   where n_voxel is the number of voxels in the transformed image matrix\n",
    "# 4. Reduce the 2D atlas matrix to 1D by using the argmax function along the\n",
    "#   column dimension. Now, the transformed atlas has n_voxel elements.\n",
    "\n",
    "atlas_loc = '/volatile/sshankar/fastsrm_data/raiders/'\n",
    "if os.path.exists(os.path.join(atlas_loc, 'atlas_masked.npy')):\n",
    "    atlas = np.load('/volatile/sshankar/fastsrm_data/raiders/atlas_masked.npy', allow_pickle=True)\n",
    "else:\n",
    "    # Specify the atlas\n",
    "    basc444 = '/volatile/sshankar/nilearn_data/basc_multiscale_2015/template_cambridge_basc_multiscale_nii_sym/template_cambridge_basc_multiscale_sym_scale444.nii.gz'\n",
    "    basc_im = image.load_img(basc444).get_data()\n",
    "\n",
    "    atlas_masker = NiftiMasker(mask_img=mask_gm).fit()\n",
    "\n",
    "    if len(basc_im.shape) == 3:\n",
    "        n_components = len(np.unique(basc_im)) - 1\n",
    "        xa, ya, za = basc_im.shape\n",
    "        A = np.zeros((xa, ya, za, n_components + 1))\n",
    "        atlas = np.zeros((xa, ya, za, n_components + 1))\n",
    "        for c in np.unique(basc_im)[1:].astype(int):\n",
    "            X_ = np.copy(basc_im)\n",
    "            X_[X_ != c] = 0.\n",
    "            X_[X_ == c] = 1.\n",
    "            A[:, :, :, c] = X_\n",
    "        atlas = atlas_masker.transform(new_img_like(basc444, A))\n",
    "        atlas = np.argmax(atlas, axis=0)\n",
    "\n",
    "    # # Save the transformed atlas\n",
    "    np.save('/volatile/sshankar/fastsrm_data/raiders/atlas_masked.npy', atlas)"
   ]
  },
  {
   "cell_type": "code",
   "execution_count": 4,
   "metadata": {},
   "outputs": [],
   "source": [
    "# Create a masker to standardize (0 mean, 1 SD) the image files\n",
    "# and to transform them to a 2D array, as FastSRM requires\n",
    "img_masker = MultiNiftiMasker(mask_img=mask_gm, \n",
    "                              standardize=True, \n",
    "                              smoothing_fwhm=5,\n",
    "                              detrend=True,\n",
    "                              high_pass=0.0078,\n",
    "                              t_r=2.0).fit()"
   ]
  },
  {
   "cell_type": "code",
   "execution_count": 5,
   "metadata": {
    "scrolled": false
   },
   "outputs": [
    {
     "name": "stderr",
     "output_type": "stream",
     "text": [
      "/volatile/sshankar/fastsrm_env/lib/python3.6/site-packages/nilearn/signal.py:180: UserWarning: The frequency specified for the high pass filter is too high to be handled by a digital filter (superior to nyquist frequency). It has been lowered to 1.00 (nyquist frequency).\n",
      "  'frequency).' % (btype, wn))\n"
     ]
    }
   ],
   "source": [
    "# Now create a list of movie session files \n",
    "movie_dir = '/volatile/sshankar/fastsrm_data/raiders/3mm/'\n",
    "subs = os.listdir(movie_dir)\n",
    "subs.sort()\n",
    "\n",
    "movie_arrays = []\n",
    "\n",
    "# Create 2D masked arrays from image data and save to file for quick and easy access\n",
    "for s, sub in enumerate(subs):\n",
    "    sess = os.listdir(os.path.join(movie_dir, sub))\n",
    "    sess.sort()\n",
    "    for i, ses in enumerate(sess):\n",
    "        if os.path.exists(os.path.join(movie_dir, sub, ses,'masked_imgs_preproc.npy')):\n",
    "            masked_imgs = np.load(os.path.join(movie_dir, sub, ses, 'masked_imgs_preproc.npy'), allow_pickle=True)\n",
    "        else:    \n",
    "            movie_imgs = glob.glob(os.path.join(movie_dir, sub, ses, '*.nii.gz'))\n",
    "            movie_imgs.sort()\n",
    "            os.chdir(os.path.join(movie_dir, sub, ses))\n",
    "            masked_imgs = img_masker.transform(movie_imgs)\n",
    "            np.save(os.path.join(movie_dir, sub, ses, 'masked_imgs_preproc.npy'), masked_imgs)\n",
    "        \n",
    "        movie_arrays.append(masked_imgs)"
   ]
  },
  {
   "cell_type": "code",
   "execution_count": 23,
   "metadata": {},
   "outputs": [],
   "source": [
    "# Concatenate all the runs belonging to each subject\n",
    "skip = len(subs)\n",
    "sub_movie = []\n",
    "for i in range(0, skip):\n",
    "    sub_movie.append(np.concatenate((np.concatenate(movie_arrays[i]), np.concatenate(movie_arrays[i+skip]))))"
   ]
  },
  {
   "cell_type": "code",
   "execution_count": 26,
   "metadata": {},
   "outputs": [],
   "source": [
    "# As a trial, using the first run from the first session for each subject\n",
    "idx = range(0,len(movie_arrays),2)\n",
    "\n",
    "movie_sample = []\n",
    "for i in idx:\n",
    "    movie_sample.append(movie_arrays[i][0].T)"
   ]
  },
  {
   "cell_type": "code",
   "execution_count": 27,
   "metadata": {},
   "outputs": [
    {
     "data": {
      "text/plain": [
       "FastSRM(aggregate='mean', atlas=array([333, 333, 190, ..., 112, 315, 315]),\n",
       "        low_ram=True, n_components=20, n_iter=10, n_jobs=1, seed=None,\n",
       "        temp_dir='/tmp/fastsrm27ac203d-ea01-4434-8dec-660aee3e8dff',\n",
       "        verbose='warn')"
      ]
     },
     "execution_count": 27,
     "metadata": {},
     "output_type": "execute_result"
    }
   ],
   "source": [
    "# Fit the FastSRM model with the trial data\n",
    "fast_srm = FastSRM(\n",
    "    atlas=atlas,\n",
    "    n_components=20,\n",
    "    n_jobs=1,\n",
    "    n_iter=10,\n",
    "    temp_dir='/tmp',\n",
    "    low_ram=True, \n",
    "    aggregate=\"mean\" \n",
    ")\n",
    "fast_srm.fit(movie_sample)"
   ]
  },
  {
   "cell_type": "code",
   "execution_count": null,
   "metadata": {},
   "outputs": [],
   "source": [
    "# The subject-specific spatial maps are in the parameter basis_list\n",
    "# These spatial maps have been created using run-01 from ses-01 for each subject\n",
    "fast_srm.basis_list"
   ]
  },
  {
   "cell_type": "code",
   "execution_count": null,
   "metadata": {},
   "outputs": [],
   "source": [
    "# Each basis_list will have the shape\n",
    "# [n_components, n_voxels]\n",
    "b1 = np.load(fast_srm.basis_list[0])\n",
    "b1.shape"
   ]
  },
  {
   "cell_type": "code",
   "execution_count": 28,
   "metadata": {},
   "outputs": [],
   "source": [
    "# Compute the shared temporal responses of subjects while watching the movie\n",
    "shared_resp = fast_srm.transform(movie_sample)"
   ]
  },
  {
   "cell_type": "code",
   "execution_count": 29,
   "metadata": {},
   "outputs": [
    {
     "data": {
      "image/png": "[encoded data removed]",
      "text/plain": [
       "<Figure size 432x288 with 20 Axes>"
      ]
     },
     "metadata": {
      "needs_background": "light"
     },
     "output_type": "display_data"
    }
   ],
   "source": [
    "# These are what the shared responses look like\n",
    "for i in range(len(shared_resp)):\n",
    "    plt.subplot(7,3,i+1)\n",
    "    plt.plot(shared_resp[i,:])"
   ]
  },
  {
   "cell_type": "code",
   "execution_count": null,
   "metadata": {},
   "outputs": [],
   "source": [
    "inv_mask = img_masker.inverse_transform(b1)"
   ]
  },
  {
   "cell_type": "code",
   "execution_count": null,
   "metadata": {},
   "outputs": [],
   "source": [
    "# Plotting some spatial maps for sub-01\n",
    "plotting.view_img(inv_mask.slicer[...,0], bg_img=mask_gm, draw_cross=False)"
   ]
  },
  {
   "cell_type": "code",
   "execution_count": null,
   "metadata": {},
   "outputs": [],
   "source": [
    "plotting.view_img(inv_mask.slicer[...,1], bg_img=mask_gm, draw_cross=False)"
   ]
  },
  {
   "cell_type": "code",
   "execution_count": null,
   "metadata": {},
   "outputs": [],
   "source": [
    "plotting.plot_epi(inv_mask.slicer[...,1], draw_cross=False, \n",
    "                  display_mode='z', cut_coords=7, cmap=plotting.cm.blue_orange)"
   ]
  },
  {
   "cell_type": "code",
   "execution_count": null,
   "metadata": {},
   "outputs": [],
   "source": [
    "plotting.plot_epi(inv_mask.slicer[...,2], draw_cross=False, \n",
    "                  display_mode='z', cut_coords=7, cmap=plotting.cm.blue_orange)"
   ]
  },
  {
   "cell_type": "code",
   "execution_count": null,
   "metadata": {},
   "outputs": [],
   "source": [
    "plotting.plot_epi(inv_mask.slicer[...,3], draw_cross=False, \n",
    "                  display_mode='z', cut_coords=7, cmap=plotting.cm.blue_orange)"
   ]
  },
  {
   "cell_type": "code",
   "execution_count": null,
   "metadata": {},
   "outputs": [],
   "source": [
    "plotting.plot_epi(inv_mask.slicer[...,4], draw_cross=False, \n",
    "                  display_mode='z', cut_coords=7, cmap=plotting.cm.blue_orange)"
   ]
  },
  {
   "cell_type": "code",
   "execution_count": null,
   "metadata": {},
   "outputs": [],
   "source": [
    "MultiNiftiMasker?"
   ]
  }
 ],
 "metadata": {
  "kernelspec": {
   "display_name": "Python 3",
   "language": "python",
   "name": "python3"
  },
  "language_info": {
   "codemirror_mode": {
    "name": "ipython",
    "version": 3
   },
   "file_extension": ".py",
   "mimetype": "text/x-python",
   "name": "python",
   "nbconvert_exporter": "python",
   "pygments_lexer": "ipython3",
   "version": "3.6.3"
  }
 },
 "nbformat": 4,
 "nbformat_minor": 2
}
