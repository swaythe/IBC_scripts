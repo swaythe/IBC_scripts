{
 "cells": [
  {
   "cell_type": "code",
   "execution_count": null,
   "metadata": {},
   "outputs": [],
   "source": [
    "%matplotlib inline"
   ]
  },
  {
   "cell_type": "markdown",
   "metadata": {},
   "source": [
    "\n",
    "Multivariate decompositions: Independent component analysis of fMRI\n",
    "===================================================================\n",
    "\n",
    "\n",
    "This example is meant to demonstrate nilearn as a low-level tools used to\n",
    "combine feature extraction with a multivariate decomposition algorithm\n",
    "for resting state.\n",
    "\n",
    "This example is a toy. To apply ICA to resting-state data, it is advised\n",
    "to look at the example\n",
    "`sphx_glr_auto_examples_03_connectivity_plot_canica_resting_state.py`.\n",
    "\n",
    "The example here applies the scikit-learn ICA to resting-state data.\n",
    "Note that following the code in the example, any unsupervised\n",
    "decomposition model, or other latent-factor models, can be applied to\n",
    "the data, as the scikit-learn API enables to exchange them as almost\n",
    "black box (though the relevant parameter for brain maps might no longer\n",
    "be given by a call to fit_transform).\n",
    "\n",
    "\n"
   ]
  },
  {
   "cell_type": "markdown",
   "metadata": {},
   "source": [
    "Load ADHD dataset\n",
    "\n"
   ]
  },
  {
   "cell_type": "code",
   "execution_count": null,
   "metadata": {},
   "outputs": [],
   "source": [
    "from nilearn import datasets\n",
    "# Here we use only 3 subjects to get faster-running code. For better\n",
    "# results, simply increase this number\n",
    "# XXX: must get the code to run for more than 1 subject\n",
    "dataset = datasets.fetch_adhd(n_subjects=1)\n",
    "func_filename = dataset.func[0]\n",
    "\n",
    "# print basic information on the dataset\n",
    "print('First subject functional nifti image (4D) is at: %s' %\n",
    "      dataset.func[0])  # 4D data"
   ]
  },
  {
   "cell_type": "markdown",
   "metadata": {},
   "source": [
    "Preprocess\n",
    "\n"
   ]
  },
  {
   "cell_type": "code",
   "execution_count": null,
   "metadata": {},
   "outputs": [],
   "source": [
    "from nilearn.input_data import NiftiMasker\n",
    "\n",
    "# This is resting-state data: the background has not been removed yet,\n",
    "# thus we need to use mask_strategy='epi' to compute the mask from the\n",
    "# EPI images\n",
    "masker = NiftiMasker(smoothing_fwhm=8, memory='nilearn_cache', memory_level=1,\n",
    "                     mask_strategy='epi', standardize=True)\n",
    "data_masked = masker.fit_transform(func_filename)\n",
    "\n",
    "# Concatenate all the subjects\n",
    "# fmri_data = np.concatenate(data_masked, axis=1)\n",
    "fmri_data = data_masked"
   ]
  },
  {
   "cell_type": "markdown",
   "metadata": {},
   "source": [
    "Apply ICA\n",
    "\n"
   ]
  },
  {
   "cell_type": "code",
   "execution_count": null,
   "metadata": {},
   "outputs": [],
   "source": [
    "from sklearn.decomposition import FastICA\n",
    "n_components = 10\n",
    "ica = FastICA(n_components=n_components, random_state=42)\n",
    "components_masked = ica.fit_transform(data_masked.T).T\n",
    "\n",
    "# Normalize estimated components, for thresholding to make sense\n",
    "components_masked -= components_masked.mean(axis=0)\n",
    "components_masked /= components_masked.std(axis=0)\n",
    "# Threshold\n",
    "import numpy as np\n",
    "components_masked[np.abs(components_masked) < .8] = 0\n",
    "\n",
    "# Now invert the masking operation, going back to a full 3D\n",
    "# representation\n",
    "component_img = masker.inverse_transform(components_masked)"
   ]
  },
  {
   "cell_type": "markdown",
   "metadata": {},
   "source": [
    "Visualize the results\n",
    "\n"
   ]
  },
  {
   "cell_type": "code",
   "execution_count": null,
   "metadata": {},
   "outputs": [],
   "source": [
    "# Show some interesting components\n",
    "from nilearn import image\n",
    "from nilearn.plotting import plot_stat_map, show\n",
    "\n",
    "# Use the mean as a background\n",
    "mean_img = image.mean_img(func_filename)\n",
    "\n",
    "plot_stat_map(image.index_img(component_img, 0), mean_img)\n",
    "\n",
    "plot_stat_map(image.index_img(component_img, 1), mean_img)\n",
    "\n",
    "show()"
   ]
  }
 ],
 "metadata": {
  "kernelspec": {
   "display_name": "Python 3",
   "language": "python",
   "name": "python3"
  },
  "language_info": {
   "codemirror_mode": {
    "name": "ipython",
    "version": 3
   },
   "file_extension": ".py",
   "mimetype": "text/x-python",
   "name": "python",
   "nbconvert_exporter": "python",
   "pygments_lexer": "ipython3",
   "version": "3.6.9"
  }
 },
 "nbformat": 4,
 "nbformat_minor": 1
}
