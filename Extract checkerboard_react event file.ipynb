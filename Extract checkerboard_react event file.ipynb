{
 "cells": [
  {
   "cell_type": "code",
   "execution_count": 1,
   "metadata": {},
   "outputs": [],
   "source": [
    "import os\n",
    "import pandas as pd\n",
    "import numpy as np\n",
    "import itertools as it"
   ]
  },
  {
   "cell_type": "code",
   "execution_count": 11,
   "metadata": {},
   "outputs": [],
   "source": [
    "sub = 'pilot-54'\n",
    "ses = 'ses-01'\n",
    "battery = 'fbirn'\n",
    "task = 'checkerboard-react'\n",
    "\n",
    "main_dir = '/home/sshankar/ibc/analysis_pipeline/ibc_main/neurospin_data/info/'\n",
    "# main_dir = '/home/sshankar/Documents/Data/'\n",
    "datadir = os.path.join(main_dir, sub)\n",
    "csv_file = 'extracted_checkerboard-react_sub-54_ses-02_2112021-1215.csv'\n",
    "tsv_file = 'checkerboard-react_pilot-54_ses_02.tsv'"
   ]
  },
  {
   "cell_type": "code",
   "execution_count": 12,
   "metadata": {},
   "outputs": [],
   "source": [
    "file_df = pd.read_csv(os.path.join(datadir, csv_file))"
   ]
  },
  {
   "cell_type": "code",
   "execution_count": 13,
   "metadata": {},
   "outputs": [],
   "source": [
    "# In the csv file extracted from the E-Prime txt file, \n",
    "# run onset is the 'GetReady.OffsetTime' column of last row, \n",
    "# and all other columns of this row are empty.\n",
    "run_start = (file_df.loc[~np.isnan(file_df['sscanstart1.OffsetTime'])])['sscanstart1.OffsetTime']\n",
    "run_start = run_start.values[0]"
   ]
  },
  {
   "cell_type": "code",
   "execution_count": 14,
   "metadata": {},
   "outputs": [
    {
     "data": {
      "text/plain": [
       "50907.0"
      ]
     },
     "execution_count": 14,
     "metadata": {},
     "output_type": "execute_result"
    }
   ],
   "source": [
    "run_start"
   ]
  },
  {
   "cell_type": "code",
   "execution_count": 15,
   "metadata": {},
   "outputs": [],
   "source": [
    "# Get trial_types names from Procedure\n",
    "# trial_types = (file_df.loc['Block' in file_df['Procedure']])['Procedure']\n",
    "types = file_df['Procedure']\n",
    "trials = types.str.contains(\"Block\", regex=False)\n",
    "trial_types = types[trials==True] \n",
    "trial_types[trial_types=='fixationBlock'] = \"fixation\"\n",
    "trial_types[trial_types=='checkerBlock'] = \"checkerboard\""
   ]
  },
  {
   "cell_type": "code",
   "execution_count": 16,
   "metadata": {},
   "outputs": [],
   "source": [
    "# Get trial_types names from Procedure. This is a block design experiment \n",
    "# but there are trials of fix and checkerboard within each block. Blocks are \n",
    "# separated with Procedure names of \"fixationBlock\" and \"checkerBlock\".\n",
    "types = file_df['Procedure']\n",
    "trials = types.str.contains(\"Block\", regex=False)\n",
    "trial_types = types[trials==True] \n",
    "trial_types[trial_types=='fixationBlock'] = \"fixation\"\n",
    "trial_types[trial_types=='checkerBlock'] = \"checkerboard\"\n",
    "\n",
    "# Onset times will be in the indices 0 and the one AFTER the trial_types index\n",
    "# The run begins and ends with a fixation block\n",
    "onsets = []\n",
    "\n",
    "# First fixation block\n",
    "onsets.append(file_df.loc[0]['fixation.OnsetTime'])\n",
    "    \n",
    "# Subsequent runs\n",
    "for idx in trial_types.keys():\n",
    "    if trial_types[idx] == \"fixation\":\n",
    "        onsets.append(file_df.loc[idx+1]['Stimulus.OnsetTime'])\n",
    "    else:\n",
    "        onsets.append(file_df.loc[idx+1]['fixation.OnsetTime'])\n",
    "\n",
    "# Final key is a NaN so remove it\n",
    "onsets.pop()\n",
    "\n",
    "# Calculate durations\n",
    "durations = np.diff(onsets)\n",
    "durations = np.append(durations, file_df.iloc[-3]['fixation.OnsetTime']-onsets[-1])"
   ]
  },
  {
   "cell_type": "code",
   "execution_count": 17,
   "metadata": {},
   "outputs": [],
   "source": [
    "# Create a DataFrame to save to events file\n",
    "df = pd.DataFrame({'onset':(onsets-run_start)/1000, 'duration':durations/1000, 'trial_type':trial_types})\n",
    "df.to_csv(os.path.join(datadir, tsv_file), sep='\\t', float_format='%0.3f', index=False)"
   ]
  },
  {
   "cell_type": "code",
   "execution_count": null,
   "metadata": {},
   "outputs": [],
   "source": []
  }
 ],
 "metadata": {
  "kernelspec": {
   "display_name": "Python 3",
   "language": "python",
   "name": "python3"
  },
  "language_info": {
   "codemirror_mode": {
    "name": "ipython",
    "version": 3
   },
   "file_extension": ".py",
   "mimetype": "text/x-python",
   "name": "python",
   "nbconvert_exporter": "python",
   "pygments_lexer": "ipython3",
   "version": "3.6.9"
  }
 },
 "nbformat": 4,
 "nbformat_minor": 2
}
