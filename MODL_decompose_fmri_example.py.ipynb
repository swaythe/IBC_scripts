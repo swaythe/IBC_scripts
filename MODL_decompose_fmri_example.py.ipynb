{
 "cells": [
  {
   "cell_type": "code",
   "execution_count": 1,
   "metadata": {},
   "outputs": [
    {
     "name": "stderr",
     "output_type": "stream",
     "text": [
      "/home/sshankar/env/modl/lib/python3.6/site-packages/sklearn/externals/joblib/__init__.py:15: DeprecationWarning: sklearn.externals.joblib is deprecated in 0.21 and will be removed in 0.23. Please import this functionality directly from joblib, which can be installed with: pip install joblib. If this warning is raised when loading pickled models, you may need to re-serialize those models with scikit-learn 0.21+.\n",
      "  warnings.warn(msg, category=DeprecationWarning)\n"
     ]
    }
   ],
   "source": [
    "# Author: Arthur Mensch\n",
    "# License: BSD\n",
    "\n",
    "import matplotlib as mpl\n",
    "mpl.use('Qt5Agg')\n",
    "\n",
    "from nilearn.datasets import fetch_atlas_smith_2009\n",
    "from modl.input_data.fmri.fixes import monkey_patch_nifti_image\n",
    "\n",
    "monkey_patch_nifti_image()\n",
    "\n",
    "import matplotlib.pyplot as plt\n",
    "from sklearn.externals.joblib import Memory\n",
    "from sklearn.model_selection import train_test_split\n",
    "\n",
    "from modl.datasets import fetch_adhd\n",
    "from modl.decomposition.fmri import fMRIDictFact, rfMRIDictionaryScorer\n",
    "from modl.plotting.fmri import display_maps\n",
    "from modl.utils.system import get_cache_dirs"
   ]
  },
  {
   "cell_type": "code",
   "execution_count": 2,
   "metadata": {},
   "outputs": [],
   "source": [
    "n_components = 20\n",
    "batch_size = 50\n",
    "learning_rate = .92\n",
    "method = 'masked'\n",
    "step_size = 0.01\n",
    "reduction = 12\n",
    "alpha = 1e-3\n",
    "n_epochs = 2\n",
    "verbose = 15\n",
    "n_jobs = 2\n",
    "smoothing_fwhm = 6"
   ]
  },
  {
   "cell_type": "code",
   "execution_count": 3,
   "metadata": {},
   "outputs": [],
   "source": [
    "dict_init = fetch_atlas_smith_2009().rsn20"
   ]
  },
  {
   "cell_type": "code",
   "execution_count": 24,
   "metadata": {},
   "outputs": [
    {
     "data": {
      "text/plain": [
       "'/home/sshankar/nilearn_data/smith_2009/rsn20.nii.gz'"
      ]
     },
     "execution_count": 24,
     "metadata": {},
     "output_type": "execute_result"
    }
   ],
   "source": [
    "dict_init"
   ]
  },
  {
   "cell_type": "code",
   "execution_count": 25,
   "metadata": {},
   "outputs": [
    {
     "data": {
      "text/plain": [
       "(91, 109, 91, 20)"
      ]
     },
     "execution_count": 25,
     "metadata": {},
     "output_type": "execute_result"
    }
   ],
   "source": [
    "from nilearn import image\n",
    "di = image.load_img(dict_init)\n",
    "di.shape"
   ]
  },
  {
   "cell_type": "code",
   "execution_count": 4,
   "metadata": {},
   "outputs": [
    {
     "name": "stderr",
     "output_type": "stream",
     "text": [
      "/home/sshankar/env/modl/lib/python3.6/site-packages/nilearn/datasets/func.py:503: VisibleDeprecationWarning: Reading unicode strings without specifying the encoding argument is deprecated. Set the encoding, use None for the system default.\n",
      "  dtype=None)\n"
     ]
    }
   ],
   "source": [
    "dataset = fetch_adhd(n_subjects=3)\n",
    "data = dataset.rest.values"
   ]
  },
  {
   "cell_type": "code",
   "execution_count": 5,
   "metadata": {},
   "outputs": [
    {
     "data": {
      "text/plain": [
       "array([['/home/sshankar/nilearn_data/adhd/data/0010042/0010042_rest_tshift_RPI_voreg_mni.nii.gz',\n",
       "        '/home/sshankar/nilearn_data/adhd/data/0010042/0010042_regressors.csv'],\n",
       "       ['/home/sshankar/nilearn_data/adhd/data/0010064/0010064_rest_tshift_RPI_voreg_mni.nii.gz',\n",
       "        '/home/sshankar/nilearn_data/adhd/data/0010064/0010064_regressors.csv'],\n",
       "       ['/home/sshankar/nilearn_data/adhd/data/0010128/0010128_rest_tshift_RPI_voreg_mni.nii.gz',\n",
       "        '/home/sshankar/nilearn_data/adhd/data/0010128/0010128_regressors.csv']],\n",
       "      dtype=object)"
      ]
     },
     "execution_count": 5,
     "metadata": {},
     "output_type": "execute_result"
    }
   ],
   "source": [
    "data"
   ]
  },
  {
   "cell_type": "code",
   "execution_count": 7,
   "metadata": {},
   "outputs": [
    {
     "data": {
      "text/plain": [
       "array(['/home/sshankar/nilearn_data/adhd/data/0010042/0010042_rest_tshift_RPI_voreg_mni.nii.gz',\n",
       "       '/home/sshankar/nilearn_data/adhd/data/0010042/0010042_regressors.csv'],\n",
       "      dtype=object)"
      ]
     },
     "execution_count": 7,
     "metadata": {},
     "output_type": "execute_result"
    }
   ],
   "source": [
    "data[0]"
   ]
  },
  {
   "cell_type": "code",
   "execution_count": 5,
   "metadata": {},
   "outputs": [
    {
     "name": "stderr",
     "output_type": "stream",
     "text": [
      "/home/sshankar/env/modl/lib/python3.6/site-packages/ipykernel_launcher.py:6: DeprecationWarning: The 'cachedir' parameter has been deprecated in version 0.12 and will be removed in version 0.14.\n",
      "You provided \"cachedir='/home/sshankar/cache'\", use \"location='/home/sshankar/cache'\" instead.\n",
      "  \n"
     ]
    }
   ],
   "source": [
    "train_data, test_data = train_test_split(data, test_size=1, random_state=0)\n",
    "train_imgs, train_confounds = zip(*train_data)\n",
    "test_imgs, test_confounds = zip(*test_data)\n",
    "mask = dataset.mask\n",
    "memory = Memory(cachedir=get_cache_dirs()[0],\n",
    "                verbose=2)"
   ]
  },
  {
   "cell_type": "code",
   "execution_count": 22,
   "metadata": {},
   "outputs": [
    {
     "data": {
      "text/plain": [
       "numpy.ndarray"
      ]
     },
     "execution_count": 22,
     "metadata": {},
     "output_type": "execute_result"
    }
   ],
   "source": [
    "type(train_data)"
   ]
  },
  {
   "cell_type": "code",
   "execution_count": 21,
   "metadata": {},
   "outputs": [
    {
     "data": {
      "text/plain": [
       "('/home/sshankar/nilearn_data/adhd/data/0010064/0010064_rest_tshift_RPI_voreg_mni.nii.gz',\n",
       " '/home/sshankar/nilearn_data/adhd/data/0010042/0010042_rest_tshift_RPI_voreg_mni.nii.gz')"
      ]
     },
     "execution_count": 21,
     "metadata": {},
     "output_type": "execute_result"
    }
   ],
   "source": [
    "train_imgs"
   ]
  },
  {
   "cell_type": "code",
   "execution_count": 19,
   "metadata": {},
   "outputs": [
    {
     "data": {
      "text/plain": [
       "('/home/sshankar/nilearn_data/adhd/data/0010064/0010064_regressors.csv',\n",
       " '/home/sshankar/nilearn_data/adhd/data/0010042/0010042_regressors.csv')"
      ]
     },
     "execution_count": 19,
     "metadata": {},
     "output_type": "execute_result"
    }
   ],
   "source": [
    "train_confounds"
   ]
  },
  {
   "cell_type": "code",
   "execution_count": 6,
   "metadata": {},
   "outputs": [
    {
     "name": "stdout",
     "output_type": "stream",
     "text": [
      "[MultiNiftiMasker.fit] Loading data from None\n",
      "[MultiNiftiMasker.transform] Resampling mask\n",
      "[Memory]7.8s, 0.1min    : Loading resample_img...\n",
      "________________________________________________________________________________\n",
      "[Memory] Calling nilearn.masking.unmask...\n",
      "unmask(array([[-0.805341, ...,  0.      ],\n",
      "       ...,\n",
      "       [ 1.61355 , ...,  0.      ]], dtype=float32), \n",
      "<modl.input_data.fmri.fixes.Nifti1Image object at 0x7f29ec042f98>)\n",
      "___________________________________________________________unmask - 0.1s, 0.0min\n",
      "________________________________________________________________________________\n",
      "[Memory] Calling modl.decomposition.fmri._compute_components...\n",
      "_compute_components(MultiNiftiMasker(detrend=True, dtype=None, high_pass=None, low_pass=None,\n",
      "                 mask_args=None,\n",
      "                 mask_img='/home/sshankar/modl_data/adhd/mask_img.nii.gz',\n",
      "                 mask_strategy='background',\n",
      "                 memory=Memory(location=/home/sshankar/cache/joblib),\n",
      "                 memory_level=1, n_jobs=2, smoothing_fwhm=6, standardize=True,\n",
      "                 t_r=None, target_affine=None, target_shape=None, verbose=15), \n",
      "( '/home/sshankar/nilearn_data/adhd/data/0010064/0010064_rest_tshift_RPI_voreg_mni.nii.gz',\n",
      "  '/home/sshankar/nilearn_data/adhd/data/0010042/0010042_rest_tshift_RPI_voreg_mni.nii.gz'), step_size=0.01, confounds=( '/home/sshankar/nilearn_data/adhd/data/0010064/0010064_regressors.csv',\n",
      "  '/home/sshankar/nilearn_data/adhd/data/0010042/0010042_regressors.csv'), dict_init=array([[-0.805341, ...,  0.      ],\n",
      "       ...,\n",
      "       [ 1.61355 , ...,  0.      ]], dtype=float32), alpha=0.001, reduction=12, learning_rate=0.92, n_components=20, batch_size=50, positive=True, n_epochs=2, method='masked', verbose=15, random_state=1, callback=<modl.decomposition.fmri.rfMRIDictionaryScorer object at 0x7f29ec042208>, n_jobs=2)\n",
      "Scanning data\n",
      "/home/sshankar/nilearn_data/adhd/data/0010064/0010064_rest_tshift_RPI_voreg_mni.nii.gz\n",
      "/home/sshankar/nilearn_data/adhd/data/0010042/0010042_rest_tshift_RPI_voreg_mni.nii.gz\n",
      "Learning...\n",
      "Epoch 1\n",
      "Record 0\n",
      "/home/sshankar/nilearn_data/adhd/data/0010042/0010042_rest_tshift_RPI_voreg_mni.nii.gz\n",
      "<class 'str'>\n",
      "________________________________________________________________________________\n",
      "[Memory] Calling nilearn.input_data.nifti_masker.filter_and_mask...\n",
      "filter_and_mask(<modl.input_data.fmri.fixes.Nifti1Image object at 0x7f29e1978198>, <modl.input_data.fmri.fixes.Nifti1Image object at 0x7f29ec042f98>, { 'detrend': True,\n",
      "  'dtype': None,\n",
      "  'high_pass': None,\n",
      "  'low_pass': None,\n",
      "  'smoothing_fwhm': 6,\n",
      "  'standardize': True,\n",
      "  't_r': None,\n",
      "  'target_affine': None,\n",
      "  'target_shape': None}, memory_level=1, memory=Memory(location=/home/sshankar/cache/joblib), verbose=15, confounds='/home/sshankar/nilearn_data/adhd/data/0010042/0010042_regressors.csv', copy=True)\n",
      "[MultiNiftiMasker.our_transform_single_imgs] Loading data from Nifti1Image('/home/sshankar/nilearn_data/adhd/data/0010042/0010042_rest_tshift_RPI_voreg_mni.nii.gz')\n",
      "[MultiNiftiMasker.our_transform_single_imgs] Resampling images\n",
      "[MultiNiftiMasker.our_transform_single_imgs] Smoothing images\n",
      "[MultiNiftiMasker.our_transform_single_imgs] Extracting region signals\n",
      "[MultiNiftiMasker.our_transform_single_imgs] Cleaning extracted signals\n",
      "_________________________________________________filter_and_mask - 29.9s, 0.5min\n",
      "<class 'numpy.ndarray'>\n",
      "[[-1.1545988  -0.9934234  -0.7051929  ... -0.1390236  -0.01736036\n",
      "   0.24004713]\n",
      " [-0.48100972 -0.4940102  -0.808989   ... -0.4568261  -0.11398555\n",
      "   0.28884768]\n",
      " [-1.199193   -1.2109134  -0.9603664  ...  0.08188577  0.1174577\n",
      "   0.08463875]\n",
      " ...\n",
      " [-0.147009   -0.7811498  -1.6164035  ...  0.63609487  0.69862735\n",
      "   0.75250626]\n",
      " [ 0.93800217  1.1854478   1.2644094  ...  1.3000917   1.3855323\n",
      "   1.5495697 ]\n",
      " [-0.07900894 -0.24205688 -0.6403704  ... -0.12008113 -0.09215228\n",
      "  -0.07457672]]\n",
      "Record 1\n",
      "/home/sshankar/nilearn_data/adhd/data/0010064/0010064_rest_tshift_RPI_voreg_mni.nii.gz\n",
      "<class 'str'>\n",
      "________________________________________________________________________________\n",
      "[Memory] Calling nilearn.input_data.nifti_masker.filter_and_mask...\n",
      "filter_and_mask(<modl.input_data.fmri.fixes.Nifti1Image object at 0x7f29e1978f60>, <modl.input_data.fmri.fixes.Nifti1Image object at 0x7f29ec042f98>, { 'detrend': True,\n",
      "  'dtype': None,\n",
      "  'high_pass': None,\n",
      "  'low_pass': None,\n",
      "  'smoothing_fwhm': 6,\n",
      "  'standardize': True,\n",
      "  't_r': None,\n",
      "  'target_affine': None,\n",
      "  'target_shape': None}, memory_level=1, memory=Memory(location=/home/sshankar/cache/joblib), verbose=15, confounds='/home/sshankar/nilearn_data/adhd/data/0010064/0010064_regressors.csv', copy=True)\n",
      "[MultiNiftiMasker.our_transform_single_imgs] Loading data from Nifti1Image('/home/sshankar/nilearn_data/adhd/data/0010064/0010064_rest_tshift_RPI_voreg_mni.nii.gz')\n",
      "[MultiNiftiMasker.our_transform_single_imgs] Resampling images\n",
      "[MultiNiftiMasker.our_transform_single_imgs] Smoothing images\n",
      "[MultiNiftiMasker.our_transform_single_imgs] Extracting region signals\n",
      "[MultiNiftiMasker.our_transform_single_imgs] Cleaning extracted signals\n",
      "_________________________________________________filter_and_mask - 29.0s, 0.5min\n",
      "<class 'numpy.ndarray'>\n",
      "[[-0.10599075 -0.52105457 -0.55607855 ...  0.79775226  0.5405342\n",
      "   0.5222371 ]\n",
      " [-0.7243429  -0.7872298  -1.1328537  ...  0.7023873   0.5924416\n",
      "   0.4759206 ]\n",
      " [-0.1761678  -0.36766094 -0.7320081  ... -0.6966899  -0.5985183\n",
      "  -0.701747  ]\n",
      " ...\n",
      " [ 0.30072975  0.450425    0.5592831  ... -0.02638144  0.15709588\n",
      "   0.39044547]\n",
      " [-0.43473628 -0.7859558  -0.61036664 ...  0.86718285  0.5913361\n",
      "   0.2670997 ]\n",
      " [-0.03361355 -0.31046596 -0.42383596 ...  0.3032815   0.15713541\n",
      "   0.26542524]]\n",
      "Epoch 2\n",
      "Record 2\n",
      "/home/sshankar/nilearn_data/adhd/data/0010064/0010064_rest_tshift_RPI_voreg_mni.nii.gz\n",
      "<class 'str'>\n",
      "[Memory]76.0s, 1.3min   : Loading filter_and_mask...\n",
      "<class 'numpy.ndarray'>\n",
      "[[-0.10599075 -0.52105457 -0.55607855 ...  0.79775226  0.5405342\n",
      "   0.5222371 ]\n",
      " [-0.7243429  -0.7872298  -1.1328537  ...  0.7023873   0.5924416\n",
      "   0.4759206 ]\n",
      " [-0.1761678  -0.36766094 -0.7320081  ... -0.6966899  -0.5985183\n",
      "  -0.701747  ]\n",
      " ...\n",
      " [ 0.30072975  0.450425    0.5592831  ... -0.02638144  0.15709588\n",
      "   0.39044547]\n",
      " [-0.43473628 -0.7859558  -0.61036664 ...  0.86718285  0.5913361\n",
      "   0.2670997 ]\n",
      " [-0.03361355 -0.31046596 -0.42383596 ...  0.3032815   0.15713541\n",
      "   0.26542524]]\n",
      "Record 3\n",
      "/home/sshankar/nilearn_data/adhd/data/0010042/0010042_rest_tshift_RPI_voreg_mni.nii.gz\n",
      "<class 'str'>\n",
      "[Memory]78.1s, 1.3min   : Loading filter_and_mask...\n",
      "<class 'numpy.ndarray'>\n",
      "[[-1.1545988  -0.9934234  -0.7051929  ... -0.1390236  -0.01736036\n",
      "   0.24004713]\n",
      " [-0.48100972 -0.4940102  -0.808989   ... -0.4568261  -0.11398555\n",
      "   0.28884768]\n",
      " [-1.199193   -1.2109134  -0.9603664  ...  0.08188577  0.1174577\n",
      "   0.08463875]\n",
      " ...\n",
      " [-0.147009   -0.7811498  -1.6164035  ...  0.63609487  0.69862735\n",
      "   0.75250626]\n",
      " [ 0.93800217  1.1854478   1.2644094  ...  1.3000917   1.3855323\n",
      "   1.5495697 ]\n",
      " [-0.07900894 -0.24205688 -0.6403704  ... -0.12008113 -0.09215228\n",
      "  -0.07457672]]\n",
      "______________________________________________compute_components - 70.5s, 1.2min\n",
      "________________________________________________________________________________\n",
      "[Memory] Calling nilearn.masking.unmask...\n",
      "unmask(array([[0., ..., 0.],\n",
      "       ...,\n",
      "       [0., ..., 0.]], dtype=float32), <modl.input_data.fmri.fixes.Nifti1Image object at 0x7f29ec042f98>)\n",
      "___________________________________________________________unmask - 0.1s, 0.0min\n"
     ]
    },
    {
     "data": {
      "text/plain": [
       "fMRIDictFact(alpha=0.001, batch_size=50,\n",
       "             callback=<modl.decomposition.fmri.rfMRIDictionaryScorer object at 0x7f29ec042208>,\n",
       "             detrend=True,\n",
       "             dict_init='/home/sshankar/nilearn_data/smith_2009/rsn20.nii.gz',\n",
       "             high_pass=None, learning_rate=0.92, low_pass=None,\n",
       "             mask='/home/sshankar/modl_data/adhd/mask_img.nii.gz',\n",
       "             mask_args=None, mask_strategy='background',\n",
       "             memory=Memory(location=/home/sshankar/cache/joblib),\n",
       "             memory_level=2, method='masked', n_components=20, n_epochs=2,\n",
       "             n_jobs=2, positive=True, random_state=1, reduction=12,\n",
       "             smoothing_fwhm=6, standardize=True, step_size=0.01, t_r=None,\n",
       "             target_affine=None, target_shape=None, transform_batch_size=None,\n",
       "             verbose=15)"
      ]
     },
     "execution_count": 6,
     "metadata": {},
     "output_type": "execute_result"
    }
   ],
   "source": [
    "cb = rfMRIDictionaryScorer(test_imgs, test_confounds=test_confounds)\n",
    "dict_fact = fMRIDictFact(smoothing_fwhm=smoothing_fwhm,\n",
    "                         method=method,\n",
    "                         step_size=step_size,\n",
    "                         mask=mask,\n",
    "                         memory=memory,\n",
    "                         memory_level=2,\n",
    "                         verbose=verbose,\n",
    "                         n_epochs=n_epochs,\n",
    "                         n_jobs=n_jobs,\n",
    "                         random_state=1,\n",
    "                         n_components=n_components,\n",
    "                         dict_init=dict_init,\n",
    "                         positive=True,\n",
    "                         learning_rate=learning_rate,\n",
    "                         batch_size=batch_size,\n",
    "                         reduction=reduction,\n",
    "                         alpha=alpha,\n",
    "                         callback=cb,\n",
    "                         )\n",
    "dict_fact.fit(train_imgs, confounds=train_confounds)"
   ]
  },
  {
   "cell_type": "code",
   "execution_count": 7,
   "metadata": {},
   "outputs": [
    {
     "name": "stderr",
     "output_type": "stream",
     "text": [
      "/home/sshankar/env/modl/lib/python3.6/site-packages/nilearn/plotting/displays.py:98: UserWarning: linewidths is ignored by contourf\n",
      "  **kwargs)\n"
     ]
    }
   ],
   "source": [
    "fig = plt.figure()\n",
    "display_maps(fig, dict_fact.components_img_)\n",
    "fig, ax = plt.subplots(1, 1)\n",
    "ax.plot(cb.time, cb.score, marker='o')\n",
    "plt.show()"
   ]
  },
  {
   "cell_type": "code",
   "execution_count": 10,
   "metadata": {},
   "outputs": [
    {
     "data": {
      "text/plain": [
       "(20, 212445)"
      ]
     },
     "execution_count": 10,
     "metadata": {},
     "output_type": "execute_result"
    }
   ],
   "source": [
    "dict_fact.components_.shape"
   ]
  },
  {
   "cell_type": "code",
   "execution_count": null,
   "metadata": {},
   "outputs": [],
   "source": []
  }
 ],
 "metadata": {
  "kernelspec": {
   "display_name": "Python 3",
   "language": "python",
   "name": "python3"
  },
  "language_info": {
   "codemirror_mode": {
    "name": "ipython",
    "version": 3
   },
   "file_extension": ".py",
   "mimetype": "text/x-python",
   "name": "python",
   "nbconvert_exporter": "python",
   "pygments_lexer": "ipython3",
   "version": "3.6.9"
  }
 },
 "nbformat": 4,
 "nbformat_minor": 2
}
