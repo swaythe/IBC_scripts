{
 "cells": [
  {
   "cell_type": "code",
   "execution_count": 1,
   "metadata": {},
   "outputs": [
    {
     "name": "stderr",
     "output_type": "stream",
     "text": [
      "/volatile/sshankar/fastsrm_env/lib/python3.6/site-packages/sklearn/externals/joblib/__init__.py:15: DeprecationWarning: sklearn.externals.joblib is deprecated in 0.21 and will be removed in 0.23. Please import this functionality directly from joblib, which can be installed with: pip install joblib. If this warning is raised when loading pickled models, you may need to re-serialize those models with scikit-learn 0.21+.\n",
      "  warnings.warn(msg, category=DeprecationWarning)\n"
     ]
    },
    {
     "ename": "ModuleNotFoundError",
     "evalue": "No module named 'modl'",
     "output_type": "error",
     "traceback": [
      "\u001b[0;31m---------------------------------------------------------------------------\u001b[0m",
      "\u001b[0;31mModuleNotFoundError\u001b[0m                       Traceback (most recent call last)",
      "\u001b[0;32m<ipython-input-1-b002a1ba8482>\u001b[0m in \u001b[0;36m<module>\u001b[0;34m\u001b[0m\n\u001b[1;32m      6\u001b[0m \u001b[0;34m\u001b[0m\u001b[0m\n\u001b[1;32m      7\u001b[0m \u001b[0;32mfrom\u001b[0m \u001b[0mnilearn\u001b[0m\u001b[0;34m.\u001b[0m\u001b[0mdatasets\u001b[0m \u001b[0;32mimport\u001b[0m \u001b[0mfetch_atlas_smith_2009\u001b[0m\u001b[0;34m\u001b[0m\u001b[0m\n\u001b[0;32m----> 8\u001b[0;31m \u001b[0;32mfrom\u001b[0m \u001b[0mmodl\u001b[0m\u001b[0;34m.\u001b[0m\u001b[0minput_data\u001b[0m\u001b[0;34m.\u001b[0m\u001b[0mfmri\u001b[0m\u001b[0;34m.\u001b[0m\u001b[0mfixes\u001b[0m \u001b[0;32mimport\u001b[0m \u001b[0mmonkey_patch_nifti_image\u001b[0m\u001b[0;34m\u001b[0m\u001b[0m\n\u001b[0m\u001b[1;32m      9\u001b[0m \u001b[0;34m\u001b[0m\u001b[0m\n\u001b[1;32m     10\u001b[0m \u001b[0mmonkey_patch_nifti_image\u001b[0m\u001b[0;34m(\u001b[0m\u001b[0;34m)\u001b[0m\u001b[0;34m\u001b[0m\u001b[0m\n",
      "\u001b[0;31mModuleNotFoundError\u001b[0m: No module named 'modl'"
     ]
    }
   ],
   "source": [
    "# Author: Arthur Mensch\n",
    "# License: BSD\n",
    "\n",
    "import matplotlib as mpl\n",
    "mpl.use('Qt5Agg')\n",
    "\n",
    "from nilearn.datasets import fetch_atlas_smith_2009\n",
    "from modl.input_data.fmri.fixes import monkey_patch_nifti_image\n",
    "\n",
    "monkey_patch_nifti_image()\n",
    "\n",
    "import matplotlib.pyplot as plt\n",
    "from sklearn.externals.joblib import Memory\n",
    "from sklearn.model_selection import train_test_split\n",
    "\n",
    "from modl.datasets import fetch_adhd\n",
    "from modl.decomposition.fmri import fMRIDictFact, rfMRIDictionaryScorer\n",
    "from modl.plotting.fmri import display_maps\n",
    "from modl.utils.system import get_cache_dirs\n",
    "\n",
    "\n",
    "n_components = 20\n",
    "batch_size = 50\n",
    "learning_rate = .92\n",
    "method = 'masked'\n",
    "step_size = 0.01\n",
    "reduction = 12\n",
    "alpha = 1e-3\n",
    "n_epochs = 2\n",
    "verbose = 15\n",
    "n_jobs = 2\n",
    "smoothing_fwhm = 6\n",
    "\n",
    "dict_init = fetch_atlas_smith_2009().rsn20\n",
    "\n",
    "dataset = fetch_adhd(n_subjects=40)\n",
    "data = dataset.rest.values\n",
    "train_data, test_data = train_test_split(data, test_size=1, random_state=0)\n",
    "train_imgs, train_confounds = zip(*train_data)\n",
    "test_imgs, test_confounds = zip(*test_data)\n",
    "mask = dataset.mask\n",
    "memory = Memory(cachedir=get_cache_dirs()[0],\n",
    "                verbose=2)\n",
    "\n",
    "cb = rfMRIDictionaryScorer(test_imgs, test_confounds=test_confounds)\n",
    "dict_fact = fMRIDictFact(smoothing_fwhm=smoothing_fwhm,\n",
    "                         method=method,\n",
    "                         step_size=step_size,\n",
    "                         mask=mask,\n",
    "                         memory=memory,\n",
    "                         memory_level=2,\n",
    "                         verbose=verbose,\n",
    "                         n_epochs=n_epochs,\n",
    "                         n_jobs=n_jobs,\n",
    "                         random_state=1,\n",
    "                         n_components=n_components,\n",
    "                         dict_init=dict_init,\n",
    "                         positive=True,\n",
    "                         learning_rate=learning_rate,\n",
    "                         batch_size=batch_size,\n",
    "                         reduction=reduction,\n",
    "                         alpha=alpha,\n",
    "                         callback=cb,\n",
    "                         )\n",
    "dict_fact.fit(train_imgs, confounds=train_confounds)\n",
    "\n",
    "fig = plt.figure()\n",
    "display_maps(fig, dict_fact.components_img_)\n",
    "fig, ax = plt.subplots(1, 1)\n",
    "ax.plot(cb.time, cb.score, marker='o')\n",
    "plt.show()\n"
   ]
  },
  {
   "cell_type": "code",
   "execution_count": null,
   "metadata": {},
   "outputs": [],
   "source": []
  }
 ],
 "metadata": {
  "kernelspec": {
   "display_name": "Python 3",
   "language": "python",
   "name": "python3"
  },
  "language_info": {
   "codemirror_mode": {
    "name": "ipython",
    "version": 3
   },
   "file_extension": ".py",
   "mimetype": "text/x-python",
   "name": "python",
   "nbconvert_exporter": "python",
   "pygments_lexer": "ipython3",
   "version": "3.6.8"
  }
 },
 "nbformat": 4,
 "nbformat_minor": 2
}
