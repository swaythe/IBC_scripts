{
 "cells": [
  {
   "cell_type": "code",
   "execution_count": 1,
   "metadata": {},
   "outputs": [],
   "source": [
    "import os\n",
    "import pandas as pd\n",
    "import numpy as np\n",
    "import itertools as it"
   ]
  },
  {
   "cell_type": "code",
   "execution_count": 14,
   "metadata": {},
   "outputs": [],
   "source": [
    "sub = 'pilot-54'\n",
    "ses = 'ses-02'\n",
    "battery = 'fbirn'\n",
    "task = 'breath-hold'\n",
    "\n",
    "main_dir = '/home/sshankar/ibc/analysis_pipeline/ibc_main/neurospin_data/info/'\n",
    "# main_dir = '/home/sshankar/Documents/Data/'\n",
    "datadir = os.path.join(main_dir, sub)\n",
    "csv_file = 'extracted_breath-hold_sub-54_ses-02_2112021-1159.csv'\n",
    "tsv_file = 'breath-hold_pilot-54_ses_02.tsv'"
   ]
  },
  {
   "cell_type": "code",
   "execution_count": 15,
   "metadata": {},
   "outputs": [],
   "source": [
    "file_df = pd.read_csv(os.path.join(datadir, csv_file))"
   ]
  },
  {
   "cell_type": "code",
   "execution_count": 16,
   "metadata": {},
   "outputs": [],
   "source": [
    "# In the csv file extracted from the E-Prime txt file, \n",
    "# run onset is the 'GetReady.OffsetTime' column of last row, \n",
    "# and all other columns of this row are empty.\n",
    "run_start = (file_df.loc[~np.isnan(file_df['sscanstart1.OffsetTime'])])['sscanstart1.OffsetTime']\n",
    "run_start = run_start.values[0]"
   ]
  },
  {
   "cell_type": "code",
   "execution_count": 17,
   "metadata": {},
   "outputs": [
    {
     "data": {
      "text/plain": [
       "57041.0"
      ]
     },
     "execution_count": 17,
     "metadata": {},
     "output_type": "execute_result"
    }
   ],
   "source": [
    "run_start"
   ]
  },
  {
   "cell_type": "code",
   "execution_count": 18,
   "metadata": {},
   "outputs": [],
   "source": [
    "# Event onsets are in 'Breathe.OnsetTime', 'GetReady.OnsetTime' and 'HoldBreath.OnsetTime'\n",
    "breathe_onsets = (file_df.loc[~np.isnan(file_df['Breathe.OnsetTime'])])['Breathe.OnsetTime']\n",
    "getready_onsets = (file_df.loc[~np.isnan(file_df['GetReady.OnsetTime'])])['GetReady.OnsetTime']\n",
    "holdbreath_onsets = (file_df.loc[~np.isnan(file_df['HoldBreath.OnsetTime'])])['HoldBreath.OnsetTime']\n",
    "\n",
    "# How many trials were presented\n",
    "n_trials = len(breathe_onsets)\n",
    "\n",
    "# Trial offsets are in 'CatImage.OffsetTime'\n",
    "breathe_offsets = (file_df.loc[~np.isnan(file_df['Breathe.OffsetTime'])])['Breathe.OffsetTime']\n",
    "getready_offsets = (file_df.loc[~np.isnan(file_df['GetReady.OffsetTime'])])['GetReady.OffsetTime']\n",
    "holdbreath_offsets = (file_df.loc[~np.isnan(file_df['HoldBreath.OffsetTime'])])['HoldBreath.OffsetTime']\n",
    "\n",
    "trial_onsets = np.sort(np.hstack((breathe_onsets, getready_onsets, holdbreath_onsets)))\n",
    "\n",
    "# This task doesn't have any responses, duration is offset-onset times\n",
    "breathe_durations = breathe_offsets - breathe_onsets\n",
    "getready_durations = getready_offsets - getready_onsets\n",
    "holdbreath_durations = holdbreath_offsets - holdbreath_onsets\n",
    "\n",
    "durations = []\n",
    "for b in zip(breathe_durations, getready_durations, holdbreath_durations):\n",
    "    durations.extend(list(it.chain(b)))\n",
    "    \n",
    "# Finally, trial_types are in 'Running'\n",
    "trial_types = ['breathe', 'get_ready', 'hold_breath'] * n_trials"
   ]
  },
  {
   "cell_type": "code",
   "execution_count": 73,
   "metadata": {},
   "outputs": [
    {
     "data": {
      "text/plain": [
       "['breathe',\n",
       " 'get_ready',\n",
       " 'hold_breath',\n",
       " 'breathe',\n",
       " 'get_ready',\n",
       " 'hold_breath',\n",
       " 'breathe',\n",
       " 'get_ready',\n",
       " 'hold_breath',\n",
       " 'breathe',\n",
       " 'get_ready',\n",
       " 'hold_breath',\n",
       " 'breathe',\n",
       " 'get_ready',\n",
       " 'hold_breath',\n",
       " 'breathe',\n",
       " 'get_ready',\n",
       " 'hold_breath',\n",
       " 'breathe',\n",
       " 'get_ready',\n",
       " 'hold_breath',\n",
       " 'breathe',\n",
       " 'get_ready',\n",
       " 'hold_breath',\n",
       " 'breathe',\n",
       " 'get_ready',\n",
       " 'hold_breath',\n",
       " 'breathe',\n",
       " 'get_ready',\n",
       " 'hold_breath']"
      ]
     },
     "execution_count": 73,
     "metadata": {},
     "output_type": "execute_result"
    }
   ],
   "source": [
    "trial_types"
   ]
  },
  {
   "cell_type": "code",
   "execution_count": 74,
   "metadata": {},
   "outputs": [
    {
     "data": {
      "text/plain": [
       "[17900.0,\n",
       " 1900.0,\n",
       " 15900.0,\n",
       " 17900.0,\n",
       " 1900.0,\n",
       " 15900.0,\n",
       " 17900.0,\n",
       " 1900.0,\n",
       " 15900.0,\n",
       " 17900.0,\n",
       " 1900.0,\n",
       " 15900.0,\n",
       " 17900.0,\n",
       " 1900.0,\n",
       " 15900.0,\n",
       " 17900.0,\n",
       " 1900.0,\n",
       " 15900.0,\n",
       " 17900.0,\n",
       " 1900.0,\n",
       " 15900.0,\n",
       " 17900.0,\n",
       " 1900.0,\n",
       " 15900.0,\n",
       " 17900.0,\n",
       " 1900.0,\n",
       " 15900.0,\n",
       " 17900.0,\n",
       " 1900.0,\n",
       " 15900.0]"
      ]
     },
     "execution_count": 74,
     "metadata": {},
     "output_type": "execute_result"
    }
   ],
   "source": [
    "durations"
   ]
  },
  {
   "cell_type": "code",
   "execution_count": 19,
   "metadata": {},
   "outputs": [],
   "source": [
    "# Create a DataFrame to save to events file\n",
    "df = pd.DataFrame({'onset':(trial_onsets-run_start)/1000, 'duration':np.array(durations)/1000, 'trial_type':trial_types})\n",
    "df.to_csv(os.path.join(datadir, tsv_file), sep='\\t', float_format='%0.3f', index=False)"
   ]
  },
  {
   "cell_type": "code",
   "execution_count": null,
   "metadata": {},
   "outputs": [],
   "source": []
  }
 ],
 "metadata": {
  "kernelspec": {
   "display_name": "Python 3",
   "language": "python",
   "name": "python3"
  },
  "language_info": {
   "codemirror_mode": {
    "name": "ipython",
    "version": 3
   },
   "file_extension": ".py",
   "mimetype": "text/x-python",
   "name": "python",
   "nbconvert_exporter": "python",
   "pygments_lexer": "ipython3",
   "version": "3.6.9"
  }
 },
 "nbformat": 4,
 "nbformat_minor": 2
}
