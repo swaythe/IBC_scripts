{
 "cells": [
  {
   "cell_type": "code",
   "execution_count": 4,
   "metadata": {},
   "outputs": [],
   "source": [
    "import os\n",
    "import pandas as pd\n",
    "import numpy as np\n",
    "import glob"
   ]
  },
  {
   "cell_type": "code",
   "execution_count": 7,
   "metadata": {},
   "outputs": [],
   "source": [
    "sub = 'pilot-52'\n",
    "ses = 'ses-02'\n",
    "battery = 'camcan'\n",
    "task_source = 'emo-mem'\n",
    "task = 'emotional-memory'\n",
    "\n",
    "main_dir = '/home/sshankar/ibc/analysis_pipeline/ibc_main/neurospin_data/info/'\n",
    "datadir = os.path.join(main_dir, sub, battery)\n",
    "csv_file = task_source + '_sub-52_' + ses + '.txt'\n",
    "tsv_file = task + '_sub-52_' + ses + '.tsv'"
   ]
  },
  {
   "cell_type": "code",
   "execution_count": 14,
   "metadata": {},
   "outputs": [],
   "source": [
    "file_df = pd.read_csv(os.path.join(datadir, csv_file), sep=' ')"
   ]
  },
  {
   "cell_type": "code",
   "execution_count": 15,
   "metadata": {},
   "outputs": [
    {
     "data": {
      "text/html": [
       "<div>\n",
       "<style scoped>\n",
       "    .dataframe tbody tr th:only-of-type {\n",
       "        vertical-align: middle;\n",
       "    }\n",
       "\n",
       "    .dataframe tbody tr th {\n",
       "        vertical-align: top;\n",
       "    }\n",
       "\n",
       "    .dataframe thead th {\n",
       "        text-align: right;\n",
       "    }\n",
       "</style>\n",
       "<table border=\"1\" class=\"dataframe\">\n",
       "  <thead>\n",
       "    <tr style=\"text-align: right;\">\n",
       "      <th></th>\n",
       "      <th></th>\n",
       "      <th></th>\n",
       "      <th></th>\n",
       "      <th></th>\n",
       "      <th></th>\n",
       "      <th></th>\n",
       "      <th></th>\n",
       "      <th></th>\n",
       "      <th></th>\n",
       "      <th>Scanner pulse time: 163.4050</th>\n",
       "    </tr>\n",
       "  </thead>\n",
       "  <tbody>\n",
       "    <tr>\n",
       "      <th>img_valence</th>\n",
       "      <th>img_file</th>\n",
       "      <th>img_onset</th>\n",
       "      <th>img_actual_onset</th>\n",
       "      <th>img_onset_end</th>\n",
       "      <th>obj_file</th>\n",
       "      <th>obj_onset</th>\n",
       "      <th>obj_actual_onset</th>\n",
       "      <th>obj_onset_end</th>\n",
       "      <th>resp_key</th>\n",
       "      <td>resp_onset</td>\n",
       "    </tr>\n",
       "    <tr>\n",
       "      <th>3</th>\n",
       "      <th>\\Negative\\9040.JPG</th>\n",
       "      <th>164.3621</th>\n",
       "      <th>164.3621</th>\n",
       "      <th>164.3622</th>\n",
       "      <th>\\Objects\\firetruck.bmp</th>\n",
       "      <th>166.3662</th>\n",
       "      <th>166.3662</th>\n",
       "      <th>166.3662</th>\n",
       "      <th>y</th>\n",
       "      <td>168.0621</td>\n",
       "    </tr>\n",
       "    <tr>\n",
       "      <th rowspan=\"2\" valign=\"top\">2</th>\n",
       "      <th>\\Neutral\\7100.JPG</th>\n",
       "      <th>174.8083</th>\n",
       "      <th>174.8083</th>\n",
       "      <th>174.8084</th>\n",
       "      <th>\\Objects\\curtain.bmp</th>\n",
       "      <th>176.8134</th>\n",
       "      <th>176.8134</th>\n",
       "      <th>176.8135</th>\n",
       "      <th>y</th>\n",
       "      <td>180.6387</td>\n",
       "    </tr>\n",
       "    <tr>\n",
       "      <th>\\Neutral\\7186.JPG</th>\n",
       "      <th>184.9533</th>\n",
       "      <th>184.9533</th>\n",
       "      <th>184.9534</th>\n",
       "      <th>\\Objects\\hairbrush.bmp</th>\n",
       "      <th>186.9580</th>\n",
       "      <th>186.9580</th>\n",
       "      <th>186.9580</th>\n",
       "      <th>y</th>\n",
       "      <td>191.7407</td>\n",
       "    </tr>\n",
       "    <tr>\n",
       "      <th>1</th>\n",
       "      <th>\\Positive\\2311.JPG</th>\n",
       "      <th>195.0881</th>\n",
       "      <th>195.0881</th>\n",
       "      <th>195.0881</th>\n",
       "      <th>\\Objects\\chimney.bmp</th>\n",
       "      <th>197.0919</th>\n",
       "      <th>197.0919</th>\n",
       "      <th>197.0920</th>\n",
       "      <th>y</th>\n",
       "      <td>202.7328</td>\n",
       "    </tr>\n",
       "    <tr>\n",
       "      <th>...</th>\n",
       "      <th>...</th>\n",
       "      <th>...</th>\n",
       "      <th>...</th>\n",
       "      <th>...</th>\n",
       "      <th>...</th>\n",
       "      <th>...</th>\n",
       "      <th>...</th>\n",
       "      <th>...</th>\n",
       "      <th>...</th>\n",
       "      <td>...</td>\n",
       "    </tr>\n",
       "    <tr>\n",
       "      <th>2</th>\n",
       "      <th>\\Neutral\\2890.JPG</th>\n",
       "      <th>721.9112</th>\n",
       "      <th>721.9112</th>\n",
       "      <th>721.9113</th>\n",
       "      <th>\\Objects\\cap.bmp</th>\n",
       "      <th>723.9160</th>\n",
       "      <th>723.9160</th>\n",
       "      <th>723.9161</th>\n",
       "      <th>y</th>\n",
       "      <td>725.9868</td>\n",
       "    </tr>\n",
       "    <tr>\n",
       "      <th>3</th>\n",
       "      <th>\\Negative\\2800.JPG</th>\n",
       "      <th>732.0501</th>\n",
       "      <th>732.0501</th>\n",
       "      <th>732.0501</th>\n",
       "      <th>\\Objects\\bag.bmp</th>\n",
       "      <th>734.0553</th>\n",
       "      <th>734.0553</th>\n",
       "      <th>734.0554</th>\n",
       "      <th>y</th>\n",
       "      <td>737.0380</td>\n",
       "    </tr>\n",
       "    <tr>\n",
       "      <th>1</th>\n",
       "      <th>\\Positive\\2550.JPG</th>\n",
       "      <th>742.1827</th>\n",
       "      <th>742.1827</th>\n",
       "      <th>742.1827</th>\n",
       "      <th>\\Objects\\dinghy.bmp</th>\n",
       "      <th>744.1876</th>\n",
       "      <th>744.1876</th>\n",
       "      <th>744.1877</th>\n",
       "      <th>y</th>\n",
       "      <td>748.7967</td>\n",
       "    </tr>\n",
       "    <tr>\n",
       "      <th rowspan=\"2\" valign=\"top\">3</th>\n",
       "      <th>\\Negative\\9920.JPG</th>\n",
       "      <th>752.3085</th>\n",
       "      <th>752.3085</th>\n",
       "      <th>752.3085</th>\n",
       "      <th>\\Objects\\paperclip.bmp</th>\n",
       "      <th>754.3143</th>\n",
       "      <th>754.3143</th>\n",
       "      <th>754.3143</th>\n",
       "      <th>y</th>\n",
       "      <td>756.6394</td>\n",
       "    </tr>\n",
       "    <tr>\n",
       "      <th>\\Negative\\6230.JPG</th>\n",
       "      <th>762.4369</th>\n",
       "      <th>762.4369</th>\n",
       "      <th>762.4370</th>\n",
       "      <th>\\Objects\\cherries.bmp</th>\n",
       "      <th>764.4388</th>\n",
       "      <th>764.4388</th>\n",
       "      <th>764.4388</th>\n",
       "      <th>y</th>\n",
       "      <td>764.4878</td>\n",
       "    </tr>\n",
       "  </tbody>\n",
       "</table>\n",
       "<p>61 rows × 1 columns</p>\n",
       "</div>"
      ],
      "text/plain": [
       "                                                                                                                                                 Scanner pulse time: 163.4050\n",
       "img_valence img_file           img_onset img_actual_onset img_onset_end obj_file               obj_onset obj_actual_onset obj_onset_end resp_key                   resp_onset\n",
       "3           \\Negative\\9040.JPG 164.3621  164.3621         164.3622      \\Objects\\firetruck.bmp 166.3662  166.3662         166.3662      y                            168.0621\n",
       "2           \\Neutral\\7100.JPG  174.8083  174.8083         174.8084      \\Objects\\curtain.bmp   176.8134  176.8134         176.8135      y                            180.6387\n",
       "            \\Neutral\\7186.JPG  184.9533  184.9533         184.9534      \\Objects\\hairbrush.bmp 186.9580  186.9580         186.9580      y                            191.7407\n",
       "1           \\Positive\\2311.JPG 195.0881  195.0881         195.0881      \\Objects\\chimney.bmp   197.0919  197.0919         197.0920      y                            202.7328\n",
       "...                                                                                                                                                                       ...\n",
       "2           \\Neutral\\2890.JPG  721.9112  721.9112         721.9113      \\Objects\\cap.bmp       723.9160  723.9160         723.9161      y                            725.9868\n",
       "3           \\Negative\\2800.JPG 732.0501  732.0501         732.0501      \\Objects\\bag.bmp       734.0553  734.0553         734.0554      y                            737.0380\n",
       "1           \\Positive\\2550.JPG 742.1827  742.1827         742.1827      \\Objects\\dinghy.bmp    744.1876  744.1876         744.1877      y                            748.7967\n",
       "3           \\Negative\\9920.JPG 752.3085  752.3085         752.3085      \\Objects\\paperclip.bmp 754.3143  754.3143         754.3143      y                            756.6394\n",
       "            \\Negative\\6230.JPG 762.4369  762.4369         762.4370      \\Objects\\cherries.bmp  764.4388  764.4388         764.4388      y                            764.4878\n",
       "\n",
       "[61 rows x 1 columns]"
      ]
     },
     "execution_count": 15,
     "metadata": {},
     "output_type": "execute_result"
    }
   ],
   "source": [
    "file_df"
   ]
  },
  {
   "cell_type": "code",
   "execution_count": 16,
   "metadata": {},
   "outputs": [
    {
     "ename": "KeyError",
     "evalue": "'img_valence'",
     "output_type": "error",
     "traceback": [
      "\u001b[0;31m---------------------------------------------------------------------------\u001b[0m",
      "\u001b[0;31mKeyError\u001b[0m                                  Traceback (most recent call last)",
      "\u001b[0;32m~/env/fastsrm/lib/python3.6/site-packages/pandas/core/indexes/base.py\u001b[0m in \u001b[0;36mget_loc\u001b[0;34m(self, key, method, tolerance)\u001b[0m\n\u001b[1;32m   2896\u001b[0m             \u001b[0;32mtry\u001b[0m\u001b[0;34m:\u001b[0m\u001b[0;34m\u001b[0m\u001b[0;34m\u001b[0m\u001b[0m\n\u001b[0;32m-> 2897\u001b[0;31m                 \u001b[0;32mreturn\u001b[0m \u001b[0mself\u001b[0m\u001b[0;34m.\u001b[0m\u001b[0m_engine\u001b[0m\u001b[0;34m.\u001b[0m\u001b[0mget_loc\u001b[0m\u001b[0;34m(\u001b[0m\u001b[0mkey\u001b[0m\u001b[0;34m)\u001b[0m\u001b[0;34m\u001b[0m\u001b[0;34m\u001b[0m\u001b[0m\n\u001b[0m\u001b[1;32m   2898\u001b[0m             \u001b[0;32mexcept\u001b[0m \u001b[0mKeyError\u001b[0m\u001b[0;34m:\u001b[0m\u001b[0;34m\u001b[0m\u001b[0;34m\u001b[0m\u001b[0m\n",
      "\u001b[0;32mpandas/_libs/index.pyx\u001b[0m in \u001b[0;36mpandas._libs.index.IndexEngine.get_loc\u001b[0;34m()\u001b[0m\n",
      "\u001b[0;32mpandas/_libs/index.pyx\u001b[0m in \u001b[0;36mpandas._libs.index.IndexEngine.get_loc\u001b[0;34m()\u001b[0m\n",
      "\u001b[0;32mpandas/_libs/hashtable_class_helper.pxi\u001b[0m in \u001b[0;36mpandas._libs.hashtable.PyObjectHashTable.get_item\u001b[0;34m()\u001b[0m\n",
      "\u001b[0;32mpandas/_libs/hashtable_class_helper.pxi\u001b[0m in \u001b[0;36mpandas._libs.hashtable.PyObjectHashTable.get_item\u001b[0;34m()\u001b[0m\n",
      "\u001b[0;31mKeyError\u001b[0m: 'img_valence'",
      "\nDuring handling of the above exception, another exception occurred:\n",
      "\u001b[0;31mKeyError\u001b[0m                                  Traceback (most recent call last)",
      "\u001b[0;32m<ipython-input-16-0a2b87e54380>\u001b[0m in \u001b[0;36m<module>\u001b[0;34m\u001b[0m\n\u001b[1;32m      2\u001b[0m \u001b[0;31m# run onset is the 'GetReady.OffsetTime' column of last row,\u001b[0m\u001b[0;34m\u001b[0m\u001b[0;34m\u001b[0m\u001b[0;34m\u001b[0m\u001b[0m\n\u001b[1;32m      3\u001b[0m \u001b[0;31m# and all other columns of this row are empty.\u001b[0m\u001b[0;34m\u001b[0m\u001b[0;34m\u001b[0m\u001b[0;34m\u001b[0m\u001b[0m\n\u001b[0;32m----> 4\u001b[0;31m \u001b[0mrun_start\u001b[0m \u001b[0;34m=\u001b[0m \u001b[0;34m(\u001b[0m\u001b[0mfile_df\u001b[0m\u001b[0;34m.\u001b[0m\u001b[0mloc\u001b[0m\u001b[0;34m[\u001b[0m\u001b[0mfile_df\u001b[0m\u001b[0;34m[\u001b[0m\u001b[0;34m'img_valence'\u001b[0m\u001b[0;34m]\u001b[0m\u001b[0;34m==\u001b[0m\u001b[0;34m'Scanner'\u001b[0m\u001b[0;34m]\u001b[0m\u001b[0;34m)\u001b[0m\u001b[0;34m[\u001b[0m\u001b[0;34m'img_actual_onset'\u001b[0m\u001b[0;34m]\u001b[0m\u001b[0;34m\u001b[0m\u001b[0;34m\u001b[0m\u001b[0m\n\u001b[0m\u001b[1;32m      5\u001b[0m \u001b[0mrun_start\u001b[0m \u001b[0;34m=\u001b[0m \u001b[0mrun_start\u001b[0m\u001b[0;34m.\u001b[0m\u001b[0mvalues\u001b[0m\u001b[0;34m[\u001b[0m\u001b[0;36m0\u001b[0m\u001b[0;34m]\u001b[0m\u001b[0;34m\u001b[0m\u001b[0;34m\u001b[0m\u001b[0m\n",
      "\u001b[0;32m~/env/fastsrm/lib/python3.6/site-packages/pandas/core/frame.py\u001b[0m in \u001b[0;36m__getitem__\u001b[0;34m(self, key)\u001b[0m\n\u001b[1;32m   2993\u001b[0m             \u001b[0;32mif\u001b[0m \u001b[0mself\u001b[0m\u001b[0;34m.\u001b[0m\u001b[0mcolumns\u001b[0m\u001b[0;34m.\u001b[0m\u001b[0mnlevels\u001b[0m \u001b[0;34m>\u001b[0m \u001b[0;36m1\u001b[0m\u001b[0;34m:\u001b[0m\u001b[0;34m\u001b[0m\u001b[0;34m\u001b[0m\u001b[0m\n\u001b[1;32m   2994\u001b[0m                 \u001b[0;32mreturn\u001b[0m \u001b[0mself\u001b[0m\u001b[0;34m.\u001b[0m\u001b[0m_getitem_multilevel\u001b[0m\u001b[0;34m(\u001b[0m\u001b[0mkey\u001b[0m\u001b[0;34m)\u001b[0m\u001b[0;34m\u001b[0m\u001b[0;34m\u001b[0m\u001b[0m\n\u001b[0;32m-> 2995\u001b[0;31m             \u001b[0mindexer\u001b[0m \u001b[0;34m=\u001b[0m \u001b[0mself\u001b[0m\u001b[0;34m.\u001b[0m\u001b[0mcolumns\u001b[0m\u001b[0;34m.\u001b[0m\u001b[0mget_loc\u001b[0m\u001b[0;34m(\u001b[0m\u001b[0mkey\u001b[0m\u001b[0;34m)\u001b[0m\u001b[0;34m\u001b[0m\u001b[0;34m\u001b[0m\u001b[0m\n\u001b[0m\u001b[1;32m   2996\u001b[0m             \u001b[0;32mif\u001b[0m \u001b[0mis_integer\u001b[0m\u001b[0;34m(\u001b[0m\u001b[0mindexer\u001b[0m\u001b[0;34m)\u001b[0m\u001b[0;34m:\u001b[0m\u001b[0;34m\u001b[0m\u001b[0;34m\u001b[0m\u001b[0m\n\u001b[1;32m   2997\u001b[0m                 \u001b[0mindexer\u001b[0m \u001b[0;34m=\u001b[0m \u001b[0;34m[\u001b[0m\u001b[0mindexer\u001b[0m\u001b[0;34m]\u001b[0m\u001b[0;34m\u001b[0m\u001b[0;34m\u001b[0m\u001b[0m\n",
      "\u001b[0;32m~/env/fastsrm/lib/python3.6/site-packages/pandas/core/indexes/base.py\u001b[0m in \u001b[0;36mget_loc\u001b[0;34m(self, key, method, tolerance)\u001b[0m\n\u001b[1;32m   2897\u001b[0m                 \u001b[0;32mreturn\u001b[0m \u001b[0mself\u001b[0m\u001b[0;34m.\u001b[0m\u001b[0m_engine\u001b[0m\u001b[0;34m.\u001b[0m\u001b[0mget_loc\u001b[0m\u001b[0;34m(\u001b[0m\u001b[0mkey\u001b[0m\u001b[0;34m)\u001b[0m\u001b[0;34m\u001b[0m\u001b[0;34m\u001b[0m\u001b[0m\n\u001b[1;32m   2898\u001b[0m             \u001b[0;32mexcept\u001b[0m \u001b[0mKeyError\u001b[0m\u001b[0;34m:\u001b[0m\u001b[0;34m\u001b[0m\u001b[0;34m\u001b[0m\u001b[0m\n\u001b[0;32m-> 2899\u001b[0;31m                 \u001b[0;32mreturn\u001b[0m \u001b[0mself\u001b[0m\u001b[0;34m.\u001b[0m\u001b[0m_engine\u001b[0m\u001b[0;34m.\u001b[0m\u001b[0mget_loc\u001b[0m\u001b[0;34m(\u001b[0m\u001b[0mself\u001b[0m\u001b[0;34m.\u001b[0m\u001b[0m_maybe_cast_indexer\u001b[0m\u001b[0;34m(\u001b[0m\u001b[0mkey\u001b[0m\u001b[0;34m)\u001b[0m\u001b[0;34m)\u001b[0m\u001b[0;34m\u001b[0m\u001b[0;34m\u001b[0m\u001b[0m\n\u001b[0m\u001b[1;32m   2900\u001b[0m         \u001b[0mindexer\u001b[0m \u001b[0;34m=\u001b[0m \u001b[0mself\u001b[0m\u001b[0;34m.\u001b[0m\u001b[0mget_indexer\u001b[0m\u001b[0;34m(\u001b[0m\u001b[0;34m[\u001b[0m\u001b[0mkey\u001b[0m\u001b[0;34m]\u001b[0m\u001b[0;34m,\u001b[0m \u001b[0mmethod\u001b[0m\u001b[0;34m=\u001b[0m\u001b[0mmethod\u001b[0m\u001b[0;34m,\u001b[0m \u001b[0mtolerance\u001b[0m\u001b[0;34m=\u001b[0m\u001b[0mtolerance\u001b[0m\u001b[0;34m)\u001b[0m\u001b[0;34m\u001b[0m\u001b[0;34m\u001b[0m\u001b[0m\n\u001b[1;32m   2901\u001b[0m         \u001b[0;32mif\u001b[0m \u001b[0mindexer\u001b[0m\u001b[0;34m.\u001b[0m\u001b[0mndim\u001b[0m \u001b[0;34m>\u001b[0m \u001b[0;36m1\u001b[0m \u001b[0;32mor\u001b[0m \u001b[0mindexer\u001b[0m\u001b[0;34m.\u001b[0m\u001b[0msize\u001b[0m \u001b[0;34m>\u001b[0m \u001b[0;36m1\u001b[0m\u001b[0;34m:\u001b[0m\u001b[0;34m\u001b[0m\u001b[0;34m\u001b[0m\u001b[0m\n",
      "\u001b[0;32mpandas/_libs/index.pyx\u001b[0m in \u001b[0;36mpandas._libs.index.IndexEngine.get_loc\u001b[0;34m()\u001b[0m\n",
      "\u001b[0;32mpandas/_libs/index.pyx\u001b[0m in \u001b[0;36mpandas._libs.index.IndexEngine.get_loc\u001b[0;34m()\u001b[0m\n",
      "\u001b[0;32mpandas/_libs/hashtable_class_helper.pxi\u001b[0m in \u001b[0;36mpandas._libs.hashtable.PyObjectHashTable.get_item\u001b[0;34m()\u001b[0m\n",
      "\u001b[0;32mpandas/_libs/hashtable_class_helper.pxi\u001b[0m in \u001b[0;36mpandas._libs.hashtable.PyObjectHashTable.get_item\u001b[0;34m()\u001b[0m\n",
      "\u001b[0;31mKeyError\u001b[0m: 'img_valence'"
     ]
    }
   ],
   "source": [
    "# In the csv file extracted from the E-Prime txt file, \n",
    "# run onset is the 'GetReady.OffsetTime' column of last row, \n",
    "# and all other columns of this row are empty.\n",
    "run_start = (file_df.loc[file_df['img_valence']=='Scanner'])['img_actual_onset']\n",
    "run_start = run_start.values[0]"
   ]
  },
  {
   "cell_type": "code",
   "execution_count": 26,
   "metadata": {},
   "outputs": [
    {
     "data": {
      "text/plain": [
       "2083.9232"
      ]
     },
     "execution_count": 26,
     "metadata": {},
     "output_type": "execute_result"
    }
   ],
   "source": [
    "run_start"
   ]
  },
  {
   "cell_type": "code",
   "execution_count": 5,
   "metadata": {},
   "outputs": [],
   "source": [
    "# Find the trial-related rows\n",
    "trials = file_df['img_valence'] != 'Scanner'\n",
    "negative_trials = file_df['img_valence'] == '3'\n",
    "neutral_trials = file_df['img_valence'] == '2'\n",
    "positive_trials = file_df['img_valence'] == '1'"
   ]
  },
  {
   "cell_type": "code",
   "execution_count": null,
   "metadata": {},
   "outputs": [],
   "source": [
    "print(len(trials), sum(trials))"
   ]
  },
  {
   "cell_type": "code",
   "execution_count": null,
   "metadata": {},
   "outputs": [],
   "source": [
    "negative_trials"
   ]
  },
  {
   "cell_type": "code",
   "execution_count": 6,
   "metadata": {},
   "outputs": [],
   "source": [
    "# Trial/Image onsets are in 'img_onset'\n",
    "img_onsets = file_df.loc[trials]['img_onset'].astype(float)\n",
    "\n",
    "# Object onsets are in 'obj_onset'\n",
    "obj_onsets = file_df.loc[trials]['obj_onset'].astype(float)\n",
    "\n",
    "# Concatenate the two to get the onsets array\n",
    "trial_onsets = np.vstack((img_onsets, obj_onsets)).flatten('F')\n",
    "\n",
    "## Create durations array\n",
    "# In the task, the image is presented for 8 s. 2 s after image onset, \n",
    "# the object is presented, and stays on screen for the remaining 6 s.\n",
    "img_durations = np.repeat(8,sum(trials))\n",
    "obj_durations = np.repeat(6,sum(trials))\n",
    "# Interlace the two durations to create the durations array\n",
    "durations = (np.vstack((img_durations,obj_durations))).flatten('F')"
   ]
  },
  {
   "cell_type": "code",
   "execution_count": 29,
   "metadata": {},
   "outputs": [
    {
     "data": {
      "text/plain": [
       "array([2084.6274, 2086.6325, 2094.7642, 2096.7694, 2104.9041, 2106.9089,\n",
       "       2115.0401, 2117.0449, 2125.1764, 2127.1813, 2135.3149, 2137.3208,\n",
       "       2145.447 , 2147.4525, 2155.5867, 2157.5885, 2165.7209, 2167.7255,\n",
       "       2175.8589, 2177.8635, 2185.9986, 2188.0033, 2196.1352, 2198.1406,\n",
       "       2206.2728, 2208.2775, 2216.4155, 2218.4202, 2226.5516, 2228.5566,\n",
       "       2236.6907, 2238.6957, 2246.8201, 2248.8249, 2256.9486, 2258.9536,\n",
       "       2267.0867, 2269.0916, 2277.2231, 2279.2278, 2287.3662, 2289.371 ,\n",
       "       2297.5043, 2299.5074, 2307.6349, 2309.6397, 2317.7702, 2319.7748,\n",
       "       2327.9054, 2329.9102, 2338.0414, 2340.0461, 2348.1788, 2350.1834,\n",
       "       2358.315 , 2360.3196, 2368.4498, 2370.4527, 2378.5864, 2380.5913,\n",
       "       2388.7299, 2390.7358, 2398.8662, 2400.8712, 2409.0038, 2411.0089,\n",
       "       2419.1412, 2421.1462, 2429.2786, 2431.2831, 2439.4159, 2441.4209,\n",
       "       2449.5454, 2451.5503, 2459.687 , 2461.6921, 2469.824 , 2471.8267,\n",
       "       2479.9621, 2481.9671, 2490.1016, 2492.1064, 2500.2428, 2502.2475,\n",
       "       2510.3798, 2512.3853, 2520.5195, 2522.5244, 2530.6647, 2532.6698,\n",
       "       2540.8016, 2542.8059, 2550.9389, 2552.9438, 2561.0816, 2563.0864,\n",
       "       2571.2184, 2573.2209, 2581.3541, 2583.3601, 2591.4936, 2593.5   ,\n",
       "       2601.6312, 2603.6366, 2611.767 , 2613.772 , 2621.9044, 2623.9094,\n",
       "       2632.0435, 2634.0483, 2642.1806, 2644.1855, 2652.3197, 2654.3245,\n",
       "       2662.4633, 2664.4689, 2672.6027, 2674.606 , 2682.7411, 2684.7461])"
      ]
     },
     "execution_count": 29,
     "metadata": {},
     "output_type": "execute_result"
    }
   ],
   "source": [
    "trial_onsets"
   ]
  },
  {
   "cell_type": "code",
   "execution_count": 7,
   "metadata": {},
   "outputs": [],
   "source": [
    "## Finally, create the trial_types array. This will be an interlacing\n",
    "## of the 'img_valence' vector for images and 'object' for objects\n",
    "img_types = np.array(np.ones(len(trials)), dtype=np.object_)\n",
    "img_types[negative_trials] = 'negative_image'\n",
    "img_types[neutral_trials] = 'neutral_image'\n",
    "img_types[positive_trials] = 'positive_image'\n",
    "img_types = img_types[1:]"
   ]
  },
  {
   "cell_type": "code",
   "execution_count": 31,
   "metadata": {},
   "outputs": [],
   "source": [
    "obj_types = np.repeat('object', sum(trials))"
   ]
  },
  {
   "cell_type": "code",
   "execution_count": 32,
   "metadata": {},
   "outputs": [],
   "source": [
    "trial_types = np.vstack((img_types,obj_types)).flatten('F')"
   ]
  },
  {
   "cell_type": "code",
   "execution_count": 33,
   "metadata": {},
   "outputs": [],
   "source": [
    "# Create a DataFrame to save to events file\n",
    "df = pd.DataFrame({'onset':(trial_onsets-run_start), 'duration':durations, 'trial_type':trial_types})\n",
    "df.to_csv(os.path.join(datadir, tsv_file), sep='\\t', float_format='%0.3f', index=False)"
   ]
  },
  {
   "cell_type": "code",
   "execution_count": null,
   "metadata": {},
   "outputs": [],
   "source": []
  }
 ],
 "metadata": {
  "kernelspec": {
   "display_name": "Python 3",
   "language": "python",
   "name": "python3"
  },
  "language_info": {
   "codemirror_mode": {
    "name": "ipython",
    "version": 3
   },
   "file_extension": ".py",
   "mimetype": "text/x-python",
   "name": "python",
   "nbconvert_exporter": "python",
   "pygments_lexer": "ipython3",
   "version": "3.6.9"
  }
 },
 "nbformat": 4,
 "nbformat_minor": 2
}
