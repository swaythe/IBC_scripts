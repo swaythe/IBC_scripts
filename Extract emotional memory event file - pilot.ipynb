{
 "cells": [
  {
   "cell_type": "code",
   "execution_count": 1,
   "metadata": {},
   "outputs": [],
   "source": [
    "import os\n",
    "import pandas as pd\n",
    "import numpy as np\n",
    "import matplotlib.pyplot as plt\n",
    "%matplotlib inline"
   ]
  },
  {
   "cell_type": "code",
   "execution_count": 2,
   "metadata": {},
   "outputs": [],
   "source": [
    "sub = 'pilot-52'\n",
    "ses = 'ses-02'\n",
    "battery = 'camcan'\n",
    "task_source = 'emo-mem'\n",
    "task = 'emotional-memory'\n",
    "\n",
    "main_dir = '/home/sshankar/ibc/analysis_pipeline/ibc_main/neurospin_data/info/'\n",
    "datadir = os.path.join(main_dir, sub, battery)\n",
    "csv_file = task_source + '_sub-52_' + ses + '.txt'\n",
    "tsv_file = task + '_sub-52_' + ses + '.tsv'"
   ]
  },
  {
   "cell_type": "code",
   "execution_count": 3,
   "metadata": {},
   "outputs": [],
   "source": [
    "file_df = pd.read_csv(os.path.join(datadir, csv_file), sep=' ')"
   ]
  },
  {
   "cell_type": "code",
   "execution_count": null,
   "metadata": {},
   "outputs": [],
   "source": [
    "file_df"
   ]
  },
  {
   "cell_type": "code",
   "execution_count": 4,
   "metadata": {},
   "outputs": [],
   "source": [
    "# In the csv file extracted from the E-Prime txt file, \n",
    "# run onset is the 'GetReady.OffsetTime' column of last row, \n",
    "# and all other columns of this row are empty.\n",
    "run_start = (file_df.loc[file_df['img_valence']=='Scanner'])['img_actual_onset']\n",
    "run_start = run_start.values[0]"
   ]
  },
  {
   "cell_type": "code",
   "execution_count": 26,
   "metadata": {},
   "outputs": [
    {
     "data": {
      "text/plain": [
       "2083.9232"
      ]
     },
     "execution_count": 26,
     "metadata": {},
     "output_type": "execute_result"
    }
   ],
   "source": [
    "run_start"
   ]
  },
  {
   "cell_type": "code",
   "execution_count": 5,
   "metadata": {},
   "outputs": [],
   "source": [
    "# Find the trial-related rows\n",
    "trials = file_df['img_valence'] != 'Scanner'\n",
    "negative_trials = file_df['img_valence'] == '3'\n",
    "neutral_trials = file_df['img_valence'] == '2'\n",
    "positive_trials = file_df['img_valence'] == '1'"
   ]
  },
  {
   "cell_type": "code",
   "execution_count": null,
   "metadata": {},
   "outputs": [],
   "source": [
    "print(len(trials), sum(trials))"
   ]
  },
  {
   "cell_type": "code",
   "execution_count": null,
   "metadata": {},
   "outputs": [],
   "source": [
    "negative_trials"
   ]
  },
  {
   "cell_type": "code",
   "execution_count": 6,
   "metadata": {},
   "outputs": [],
   "source": [
    "# Trial/Image onsets are in 'img_onset'\n",
    "img_onsets = file_df.loc[trials]['img_onset'].astype(float)\n",
    "\n",
    "# Object onsets are in 'obj_onset'\n",
    "obj_onsets = file_df.loc[trials]['obj_onset'].astype(float)\n",
    "\n",
    "# Concatenate the two to get the onsets array\n",
    "trial_onsets = np.vstack((img_onsets, obj_onsets)).flatten('F')\n",
    "\n",
    "## Create durations array\n",
    "# In the task, the image is presented for 8 s. 2 s after image onset, \n",
    "# the object is presented, and stays on screen for the remaining 6 s.\n",
    "img_durations = np.repeat(8,sum(trials))\n",
    "obj_durations = np.repeat(6,sum(trials))\n",
    "# Interlace the two durations to create the durations array\n",
    "durations = (np.vstack((img_durations,obj_durations))).flatten('F')"
   ]
  },
  {
   "cell_type": "code",
   "execution_count": 29,
   "metadata": {},
   "outputs": [
    {
     "data": {
      "text/plain": [
       "array([2084.6274, 2086.6325, 2094.7642, 2096.7694, 2104.9041, 2106.9089,\n",
       "       2115.0401, 2117.0449, 2125.1764, 2127.1813, 2135.3149, 2137.3208,\n",
       "       2145.447 , 2147.4525, 2155.5867, 2157.5885, 2165.7209, 2167.7255,\n",
       "       2175.8589, 2177.8635, 2185.9986, 2188.0033, 2196.1352, 2198.1406,\n",
       "       2206.2728, 2208.2775, 2216.4155, 2218.4202, 2226.5516, 2228.5566,\n",
       "       2236.6907, 2238.6957, 2246.8201, 2248.8249, 2256.9486, 2258.9536,\n",
       "       2267.0867, 2269.0916, 2277.2231, 2279.2278, 2287.3662, 2289.371 ,\n",
       "       2297.5043, 2299.5074, 2307.6349, 2309.6397, 2317.7702, 2319.7748,\n",
       "       2327.9054, 2329.9102, 2338.0414, 2340.0461, 2348.1788, 2350.1834,\n",
       "       2358.315 , 2360.3196, 2368.4498, 2370.4527, 2378.5864, 2380.5913,\n",
       "       2388.7299, 2390.7358, 2398.8662, 2400.8712, 2409.0038, 2411.0089,\n",
       "       2419.1412, 2421.1462, 2429.2786, 2431.2831, 2439.4159, 2441.4209,\n",
       "       2449.5454, 2451.5503, 2459.687 , 2461.6921, 2469.824 , 2471.8267,\n",
       "       2479.9621, 2481.9671, 2490.1016, 2492.1064, 2500.2428, 2502.2475,\n",
       "       2510.3798, 2512.3853, 2520.5195, 2522.5244, 2530.6647, 2532.6698,\n",
       "       2540.8016, 2542.8059, 2550.9389, 2552.9438, 2561.0816, 2563.0864,\n",
       "       2571.2184, 2573.2209, 2581.3541, 2583.3601, 2591.4936, 2593.5   ,\n",
       "       2601.6312, 2603.6366, 2611.767 , 2613.772 , 2621.9044, 2623.9094,\n",
       "       2632.0435, 2634.0483, 2642.1806, 2644.1855, 2652.3197, 2654.3245,\n",
       "       2662.4633, 2664.4689, 2672.6027, 2674.606 , 2682.7411, 2684.7461])"
      ]
     },
     "execution_count": 29,
     "metadata": {},
     "output_type": "execute_result"
    }
   ],
   "source": [
    "trial_onsets"
   ]
  },
  {
   "cell_type": "code",
   "execution_count": 7,
   "metadata": {},
   "outputs": [],
   "source": [
    "## Finally, create the trial_types array. This will be an interlacing\n",
    "## of the 'img_valence' vector for images and 'object' for objects\n",
    "img_types = np.array(np.ones(len(trials)), dtype=np.object_)\n",
    "img_types[negative_trials] = 'negative_image'\n",
    "img_types[neutral_trials] = 'neutral_image'\n",
    "img_types[positive_trials] = 'positive_image'\n",
    "img_types = img_types[1:]"
   ]
  },
  {
   "cell_type": "code",
   "execution_count": 31,
   "metadata": {},
   "outputs": [],
   "source": [
    "obj_types = np.repeat('object', sum(trials))"
   ]
  },
  {
   "cell_type": "code",
   "execution_count": 32,
   "metadata": {},
   "outputs": [],
   "source": [
    "trial_types = np.vstack((img_types,obj_types)).flatten('F')"
   ]
  },
  {
   "cell_type": "code",
   "execution_count": 33,
   "metadata": {},
   "outputs": [],
   "source": [
    "# Create a DataFrame to save to events file\n",
    "df = pd.DataFrame({'onset':(trial_onsets-run_start), 'duration':durations, 'trial_type':trial_types})\n",
    "df.to_csv(os.path.join(datadir, tsv_file), sep='\\t', float_format='%0.3f', index=False)"
   ]
  },
  {
   "cell_type": "code",
   "execution_count": null,
   "metadata": {},
   "outputs": [],
   "source": []
  }
 ],
 "metadata": {
  "kernelspec": {
   "display_name": "Python 3",
   "language": "python",
   "name": "python3"
  },
  "language_info": {
   "codemirror_mode": {
    "name": "ipython",
    "version": 3
   },
   "file_extension": ".py",
   "mimetype": "text/x-python",
   "name": "python",
   "nbconvert_exporter": "python",
   "pygments_lexer": "ipython3",
   "version": "3.6.9"
  }
 },
 "nbformat": 4,
 "nbformat_minor": 2
}
