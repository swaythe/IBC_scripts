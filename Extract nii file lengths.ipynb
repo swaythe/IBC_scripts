{
 "cells": [
  {
   "cell_type": "code",
   "execution_count": 2,
   "metadata": {},
   "outputs": [],
   "source": [
    "from nilearn import image\n",
    "import numpy as np\n",
    "import os\n",
    "import glob\n",
    "import matplotlib.pyplot as plt\n",
    "\n",
    "%matplotlib inline"
   ]
  },
  {
   "cell_type": "code",
   "execution_count": 10,
   "metadata": {},
   "outputs": [],
   "source": [
    "hi_res_files = '/home/sshankar/raiders/derivatives/'\n",
    "lo_res_files = '/home/sshankar/raiders/3mm/'"
   ]
  },
  {
   "cell_type": "code",
   "execution_count": 11,
   "metadata": {},
   "outputs": [],
   "source": [
    "subs_hi = sorted(glob.glob(hi_res_files + 'sub*'))\n",
    "subs_lo = sorted(glob.glob(lo_res_files + 'sub*'))"
   ]
  },
  {
   "cell_type": "code",
   "execution_count": 12,
   "metadata": {},
   "outputs": [
    {
     "data": {
      "text/plain": [
       "['/home/sshankar/raiders/derivatives/sub-01',\n",
       " '/home/sshankar/raiders/derivatives/sub-04',\n",
       " '/home/sshankar/raiders/derivatives/sub-05',\n",
       " '/home/sshankar/raiders/derivatives/sub-06',\n",
       " '/home/sshankar/raiders/derivatives/sub-07',\n",
       " '/home/sshankar/raiders/derivatives/sub-09',\n",
       " '/home/sshankar/raiders/derivatives/sub-11',\n",
       " '/home/sshankar/raiders/derivatives/sub-12',\n",
       " '/home/sshankar/raiders/derivatives/sub-13',\n",
       " '/home/sshankar/raiders/derivatives/sub-14',\n",
       " '/home/sshankar/raiders/derivatives/sub-15']"
      ]
     },
     "execution_count": 12,
     "metadata": {},
     "output_type": "execute_result"
    }
   ],
   "source": [
    "subs_hi"
   ]
  },
  {
   "cell_type": "code",
   "execution_count": 21,
   "metadata": {},
   "outputs": [],
   "source": [
    "len_hi = np.zeros((len(subs_hi), 2, 6))\n",
    "\n",
    "for s, sub in enumerate(subs_hi):\n",
    "    sess = sorted(glob.glob(sub + '/ses*'))\n",
    "    for si, ses in enumerate(sess):\n",
    "        nii_files = sorted(glob.glob(ses + '/' + '*nii.gz'))\n",
    "        for mi, movie_img in enumerate(nii_files):\n",
    "            dat = image.load_img(movie_img)\n",
    "            len_hi[s,si,mi] = dat.shape[-1]"
   ]
  },
  {
   "cell_type": "code",
   "execution_count": null,
   "metadata": {},
   "outputs": [],
   "source": [
    "len_hi = np.zeros((len(subs_hi), 2, 6))\n",
    "\n",
    "for s, sub in enumerate(subs_hi):\n",
    "    sess = sorted(glob.glob(sub + '/ses*'))\n",
    "    for si, ses in enumerate(sess):\n",
    "        nii_files = sorted(glob.glob(ses + '/' + '*nii.gz'))\n",
    "        for mi, movie_img in enumerate(nii_files):\n",
    "            dat = image.load_img(movie_img)\n",
    "            len_hi[s,si,mi] = dat.shape[-1]"
   ]
  },
  {
   "cell_type": "code",
   "execution_count": 17,
   "metadata": {},
   "outputs": [
    {
     "data": {
      "text/plain": [
       "379"
      ]
     },
     "execution_count": 17,
     "metadata": {},
     "output_type": "execute_result"
    }
   ],
   "source": [
    "dat.shape[-1]"
   ]
  },
  {
   "cell_type": "code",
   "execution_count": 22,
   "metadata": {},
   "outputs": [
    {
     "data": {
      "text/plain": [
       "array([[[379., 347., 346., 374., 297., 314.],\n",
       "        [281., 211., 375., 297., 350., 353.]],\n",
       "\n",
       "       [[379., 347., 346., 374., 297., 314.],\n",
       "        [281., 211., 375., 297., 350., 353.]],\n",
       "\n",
       "       [[379., 347., 346., 374., 297., 314.],\n",
       "        [281., 211., 375., 297., 350., 353.]],\n",
       "\n",
       "       [[379., 347., 346., 374., 297., 314.],\n",
       "        [281., 211., 375., 297., 350., 353.]],\n",
       "\n",
       "       [[379., 347., 346., 374., 297., 314.],\n",
       "        [281., 211., 375., 297., 350., 353.]],\n",
       "\n",
       "       [[379., 347., 346., 374., 297., 314.],\n",
       "        [281., 211., 375., 297., 350., 353.]],\n",
       "\n",
       "       [[379., 347., 346., 374., 297., 314.],\n",
       "        [281., 211., 375., 297., 350., 353.]],\n",
       "\n",
       "       [[379., 347., 346., 374., 297., 314.],\n",
       "        [281., 211., 375., 297., 350., 353.]],\n",
       "\n",
       "       [[379., 347., 346., 374., 297., 314.],\n",
       "        [281., 211., 375., 297., 350., 353.]],\n",
       "\n",
       "       [[379., 347., 346., 374., 297., 314.],\n",
       "        [281., 211., 375., 297., 350., 353.]],\n",
       "\n",
       "       [[379., 347., 346., 374., 297., 314.],\n",
       "        [281., 211., 375., 297., 350., 353.]]])"
      ]
     },
     "execution_count": 22,
     "metadata": {},
     "output_type": "execute_result"
    }
   ],
   "source": [
    "len_hi"
   ]
  },
  {
   "cell_type": "code",
   "execution_count": 28,
   "metadata": {},
   "outputs": [],
   "source": [
    "len_lo = np.zeros((len(subs_lo), 2, 6))\n",
    "\n",
    "for s, sub in enumerate(subs_lo):\n",
    "    sess = sorted(glob.glob(sub + '/ses*'))\n",
    "    for si, ses in enumerate(sess):\n",
    "        nii_files = sorted(glob.glob(ses + '/' + 'wrdc*nii.gz'))\n",
    "        for mi, movie_img in enumerate(nii_files):\n",
    "            dat = image.load_img(movie_img)\n",
    "            len_lo[s,si,mi] = dat.shape[-1]"
   ]
  },
  {
   "cell_type": "code",
   "execution_count": 29,
   "metadata": {},
   "outputs": [
    {
     "data": {
      "text/plain": [
       "array([[[379., 347., 346., 374., 297., 314.],\n",
       "        [281., 211., 375., 314., 350., 353.]],\n",
       "\n",
       "       [[379., 347., 346., 374., 297., 314.],\n",
       "        [281., 211., 375., 314., 350., 353.]],\n",
       "\n",
       "       [[379., 347., 346., 374., 297., 314.],\n",
       "        [281., 211., 375., 314., 350., 353.]],\n",
       "\n",
       "       [[379., 347., 346., 374., 297., 314.],\n",
       "        [281., 211., 375., 314., 350., 353.]],\n",
       "\n",
       "       [[379., 347., 346., 374., 297., 314.],\n",
       "        [281., 211., 375., 314., 350., 353.]],\n",
       "\n",
       "       [[379., 347., 346., 374., 297., 314.],\n",
       "        [281., 211., 375., 314., 350., 353.]],\n",
       "\n",
       "       [[379., 347., 346., 374., 297., 314.],\n",
       "        [281., 211., 375., 314., 350., 353.]],\n",
       "\n",
       "       [[379., 347., 346., 374., 297., 314.],\n",
       "        [281., 211., 375., 314., 350., 353.]],\n",
       "\n",
       "       [[379., 347., 346., 374., 297., 314.],\n",
       "        [281., 211., 375., 314., 350., 353.]],\n",
       "\n",
       "       [[379., 347., 346., 374., 297., 314.],\n",
       "        [281., 211., 375., 314., 350., 353.]],\n",
       "\n",
       "       [[379., 347., 346., 374., 297., 314.],\n",
       "        [281., 211., 375., 297., 350., 353.]]])"
      ]
     },
     "execution_count": 29,
     "metadata": {},
     "output_type": "execute_result"
    }
   ],
   "source": [
    "len_lo"
   ]
  },
  {
   "cell_type": "code",
   "execution_count": null,
   "metadata": {},
   "outputs": [],
   "source": []
  }
 ],
 "metadata": {
  "kernelspec": {
   "display_name": "Python 3",
   "language": "python",
   "name": "python3"
  },
  "language_info": {
   "codemirror_mode": {
    "name": "ipython",
    "version": 3
   },
   "file_extension": ".py",
   "mimetype": "text/x-python",
   "name": "python",
   "nbconvert_exporter": "python",
   "pygments_lexer": "ipython3",
   "version": "3.6.9"
  }
 },
 "nbformat": 4,
 "nbformat_minor": 2
}
