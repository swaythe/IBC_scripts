{
 "cells": [
  {
   "cell_type": "code",
   "execution_count": 1,
   "metadata": {},
   "outputs": [
    {
     "name": "stderr",
     "output_type": "stream",
     "text": [
      "/home/sshankar/env/modl/lib/python3.6/site-packages/sklearn/externals/joblib/__init__.py:15: DeprecationWarning: sklearn.externals.joblib is deprecated in 0.21 and will be removed in 0.23. Please import this functionality directly from joblib, which can be installed with: pip install joblib. If this warning is raised when loading pickled models, you may need to re-serialize those models with scikit-learn 0.21+.\n",
      "  warnings.warn(msg, category=DeprecationWarning)\n"
     ]
    }
   ],
   "source": [
    "import matplotlib.pyplot as mpl\n",
    "# mpl.use('Qt5Agg')\n",
    "\n",
    "from nilearn.datasets import fetch_atlas_basc_multiscale_2015\n",
    "from modl.input_data.fmri.fixes import monkey_patch_nifti_image\n",
    "\n",
    "monkey_patch_nifti_image()\n",
    "\n",
    "import matplotlib.pyplot as plt\n",
    "from sklearn.externals.joblib import Memory\n",
    "from sklearn.model_selection import train_test_split\n",
    "\n",
    "from modl.datasets import fetch_adhd\n",
    "from modl.decomposition.fmri import fMRIDictFact, rfMRIDictionaryScorer\n",
    "from modl.plotting.fmri import display_maps\n",
    "from modl.utils.system import get_cache_dirs\n",
    "\n",
    "import ibc_public\n",
    "import os\n",
    "import glob\n",
    "import nibabel as nib"
   ]
  },
  {
   "cell_type": "code",
   "execution_count": 62,
   "metadata": {},
   "outputs": [],
   "source": [
    "from modl.decomposition.fmri import fMRIDictFact, rfMRIDictionaryScorer"
   ]
  },
  {
   "cell_type": "code",
   "execution_count": 2,
   "metadata": {},
   "outputs": [],
   "source": [
    "n_components = 20\n",
    "batch_size = 50\n",
    "learning_rate = .92\n",
    "method = 'masked'\n",
    "step_size = 0.01\n",
    "reduction = 12\n",
    "alpha = 1e-3\n",
    "n_epochs = 2\n",
    "verbose = 15\n",
    "n_jobs = 2\n",
    "smoothing_fwhm = 6"
   ]
  },
  {
   "cell_type": "code",
   "execution_count": 3,
   "metadata": {},
   "outputs": [],
   "source": [
    "dict_init = fetch_atlas_basc_multiscale_2015()['scale444']"
   ]
  },
  {
   "cell_type": "code",
   "execution_count": 4,
   "metadata": {},
   "outputs": [
    {
     "name": "stderr",
     "output_type": "stream",
     "text": [
      "/home/sshankar/env/modl/lib/python3.6/site-packages/ipykernel_launcher.py:4: DeprecationWarning: The 'cachedir' parameter has been deprecated in version 0.12 and will be removed in version 0.14.\n",
      "You provided \"cachedir='/home/sshankar/cache'\", use \"location='/home/sshankar/cache'\" instead.\n",
      "  after removing the cwd from sys.path.\n"
     ]
    }
   ],
   "source": [
    "_package_directory = os.path.dirname(os.path.abspath(ibc_public.__file__))\n",
    "mask = nib.load(os.path.join(_package_directory, '../ibc_data', 'gm_mask_3mm.nii.gz'))\n",
    "\n",
    "memory = Memory(cachedir=get_cache_dirs()[0], verbose=2)\n"
   ]
  },
  {
   "cell_type": "code",
   "execution_count": 5,
   "metadata": {},
   "outputs": [],
   "source": [
    "# Now create a list of movie session files \n",
    "movie_dir = '/home/sshankar/raiders/3mm/'\n",
    "subs = sorted(os.listdir(movie_dir))\n",
    "\n",
    "# Create 2D masked arrays from image data and save to file for quick and easy access\n",
    "for s, sub in enumerate(subs):\n",
    "    if os.path.isdir(os.path.join(movie_dir, sub)):\n",
    "        sub_arrays = []\n",
    "        sess = sorted(os.listdir(os.path.join(movie_dir, sub)))\n",
    "        for i, ses in enumerate(sess):\n",
    "            movie_imgs = sorted(glob.glob(os.path.join(movie_dir, sub, ses, '*.nii.gz')))\n",
    "            for mi in range(len(movie_imgs)):\n",
    "                sub_arrays.append(movie_imgs[mi])\n",
    "        movie_arrays.append(sub_arrays)"
   ]
  },
  {
   "cell_type": "code",
   "execution_count": 48,
   "metadata": {},
   "outputs": [],
   "source": [
    "import numpy as np\n",
    "mov_arr = np.array(movie_arrays, dtype=)"
   ]
  },
  {
   "cell_type": "code",
   "execution_count": 5,
   "metadata": {},
   "outputs": [],
   "source": [
    "# Now create a list of movie session files \n",
    "movie_dir = '/home/sshankar/raiders/3mm/'\n",
    "subs = sorted(os.listdir(movie_dir))\n",
    "\n",
    "movie_arrays = []\n",
    "\n",
    "# Create 2D masked arrays from image data and save to file for quick and easy access\n",
    "for s, sub in enumerate(subs):\n",
    "    if os.path.isdir(os.path.join(movie_dir, sub)):\n",
    "        sub_arrays = []\n",
    "        sess = sorted(os.listdir(os.path.join(movie_dir, sub)))\n",
    "        i = 0\n",
    "        ses = sess[21]\n",
    "#         for i, ses in enumerate(sess):\n",
    "        movie_imgs = sorted(glob.glob(os.path.join(movie_dir, sub, ses, '*.nii.gz')))\n",
    "        sub_arrays.append(movie_imgs[i])\n",
    "        movie_arrays.append(sub_arrays)"
   ]
  },
  {
   "cell_type": "code",
   "execution_count": 6,
   "metadata": {},
   "outputs": [],
   "source": [
    "import pandas as pd\n",
    "mov_df = pd.DataFrame(data=movie_arrays, columns=['data']).values"
   ]
  },
  {
   "cell_type": "code",
   "execution_count": 56,
   "metadata": {},
   "outputs": [
    {
     "data": {
      "text/plain": [
       "array([['/home/sshankar/raiders/3mm/sub-01/ses-01/wrdcsub-01_ses-16_task-Raiders_acq-ap_run-04_bold.nii.gz'],\n",
       "       ['/home/sshankar/raiders/3mm/sub-04/ses-01/wrdcsub-04_ses-13_task-Raiders_acq-ap_run-04_bold.nii.gz'],\n",
       "       ['/home/sshankar/raiders/3mm/sub-05/ses-01/wrdcsub-05_ses-13_task-Raiders_acq-ap_run-04_bold.nii.gz'],\n",
       "       ['/home/sshankar/raiders/3mm/sub-06/ses-01/wrdcsub-06_ses-13_task-Raiders_acq-ap_run-04_bold.nii.gz'],\n",
       "       ['/home/sshankar/raiders/3mm/sub-07/ses-01/wrdcsub-07_ses-14_task-Raiders_acq-ap_run-04_bold.nii.gz'],\n",
       "       ['/home/sshankar/raiders/3mm/sub-09/ses-01/wrdcsub-09_ses-14_task-Raiders_acq-ap_run-04_bold.nii.gz'],\n",
       "       ['/home/sshankar/raiders/3mm/sub-11/ses-01/wrdcsub-11_ses-14_task-Raiders_acq-ap_run-04_bold.nii.gz'],\n",
       "       ['/home/sshankar/raiders/3mm/sub-12/ses-01/wrdcsub-12_ses-14_task-Raiders_acq-ap_run-04_bold.nii.gz'],\n",
       "       ['/home/sshankar/raiders/3mm/sub-13/ses-01/wrdcsub-13_ses-13_task-Raiders_acq-ap_run-04_bold.nii.gz'],\n",
       "       ['/home/sshankar/raiders/3mm/sub-14/ses-01/wrdcsub-14_ses-14_task-Raiders_acq-ap_run-04_bold.nii.gz']],\n",
       "      dtype=object)"
      ]
     },
     "execution_count": 56,
     "metadata": {},
     "output_type": "execute_result"
    }
   ],
   "source": [
    "mov_df"
   ]
  },
  {
   "cell_type": "code",
   "execution_count": 61,
   "metadata": {},
   "outputs": [
    {
     "data": {
      "text/plain": [
       "numpy.ndarray"
      ]
     },
     "execution_count": 61,
     "metadata": {},
     "output_type": "execute_result"
    }
   ],
   "source": [
    "type(mov_df[0])"
   ]
  },
  {
   "cell_type": "code",
   "execution_count": null,
   "metadata": {},
   "outputs": [],
   "source": [
    "# Now create a list of movie session files \n",
    "movie_dir = '/home/sshankar/raiders/3mm/'\n",
    "subs = sorted(os.listdir(movie_dir))\n",
    "\n",
    "movie_arrays = np.((10), dtype=object)\n",
    "\n",
    "sidx = 0\n",
    "# Create 2D masked arrays from image data and save to file for quick and easy access\n",
    "for s, sub in enumerate(subs):\n",
    "    if os.path.isdir(os.path.join(movie_dir, sub)):\n",
    "        sub_arrays = []\n",
    "        sess = sorted(os.listdir(os.path.join(movie_dir, sub)))\n",
    "        i = 0\n",
    "        ses = sess[21]\n",
    "#         for i, ses in enumerate(sess):\n",
    "        movie_imgs = sorted(glob.glob(os.path.join(movie_dir, sub, ses, '*.nii.gz')))\n",
    "        sub_arrays.append(movie_imgs[i])\n",
    "        movie_arrays[sidx] = movie_imgs[i]\n",
    "        sidx += 1"
   ]
  },
  {
   "cell_type": "code",
   "execution_count": 45,
   "metadata": {},
   "outputs": [],
   "source": [
    "movie_arrays = np.empty_like((10), dtype=object)"
   ]
  },
  {
   "cell_type": "code",
   "execution_count": 46,
   "metadata": {},
   "outputs": [
    {
     "data": {
      "text/plain": [
       "array(None, dtype=object)"
      ]
     },
     "execution_count": 46,
     "metadata": {},
     "output_type": "execute_result"
    }
   ],
   "source": [
    "movie_arrays"
   ]
  },
  {
   "cell_type": "code",
   "execution_count": 38,
   "metadata": {},
   "outputs": [
    {
     "data": {
      "text/plain": [
       "str"
      ]
     },
     "execution_count": 38,
     "metadata": {},
     "output_type": "execute_result"
    }
   ],
   "source": [
    "type(movie_imgs[i])"
   ]
  },
  {
   "cell_type": "code",
   "execution_count": 19,
   "metadata": {},
   "outputs": [
    {
     "data": {
      "text/plain": [
       "[['/home/sshankar/raiders/3mm/sub-01/ses-01/wrdcsub-01_ses-16_task-Raiders_acq-ap_run-04_bold.nii.gz'],\n",
       " ['/home/sshankar/raiders/3mm/sub-04/ses-01/wrdcsub-04_ses-13_task-Raiders_acq-ap_run-04_bold.nii.gz'],\n",
       " ['/home/sshankar/raiders/3mm/sub-05/ses-01/wrdcsub-05_ses-13_task-Raiders_acq-ap_run-04_bold.nii.gz'],\n",
       " ['/home/sshankar/raiders/3mm/sub-06/ses-01/wrdcsub-06_ses-13_task-Raiders_acq-ap_run-04_bold.nii.gz'],\n",
       " ['/home/sshankar/raiders/3mm/sub-07/ses-01/wrdcsub-07_ses-14_task-Raiders_acq-ap_run-04_bold.nii.gz'],\n",
       " ['/home/sshankar/raiders/3mm/sub-09/ses-01/wrdcsub-09_ses-14_task-Raiders_acq-ap_run-04_bold.nii.gz'],\n",
       " ['/home/sshankar/raiders/3mm/sub-11/ses-01/wrdcsub-11_ses-14_task-Raiders_acq-ap_run-04_bold.nii.gz'],\n",
       " ['/home/sshankar/raiders/3mm/sub-12/ses-01/wrdcsub-12_ses-14_task-Raiders_acq-ap_run-04_bold.nii.gz'],\n",
       " ['/home/sshankar/raiders/3mm/sub-13/ses-01/wrdcsub-13_ses-13_task-Raiders_acq-ap_run-04_bold.nii.gz'],\n",
       " ['/home/sshankar/raiders/3mm/sub-14/ses-01/wrdcsub-14_ses-14_task-Raiders_acq-ap_run-04_bold.nii.gz']]"
      ]
     },
     "execution_count": 19,
     "metadata": {},
     "output_type": "execute_result"
    }
   ],
   "source": [
    "movie_arrays"
   ]
  },
  {
   "cell_type": "code",
   "execution_count": 15,
   "metadata": {},
   "outputs": [],
   "source": [
    "cb = rfMRIDictionaryScorer(test_imgs, test_confounds=test_confounds)"
   ]
  },
  {
   "cell_type": "code",
   "execution_count": 7,
   "metadata": {},
   "outputs": [],
   "source": [
    "dict_fact = fMRIDictFact(smoothing_fwhm=smoothing_fwhm,\n",
    "                         standardize=True,\n",
    "                         high_pass=1./128,\n",
    "                         t_r=2.0,\n",
    "                         method=method,\n",
    "                         step_size=step_size,\n",
    "                         mask=mask,\n",
    "                         memory=memory,\n",
    "                         memory_level=2,\n",
    "                         verbose=verbose,\n",
    "                         n_epochs=n_epochs,\n",
    "                         n_jobs=n_jobs,\n",
    "                         random_state=1,\n",
    "                         n_components=n_components,\n",
    "                         dict_init=dict_init,\n",
    "                         positive=True,\n",
    "                         learning_rate=learning_rate,\n",
    "                         batch_size=batch_size,\n",
    "                         reduction=reduction,\n",
    "                         alpha=alpha,\n",
    "                         )"
   ]
  },
  {
   "cell_type": "code",
   "execution_count": 8,
   "metadata": {},
   "outputs": [
    {
     "name": "stderr",
     "output_type": "stream",
     "text": [
      "WARNING:root:[MemorizedFunc(func=<function _compute_components at 0x7f308c6aeb70>, location=/home/sshankar/cache/joblib)]: Clearing function cache identified by modl/decomposition/fmri/_compute_components\n"
     ]
    },
    {
     "name": "stdout",
     "output_type": "stream",
     "text": [
      "[MultiNiftiMasker.fit] Loading data from None\n",
      "[MultiNiftiMasker.transform] Resampling mask\n",
      "[Memory]8.9s, 0.1min    : Loading resample_img...\n",
      "[Memory]9.0s, 0.2min    : Loading unmask...\n",
      "________________________________________________________________________________\n",
      "[Memory] Calling modl.decomposition.fmri._compute_components...\n",
      "_compute_components(MultiNiftiMasker(detrend=True, dtype=None, high_pass=0.0078125, low_pass=None,\n",
      "                 mask_args=None,\n",
      "                 mask_img=<modl.input_data.fmri.fixes.Nifti1Image object at 0x7f30831b56d8>,\n",
      "                 mask_strategy='background',\n",
      "                 memory=Memory(location=/home/sshankar/cache/joblib),\n",
      "                 memory_level=1, n_jobs=2, smoothing_fwhm=6, standardize=True,\n",
      "                 t_r=2.0, target_affine=None, target_shape=None, verbose=15), \n",
      "array([['/home/sshankar/raiders/3mm/sub-01/ses-01/wrdcsub-01_ses-16_task-Raiders_acq-ap_run-04_bold.nii.gz'],\n",
      "       ['/home/sshankar/raiders/3mm/sub-04/ses-01/wrdcsub-04_ses-13_task-Raiders_acq-ap_run-04_bold.nii.gz'],\n",
      "       ['/home/sshankar/raiders/3mm/sub-05/ses-01/wrdcsub-05_ses-13_task-Raiders_acq-ap_run-04_bold.nii.gz'],\n",
      "       ['/home/sshankar/raiders/3mm/sub-06/ses-01/wrdcsub-06_ses-13_task-Raiders_acq-ap_run-04_bold.nii.gz'],\n",
      "       ['/home/sshankar/raiders/3mm/sub-07/ses-01/wrdcsub-07_ses-14_task-Raiders_acq-ap_run-04_bold.nii.gz'],\n",
      "       ['/home/sshankar/raiders/3mm/sub-09/ses-01/wrdcsub-09_ses-14_task-Raiders_acq-ap_run-04_bold.nii.gz'],\n",
      "       ['/home/sshankar/raiders/3mm/sub-11/ses-01/wrdcsub-11_ses-14_task-Raiders_acq-ap_run-04_bold.nii.gz'],\n",
      "       ['/home/sshankar/raiders/3mm/sub-12/ses-01/wrdcsub-12_ses-14_task-Raiders_acq-ap_run-04_bold.nii.gz'],\n",
      "       ['/home/sshankar/raiders/3mm/sub-13/ses-01/wrdcsub-13_ses-13_task-Raiders_acq-ap_run-04_bold.nii.gz'],\n",
      "       ['/home/sshankar/raiders/3mm/sub-14/ses-01/wrdcsub-14_ses-14_task-Raiders_acq-ap_run-04_bold.nii.gz']],\n",
      "      dtype=object), step_size=0.01, confounds=None, dict_init=array([[126.12353, ..., 313.50525]], dtype=float32), alpha=0.001, reduction=12, learning_rate=0.92, n_components=20, batch_size=50, positive=True, n_epochs=2, method='masked', verbose=15, random_state=1, callback=None, n_jobs=2)\n",
      "Scanning data\n",
      "['/home/sshankar/raiders/3mm/sub-01/ses-01/wrdcsub-01_ses-16_task-Raiders_acq-ap_run-04_bold.nii.gz']\n",
      "['/home/sshankar/raiders/3mm/sub-04/ses-01/wrdcsub-04_ses-13_task-Raiders_acq-ap_run-04_bold.nii.gz']\n",
      "['/home/sshankar/raiders/3mm/sub-05/ses-01/wrdcsub-05_ses-13_task-Raiders_acq-ap_run-04_bold.nii.gz']\n",
      "['/home/sshankar/raiders/3mm/sub-06/ses-01/wrdcsub-06_ses-13_task-Raiders_acq-ap_run-04_bold.nii.gz']\n",
      "['/home/sshankar/raiders/3mm/sub-07/ses-01/wrdcsub-07_ses-14_task-Raiders_acq-ap_run-04_bold.nii.gz']\n",
      "['/home/sshankar/raiders/3mm/sub-09/ses-01/wrdcsub-09_ses-14_task-Raiders_acq-ap_run-04_bold.nii.gz']\n",
      "['/home/sshankar/raiders/3mm/sub-11/ses-01/wrdcsub-11_ses-14_task-Raiders_acq-ap_run-04_bold.nii.gz']\n",
      "['/home/sshankar/raiders/3mm/sub-12/ses-01/wrdcsub-12_ses-14_task-Raiders_acq-ap_run-04_bold.nii.gz']\n",
      "['/home/sshankar/raiders/3mm/sub-13/ses-01/wrdcsub-13_ses-13_task-Raiders_acq-ap_run-04_bold.nii.gz']\n",
      "['/home/sshankar/raiders/3mm/sub-14/ses-01/wrdcsub-14_ses-14_task-Raiders_acq-ap_run-04_bold.nii.gz']\n",
      "Learning...\n",
      "Epoch 1\n",
      "Record 0\n",
      "['/home/sshankar/raiders/3mm/sub-05/ses-01/wrdcsub-05_ses-13_task-Raiders_acq-ap_run-04_bold.nii.gz']\n",
      "<class 'numpy.ndarray'>\n",
      "<class 'numpy.ndarray'>\n",
      "[[[ 5.1151730e-02 -3.8417749e-02  1.7642410e-01 ...  5.4222833e-02\n",
      "    5.8399558e-02  7.2423361e-02]\n",
      "  [-4.1985588e+00 -3.4404570e-01 -3.7315116e+00 ... -6.5321221e+00\n",
      "   -5.4547734e+00 -2.7651227e+00]\n",
      "  [ 4.1603419e-01  3.4420006e+00  2.2119153e-01 ... -2.4516668e+00\n",
      "   -4.0614648e+00 -3.0597646e+00]\n",
      "  ...\n",
      "  [-3.7255783e+00 -3.0186198e+00 -6.3406000e+00 ... -1.2282199e+00\n",
      "   -1.2599684e+00 -1.6188095e+00]\n",
      "  [ 4.9401236e-01  8.3136141e-01  1.3816078e+00 ... -8.7886465e-01\n",
      "   -7.8970119e-02 -3.0453348e-01]\n",
      "  [-1.1521139e-01 -3.0172074e-01 -1.9576181e-01 ... -1.5838934e-01\n",
      "    4.7510746e-04 -1.4792925e-02]]]\n"
     ]
    },
    {
     "ename": "ValueError",
     "evalue": "Found array with dim 3. Estimator expected <= 2.",
     "output_type": "error",
     "traceback": [
      "\u001b[0;31m---------------------------------------------------------------------------\u001b[0m",
      "\u001b[0;31mValueError\u001b[0m                                Traceback (most recent call last)",
      "\u001b[0;32m<ipython-input-8-07166eee0609>\u001b[0m in \u001b[0;36m<module>\u001b[0;34m\u001b[0m\n\u001b[0;32m----> 1\u001b[0;31m \u001b[0mdict_fact\u001b[0m\u001b[0;34m.\u001b[0m\u001b[0mfit\u001b[0m\u001b[0;34m(\u001b[0m\u001b[0mmov_df\u001b[0m\u001b[0;34m)\u001b[0m\u001b[0;34m\u001b[0m\u001b[0;34m\u001b[0m\u001b[0m\n\u001b[0m",
      "\u001b[0;32m~/env/modl/lib/python3.6/site-packages/modl/decomposition/fmri.py\u001b[0m in \u001b[0;36mfit\u001b[0;34m(self, imgs, y, confounds)\u001b[0m\n\u001b[1;32m    360\u001b[0m             \u001b[0mrandom_state\u001b[0m\u001b[0;34m=\u001b[0m\u001b[0mself\u001b[0m\u001b[0;34m.\u001b[0m\u001b[0mrandom_state\u001b[0m\u001b[0;34m,\u001b[0m\u001b[0;34m\u001b[0m\u001b[0;34m\u001b[0m\u001b[0m\n\u001b[1;32m    361\u001b[0m             \u001b[0mcallback\u001b[0m\u001b[0;34m=\u001b[0m\u001b[0mself\u001b[0m\u001b[0;34m.\u001b[0m\u001b[0mcallback\u001b[0m\u001b[0;34m,\u001b[0m\u001b[0;34m\u001b[0m\u001b[0;34m\u001b[0m\u001b[0m\n\u001b[0;32m--> 362\u001b[0;31m             n_jobs=self.n_jobs)\n\u001b[0m\u001b[1;32m    363\u001b[0m         \u001b[0mself\u001b[0m\u001b[0;34m.\u001b[0m\u001b[0mcomponents_img_\u001b[0m \u001b[0;34m=\u001b[0m \u001b[0mself\u001b[0m\u001b[0;34m.\u001b[0m\u001b[0mmasker_\u001b[0m\u001b[0;34m.\u001b[0m\u001b[0minverse_transform\u001b[0m\u001b[0;34m(\u001b[0m\u001b[0mself\u001b[0m\u001b[0;34m.\u001b[0m\u001b[0mcomponents_\u001b[0m\u001b[0;34m)\u001b[0m\u001b[0;34m\u001b[0m\u001b[0;34m\u001b[0m\u001b[0m\n\u001b[1;32m    364\u001b[0m         self.coder_ = Coder(dictionary=self.components_,\n",
      "\u001b[0;32m~/env/modl/lib/python3.6/site-packages/joblib/memory.py\u001b[0m in \u001b[0;36m__call__\u001b[0;34m(self, *args, **kwargs)\u001b[0m\n\u001b[1;32m    566\u001b[0m \u001b[0;34m\u001b[0m\u001b[0m\n\u001b[1;32m    567\u001b[0m     \u001b[0;32mdef\u001b[0m \u001b[0m__call__\u001b[0m\u001b[0;34m(\u001b[0m\u001b[0mself\u001b[0m\u001b[0;34m,\u001b[0m \u001b[0;34m*\u001b[0m\u001b[0margs\u001b[0m\u001b[0;34m,\u001b[0m \u001b[0;34m**\u001b[0m\u001b[0mkwargs\u001b[0m\u001b[0;34m)\u001b[0m\u001b[0;34m:\u001b[0m\u001b[0;34m\u001b[0m\u001b[0;34m\u001b[0m\u001b[0m\n\u001b[0;32m--> 568\u001b[0;31m         \u001b[0;32mreturn\u001b[0m \u001b[0mself\u001b[0m\u001b[0;34m.\u001b[0m\u001b[0m_cached_call\u001b[0m\u001b[0;34m(\u001b[0m\u001b[0margs\u001b[0m\u001b[0;34m,\u001b[0m \u001b[0mkwargs\u001b[0m\u001b[0;34m)\u001b[0m\u001b[0;34m[\u001b[0m\u001b[0;36m0\u001b[0m\u001b[0;34m]\u001b[0m\u001b[0;34m\u001b[0m\u001b[0;34m\u001b[0m\u001b[0m\n\u001b[0m\u001b[1;32m    569\u001b[0m \u001b[0;34m\u001b[0m\u001b[0m\n\u001b[1;32m    570\u001b[0m     \u001b[0;32mdef\u001b[0m \u001b[0m__getstate__\u001b[0m\u001b[0;34m(\u001b[0m\u001b[0mself\u001b[0m\u001b[0;34m)\u001b[0m\u001b[0;34m:\u001b[0m\u001b[0;34m\u001b[0m\u001b[0;34m\u001b[0m\u001b[0m\n",
      "\u001b[0;32m~/env/modl/lib/python3.6/site-packages/joblib/memory.py\u001b[0m in \u001b[0;36m_cached_call\u001b[0;34m(self, args, kwargs, shelving)\u001b[0m\n\u001b[1;32m    532\u001b[0m \u001b[0;34m\u001b[0m\u001b[0m\n\u001b[1;32m    533\u001b[0m         \u001b[0;32mif\u001b[0m \u001b[0mmust_call\u001b[0m\u001b[0;34m:\u001b[0m\u001b[0;34m\u001b[0m\u001b[0;34m\u001b[0m\u001b[0m\n\u001b[0;32m--> 534\u001b[0;31m             \u001b[0mout\u001b[0m\u001b[0;34m,\u001b[0m \u001b[0mmetadata\u001b[0m \u001b[0;34m=\u001b[0m \u001b[0mself\u001b[0m\u001b[0;34m.\u001b[0m\u001b[0mcall\u001b[0m\u001b[0;34m(\u001b[0m\u001b[0;34m*\u001b[0m\u001b[0margs\u001b[0m\u001b[0;34m,\u001b[0m \u001b[0;34m**\u001b[0m\u001b[0mkwargs\u001b[0m\u001b[0;34m)\u001b[0m\u001b[0;34m\u001b[0m\u001b[0;34m\u001b[0m\u001b[0m\n\u001b[0m\u001b[1;32m    535\u001b[0m             \u001b[0;32mif\u001b[0m \u001b[0mself\u001b[0m\u001b[0;34m.\u001b[0m\u001b[0mmmap_mode\u001b[0m \u001b[0;32mis\u001b[0m \u001b[0;32mnot\u001b[0m \u001b[0;32mNone\u001b[0m\u001b[0;34m:\u001b[0m\u001b[0;34m\u001b[0m\u001b[0;34m\u001b[0m\u001b[0m\n\u001b[1;32m    536\u001b[0m                 \u001b[0;31m# Memmap the output at the first call to be consistent with\u001b[0m\u001b[0;34m\u001b[0m\u001b[0;34m\u001b[0m\u001b[0;34m\u001b[0m\u001b[0m\n",
      "\u001b[0;32m~/env/modl/lib/python3.6/site-packages/joblib/memory.py\u001b[0m in \u001b[0;36mcall\u001b[0;34m(self, *args, **kwargs)\u001b[0m\n\u001b[1;32m    732\u001b[0m         \u001b[0;32mif\u001b[0m \u001b[0mself\u001b[0m\u001b[0;34m.\u001b[0m\u001b[0m_verbose\u001b[0m \u001b[0;34m>\u001b[0m \u001b[0;36m0\u001b[0m\u001b[0;34m:\u001b[0m\u001b[0;34m\u001b[0m\u001b[0;34m\u001b[0m\u001b[0m\n\u001b[1;32m    733\u001b[0m             \u001b[0mprint\u001b[0m\u001b[0;34m(\u001b[0m\u001b[0mformat_call\u001b[0m\u001b[0;34m(\u001b[0m\u001b[0mself\u001b[0m\u001b[0;34m.\u001b[0m\u001b[0mfunc\u001b[0m\u001b[0;34m,\u001b[0m \u001b[0margs\u001b[0m\u001b[0;34m,\u001b[0m \u001b[0mkwargs\u001b[0m\u001b[0;34m)\u001b[0m\u001b[0;34m)\u001b[0m\u001b[0;34m\u001b[0m\u001b[0;34m\u001b[0m\u001b[0m\n\u001b[0;32m--> 734\u001b[0;31m         \u001b[0moutput\u001b[0m \u001b[0;34m=\u001b[0m \u001b[0mself\u001b[0m\u001b[0;34m.\u001b[0m\u001b[0mfunc\u001b[0m\u001b[0;34m(\u001b[0m\u001b[0;34m*\u001b[0m\u001b[0margs\u001b[0m\u001b[0;34m,\u001b[0m \u001b[0;34m**\u001b[0m\u001b[0mkwargs\u001b[0m\u001b[0;34m)\u001b[0m\u001b[0;34m\u001b[0m\u001b[0;34m\u001b[0m\u001b[0m\n\u001b[0m\u001b[1;32m    735\u001b[0m         self.store_backend.dump_item(\n\u001b[1;32m    736\u001b[0m             [func_id, args_id], output, verbose=self._verbose)\n",
      "\u001b[0;32m~/env/modl/lib/python3.6/site-packages/modl/decomposition/fmri.py\u001b[0m in \u001b[0;36m_compute_components\u001b[0;34m(masker, imgs, step_size, confounds, dict_init, alpha, positive, reduction, learning_rate, n_components, batch_size, n_epochs, method, verbose, random_state, callback, n_jobs)\u001b[0m\n\u001b[1;32m    544\u001b[0m                 \u001b[0mmasked_data\u001b[0m \u001b[0;34m=\u001b[0m \u001b[0mmasked_data\u001b[0m\u001b[0;34m[\u001b[0m\u001b[0mpermutation\u001b[0m\u001b[0;34m]\u001b[0m\u001b[0;34m\u001b[0m\u001b[0;34m\u001b[0m\u001b[0m\n\u001b[1;32m    545\u001b[0m                 dict_fact.partial_fit(masked_data,\n\u001b[0;32m--> 546\u001b[0;31m                                       sample_indices=sample_indices)\n\u001b[0m\u001b[1;32m    547\u001b[0m                 \u001b[0mcurrent_n_records\u001b[0m \u001b[0;34m+=\u001b[0m \u001b[0;36m1\u001b[0m\u001b[0;34m\u001b[0m\u001b[0;34m\u001b[0m\u001b[0m\n\u001b[1;32m    548\u001b[0m                 \u001b[0mcpu_time\u001b[0m \u001b[0;34m+=\u001b[0m \u001b[0mtime\u001b[0m\u001b[0;34m.\u001b[0m\u001b[0mperf_counter\u001b[0m\u001b[0;34m(\u001b[0m\u001b[0;34m)\u001b[0m \u001b[0;34m-\u001b[0m \u001b[0mt0\u001b[0m\u001b[0;34m\u001b[0m\u001b[0;34m\u001b[0m\u001b[0m\n",
      "\u001b[0;32m~/env/modl/lib/python3.6/site-packages/modl/decomposition/dict_fact.py\u001b[0m in \u001b[0;36mpartial_fit\u001b[0;34m(self, X, sample_indices)\u001b[0m\n\u001b[1;32m    326\u001b[0m         \u001b[0mself\u001b[0m\u001b[0;34m\u001b[0m\u001b[0;34m\u001b[0m\u001b[0m\n\u001b[1;32m    327\u001b[0m         \"\"\"\n\u001b[0;32m--> 328\u001b[0;31m         \u001b[0mX\u001b[0m \u001b[0;34m=\u001b[0m \u001b[0mcheck_array\u001b[0m\u001b[0;34m(\u001b[0m\u001b[0mX\u001b[0m\u001b[0;34m,\u001b[0m \u001b[0mdtype\u001b[0m\u001b[0;34m=\u001b[0m\u001b[0;34m[\u001b[0m\u001b[0mnp\u001b[0m\u001b[0;34m.\u001b[0m\u001b[0mfloat32\u001b[0m\u001b[0;34m,\u001b[0m \u001b[0mnp\u001b[0m\u001b[0;34m.\u001b[0m\u001b[0mfloat64\u001b[0m\u001b[0;34m]\u001b[0m\u001b[0;34m,\u001b[0m \u001b[0morder\u001b[0m\u001b[0;34m=\u001b[0m\u001b[0;34m'C'\u001b[0m\u001b[0;34m)\u001b[0m\u001b[0;34m\u001b[0m\u001b[0;34m\u001b[0m\u001b[0m\n\u001b[0m\u001b[1;32m    329\u001b[0m \u001b[0;34m\u001b[0m\u001b[0m\n\u001b[1;32m    330\u001b[0m         \u001b[0mn_samples\u001b[0m\u001b[0;34m,\u001b[0m \u001b[0mn_features\u001b[0m \u001b[0;34m=\u001b[0m \u001b[0mX\u001b[0m\u001b[0;34m.\u001b[0m\u001b[0mshape\u001b[0m\u001b[0;34m\u001b[0m\u001b[0;34m\u001b[0m\u001b[0m\n",
      "\u001b[0;32m~/env/modl/lib/python3.6/site-packages/sklearn/utils/validation.py\u001b[0m in \u001b[0;36mcheck_array\u001b[0;34m(array, accept_sparse, accept_large_sparse, dtype, order, copy, force_all_finite, ensure_2d, allow_nd, ensure_min_samples, ensure_min_features, warn_on_dtype, estimator)\u001b[0m\n\u001b[1;32m    537\u001b[0m         \u001b[0;32mif\u001b[0m \u001b[0;32mnot\u001b[0m \u001b[0mallow_nd\u001b[0m \u001b[0;32mand\u001b[0m \u001b[0marray\u001b[0m\u001b[0;34m.\u001b[0m\u001b[0mndim\u001b[0m \u001b[0;34m>=\u001b[0m \u001b[0;36m3\u001b[0m\u001b[0;34m:\u001b[0m\u001b[0;34m\u001b[0m\u001b[0;34m\u001b[0m\u001b[0m\n\u001b[1;32m    538\u001b[0m             raise ValueError(\"Found array with dim %d. %s expected <= 2.\"\n\u001b[0;32m--> 539\u001b[0;31m                              % (array.ndim, estimator_name))\n\u001b[0m\u001b[1;32m    540\u001b[0m         \u001b[0;32mif\u001b[0m \u001b[0mforce_all_finite\u001b[0m\u001b[0;34m:\u001b[0m\u001b[0;34m\u001b[0m\u001b[0;34m\u001b[0m\u001b[0m\n\u001b[1;32m    541\u001b[0m             _assert_all_finite(array,\n",
      "\u001b[0;31mValueError\u001b[0m: Found array with dim 3. Estimator expected <= 2."
     ]
    }
   ],
   "source": [
    "dict_fact.fit(mov_df)"
   ]
  },
  {
   "cell_type": "code",
   "execution_count": null,
   "metadata": {},
   "outputs": [],
   "source": [
    "fig = plt.figure()\n",
    "display_maps(fig, dict_fact.components_img_)"
   ]
  },
  {
   "cell_type": "code",
   "execution_count": null,
   "metadata": {},
   "outputs": [],
   "source": [
    "fig = plt.figure()\n",
    "fig, ax = plt.subplots(1, 1)\n",
    "ax.plot(cb.time, cb.score, marker='o')\n",
    "plt.show()"
   ]
  },
  {
   "cell_type": "code",
   "execution_count": 8,
   "metadata": {},
   "outputs": [],
   "source": [
    "dict_fact.fit?"
   ]
  },
  {
   "cell_type": "code",
   "execution_count": 12,
   "metadata": {},
   "outputs": [
    {
     "data": {
      "text/plain": [
       "(1, 46448)"
      ]
     },
     "execution_count": 12,
     "metadata": {},
     "output_type": "execute_result"
    }
   ],
   "source": [
    "dict_fact.components_.shape"
   ]
  },
  {
   "cell_type": "code",
   "execution_count": null,
   "metadata": {},
   "outputs": [],
   "source": [
    "a = dict_fact.transform(movie_arrays)"
   ]
  },
  {
   "cell_type": "code",
   "execution_count": 18,
   "metadata": {},
   "outputs": [],
   "source": [
    "dict_fact.transform?"
   ]
  }
 ],
 "metadata": {
  "kernelspec": {
   "display_name": "Python 3",
   "language": "python",
   "name": "python3"
  },
  "language_info": {
   "codemirror_mode": {
    "name": "ipython",
    "version": 3
   },
   "file_extension": ".py",
   "mimetype": "text/x-python",
   "name": "python",
   "nbconvert_exporter": "python",
   "pygments_lexer": "ipython3",
   "version": "3.6.8"
  }
 },
 "nbformat": 4,
 "nbformat_minor": 2
}
