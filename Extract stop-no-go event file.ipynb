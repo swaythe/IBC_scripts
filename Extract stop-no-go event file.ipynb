{
 "cells": [
  {
   "cell_type": "code",
   "execution_count": 1,
   "metadata": {},
   "outputs": [],
   "source": [
    "import os\n",
    "import pandas as pd\n",
    "import numpy as np\n",
    "import matplotlib.pyplot as plt\n",
    "import glob\n",
    "%matplotlib inline"
   ]
  },
  {
   "cell_type": "code",
   "execution_count": 6,
   "metadata": {},
   "outputs": [],
   "source": [
    "sub = 'sub-04'\n",
    "ses = 'ses-01'\n",
    "\n",
    "battery = 'camcan'\n",
    "# task_source = 'gng'\n",
    "task = 'stop-nogo'\n",
    "\n",
    "main_dir = '/home/sshankar/ibc/analysis_pipeline/ibc_main/neurospin_data/info/'\n",
    "datadir = os.path.join(main_dir, sub, battery, ses)\n",
    "os.chdir(datadir)\n",
    "csv_files = sorted(glob.glob(task + '*.txt'))\n",
    "tsv_files = []\n",
    "i = 1\n",
    "# for i in range(len(csv_files)):\n",
    "tsv_files.append(task + '_' + sub + '_run-0' + str(i+1) + '.tsv')"
   ]
  },
  {
   "cell_type": "code",
   "execution_count": 3,
   "metadata": {},
   "outputs": [
    {
     "data": {
      "text/plain": [
       "['stop-nogo_sub-11_run-01_9221-1530.txt',\n",
       " 'stop-nogo_sub-11_run-02_9221-1543.txt']"
      ]
     },
     "execution_count": 3,
     "metadata": {},
     "output_type": "execute_result"
    }
   ],
   "source": [
    "csv_files"
   ]
  },
  {
   "cell_type": "code",
   "execution_count": 9,
   "metadata": {},
   "outputs": [
    {
     "data": {
      "text/plain": [
       "['stop-nogo_sub-05_run-02.tsv']"
      ]
     },
     "execution_count": 9,
     "metadata": {},
     "output_type": "execute_result"
    }
   ],
   "source": [
    "tsv_files"
   ]
  },
  {
   "cell_type": "code",
   "execution_count": 7,
   "metadata": {},
   "outputs": [],
   "source": [
    "# Read in the rest of the file\n",
    "file_df = pd.read_csv(os.path.join(datadir, csv_files[i]), sep='\\t', skipinitialspace=True)"
   ]
  },
  {
   "cell_type": "code",
   "execution_count": 12,
   "metadata": {
    "scrolled": true
   },
   "outputs": [
    {
     "data": {
      "text/html": [
       "<div>\n",
       "<style scoped>\n",
       "    .dataframe tbody tr th:only-of-type {\n",
       "        vertical-align: middle;\n",
       "    }\n",
       "\n",
       "    .dataframe tbody tr th {\n",
       "        vertical-align: top;\n",
       "    }\n",
       "\n",
       "    .dataframe thead th {\n",
       "        text-align: right;\n",
       "    }\n",
       "</style>\n",
       "<table border=\"1\" class=\"dataframe\">\n",
       "  <thead>\n",
       "    <tr style=\"text-align: right;\">\n",
       "      <th></th>\n",
       "      <th>tr#</th>\n",
       "      <th>type</th>\n",
       "      <th>arrLR</th>\n",
       "      <th>Stype</th>\n",
       "      <th>Sdel</th>\n",
       "      <th>butt</th>\n",
       "      <th>resp</th>\n",
       "      <th>resp2</th>\n",
       "      <th>RT</th>\n",
       "      <th>RT2</th>\n",
       "      <th>RTsum</th>\n",
       "      <th>eval</th>\n",
       "      <th>relStart</th>\n",
       "    </tr>\n",
       "  </thead>\n",
       "  <tbody>\n",
       "    <tr>\n",
       "      <th>0</th>\n",
       "      <td>1</td>\n",
       "      <td>0</td>\n",
       "      <td>1</td>\n",
       "      <td>0</td>\n",
       "      <td>0</td>\n",
       "      <td>1</td>\n",
       "      <td>1</td>\n",
       "      <td>0</td>\n",
       "      <td>659</td>\n",
       "      <td>0</td>\n",
       "      <td>0</td>\n",
       "      <td>1</td>\n",
       "      <td>0</td>\n",
       "    </tr>\n",
       "    <tr>\n",
       "      <th>1</th>\n",
       "      <td>2</td>\n",
       "      <td>0</td>\n",
       "      <td>2</td>\n",
       "      <td>0</td>\n",
       "      <td>0</td>\n",
       "      <td>2</td>\n",
       "      <td>2</td>\n",
       "      <td>0</td>\n",
       "      <td>432</td>\n",
       "      <td>0</td>\n",
       "      <td>0</td>\n",
       "      <td>1</td>\n",
       "      <td>2524</td>\n",
       "    </tr>\n",
       "    <tr>\n",
       "      <th>2</th>\n",
       "      <td>3</td>\n",
       "      <td>1</td>\n",
       "      <td>2</td>\n",
       "      <td>3</td>\n",
       "      <td>300</td>\n",
       "      <td>2</td>\n",
       "      <td>0</td>\n",
       "      <td>2</td>\n",
       "      <td>0</td>\n",
       "      <td>256</td>\n",
       "      <td>556</td>\n",
       "      <td>2</td>\n",
       "      <td>5066</td>\n",
       "    </tr>\n",
       "    <tr>\n",
       "      <th>3</th>\n",
       "      <td>4</td>\n",
       "      <td>0</td>\n",
       "      <td>1</td>\n",
       "      <td>0</td>\n",
       "      <td>0</td>\n",
       "      <td>1</td>\n",
       "      <td>1</td>\n",
       "      <td>0</td>\n",
       "      <td>323</td>\n",
       "      <td>0</td>\n",
       "      <td>0</td>\n",
       "      <td>1</td>\n",
       "      <td>7649</td>\n",
       "    </tr>\n",
       "    <tr>\n",
       "      <th>4</th>\n",
       "      <td>5</td>\n",
       "      <td>1</td>\n",
       "      <td>2</td>\n",
       "      <td>2</td>\n",
       "      <td>250</td>\n",
       "      <td>2</td>\n",
       "      <td>0</td>\n",
       "      <td>0</td>\n",
       "      <td>0</td>\n",
       "      <td>0</td>\n",
       "      <td>0</td>\n",
       "      <td>1</td>\n",
       "      <td>10190</td>\n",
       "    </tr>\n",
       "    <tr>\n",
       "      <th>...</th>\n",
       "      <td>...</td>\n",
       "      <td>...</td>\n",
       "      <td>...</td>\n",
       "      <td>...</td>\n",
       "      <td>...</td>\n",
       "      <td>...</td>\n",
       "      <td>...</td>\n",
       "      <td>...</td>\n",
       "      <td>...</td>\n",
       "      <td>...</td>\n",
       "      <td>...</td>\n",
       "      <td>...</td>\n",
       "      <td>...</td>\n",
       "    </tr>\n",
       "    <tr>\n",
       "      <th>235</th>\n",
       "      <td>236</td>\n",
       "      <td>0</td>\n",
       "      <td>1</td>\n",
       "      <td>0</td>\n",
       "      <td>0</td>\n",
       "      <td>1</td>\n",
       "      <td>1</td>\n",
       "      <td>0</td>\n",
       "      <td>391</td>\n",
       "      <td>0</td>\n",
       "      <td>0</td>\n",
       "      <td>1</td>\n",
       "      <td>597754</td>\n",
       "    </tr>\n",
       "    <tr>\n",
       "      <th>236</th>\n",
       "      <td>237</td>\n",
       "      <td>0</td>\n",
       "      <td>2</td>\n",
       "      <td>0</td>\n",
       "      <td>0</td>\n",
       "      <td>2</td>\n",
       "      <td>2</td>\n",
       "      <td>0</td>\n",
       "      <td>349</td>\n",
       "      <td>0</td>\n",
       "      <td>0</td>\n",
       "      <td>1</td>\n",
       "      <td>600280</td>\n",
       "    </tr>\n",
       "    <tr>\n",
       "      <th>237</th>\n",
       "      <td>238</td>\n",
       "      <td>0</td>\n",
       "      <td>2</td>\n",
       "      <td>0</td>\n",
       "      <td>0</td>\n",
       "      <td>2</td>\n",
       "      <td>2</td>\n",
       "      <td>0</td>\n",
       "      <td>449</td>\n",
       "      <td>0</td>\n",
       "      <td>0</td>\n",
       "      <td>1</td>\n",
       "      <td>602822</td>\n",
       "    </tr>\n",
       "    <tr>\n",
       "      <th>238</th>\n",
       "      <td>239</td>\n",
       "      <td>1</td>\n",
       "      <td>2</td>\n",
       "      <td>3</td>\n",
       "      <td>150</td>\n",
       "      <td>2</td>\n",
       "      <td>0</td>\n",
       "      <td>0</td>\n",
       "      <td>0</td>\n",
       "      <td>0</td>\n",
       "      <td>0</td>\n",
       "      <td>1</td>\n",
       "      <td>605346</td>\n",
       "    </tr>\n",
       "    <tr>\n",
       "      <th>239</th>\n",
       "      <td>240</td>\n",
       "      <td>0</td>\n",
       "      <td>1</td>\n",
       "      <td>0</td>\n",
       "      <td>0</td>\n",
       "      <td>1</td>\n",
       "      <td>1</td>\n",
       "      <td>0</td>\n",
       "      <td>346</td>\n",
       "      <td>0</td>\n",
       "      <td>0</td>\n",
       "      <td>1</td>\n",
       "      <td>607920</td>\n",
       "    </tr>\n",
       "  </tbody>\n",
       "</table>\n",
       "<p>240 rows × 13 columns</p>\n",
       "</div>"
      ],
      "text/plain": [
       "     tr#  type  arrLR  Stype  Sdel  butt  resp  resp2   RT  RT2  RTsum  eval  \\\n",
       "0      1     0      1      0     0     1     1      0  659    0      0     1   \n",
       "1      2     0      2      0     0     2     2      0  432    0      0     1   \n",
       "2      3     1      2      3   300     2     0      2    0  256    556     2   \n",
       "3      4     0      1      0     0     1     1      0  323    0      0     1   \n",
       "4      5     1      2      2   250     2     0      0    0    0      0     1   \n",
       "..   ...   ...    ...    ...   ...   ...   ...    ...  ...  ...    ...   ...   \n",
       "235  236     0      1      0     0     1     1      0  391    0      0     1   \n",
       "236  237     0      2      0     0     2     2      0  349    0      0     1   \n",
       "237  238     0      2      0     0     2     2      0  449    0      0     1   \n",
       "238  239     1      2      3   150     2     0      0    0    0      0     1   \n",
       "239  240     0      1      0     0     1     1      0  346    0      0     1   \n",
       "\n",
       "     relStart  \n",
       "0           0  \n",
       "1        2524  \n",
       "2        5066  \n",
       "3        7649  \n",
       "4       10190  \n",
       "..        ...  \n",
       "235    597754  \n",
       "236    600280  \n",
       "237    602822  \n",
       "238    605346  \n",
       "239    607920  \n",
       "\n",
       "[240 rows x 13 columns]"
      ]
     },
     "execution_count": 12,
     "metadata": {},
     "output_type": "execute_result"
    }
   ],
   "source": [
    "file_df"
   ]
  },
  {
   "cell_type": "code",
   "execution_count": 29,
   "metadata": {},
   "outputs": [
    {
     "data": {
      "text/plain": [
       "Index(['tr#', 'type', 'arrLR', 'Stype', 'Sdel', 'butt', 'resp', 'resp2', 'RT',\n",
       "       'RT2', 'RTsum', 'eval', 'relStart'],\n",
       "      dtype='object')"
      ]
     },
     "execution_count": 29,
     "metadata": {},
     "output_type": "execute_result"
    }
   ],
   "source": [
    "file_df.keys()"
   ]
  },
  {
   "cell_type": "code",
   "execution_count": 8,
   "metadata": {},
   "outputs": [
    {
     "name": "stderr",
     "output_type": "stream",
     "text": [
      "/home/sshankar/env/fastsrm/lib/python3.6/site-packages/ipykernel_launcher.py:10: UserWarning: Boolean Series key will be reindexed to match DataFrame index.\n",
      "  # Remove the CWD from sys.path while we load stuff.\n",
      "/home/sshankar/env/fastsrm/lib/python3.6/site-packages/ipykernel_launcher.py:12: UserWarning: Boolean Series key will be reindexed to match DataFrame index.\n",
      "  if sys.path[0] == '':\n"
     ]
    }
   ],
   "source": [
    "# Extract the onsets of stimulus, probe and response\n",
    "trial_onsets = (file_df['relStart'] + 500)\n",
    "\n",
    "# Find the 4 trials types:\n",
    "# 1. Go trials ('type' = 0)\n",
    "# 2. No-go trials ('type' = 1 and 'Stype' = 1)\n",
    "# 3. Successful stop trials ('type' = 1 and 'Stype' = 2 or 3 and RT1 = 0 and RT2 = 0)\n",
    "# 3. Unsuccessful stop trials ('type' = 1 and 'Stype' = 2 or 3 and (RT1 != 0 or RT2 != 0))\n",
    "go_trials = file_df['type'] == 0\n",
    "unsucgo_trials = file_df.loc[go_trials][file_df['RT'] == 0].index\n",
    "nogo_trials = (file_df['type'] == 1) & (file_df['Stype'] == 1)\n",
    "unsucnogo_trials = file_df.loc[nogo_trials][file_df['RT'] != 0].index\n",
    "sucstop_trials = (file_df['type'] == 1) & ((file_df['Stype'] == 2) | (file_df['Stype'] == 3)) & \\\n",
    "            (file_df['RT2'] == 0)\n",
    "unsucstop_trials = (file_df['type'] == 1) & ((file_df['Stype'] == 2) | (file_df['Stype'] == 3)) & \\\n",
    "            (file_df['RT2'] != 0)\n",
    "\n",
    "# Calculate trial durations\n",
    "durations = np.array(np.ones(len(trial_onsets)), dtype=np.int_)\n",
    "durations[go_trials] = file_df.loc[go_trials]['RT']\n",
    "durations[unsucgo_trials] = 2500\n",
    "durations[nogo_trials] = 2500\n",
    "durations[unsucnogo_trials] = file_df.loc[unsucnogo_trials]['RT']\n",
    "durations[sucstop_trials] = 2500\n",
    "durations[unsucstop_trials] = file_df.loc[unsucstop_trials]['RTsum']\n",
    "\n",
    "# Assign trial types\n",
    "trial_types = np.array(np.ones(len(trial_onsets)), dtype=np.object_)\n",
    "trial_types[go_trials] = 'go'\n",
    "trial_types[nogo_trials] = 'nogo'\n",
    "trial_types[sucstop_trials] = 'successful_stop'\n",
    "trial_types[unsucstop_trials] = 'unsuccessful_stop'"
   ]
  },
  {
   "cell_type": "code",
   "execution_count": 8,
   "metadata": {},
   "outputs": [
    {
     "data": {
      "text/plain": [
       "array(['go', 'go', 'unsuccessful_stop', 'go', 'unsuccessful_stop', 'go',\n",
       "       'go', 'go', 'go', 'go', 'go', 'go', 'go', 'go', 'go', 'go', 'go',\n",
       "       'go', 'go', 'unsuccessful_stop', 'go', 'unsuccessful_stop', 'go',\n",
       "       'go', 'go', 'unsuccessful_stop', 'nogo', 'go', 'go',\n",
       "       'unsuccessful_stop', 'nogo', 'nogo', 'nogo', 'go', 'go', 'go',\n",
       "       'go', 'nogo', 'nogo', 'go', 'go', 'go', 'unsuccessful_stop', 'go',\n",
       "       'go', 'unsuccessful_stop', 'nogo', 'unsuccessful_stop',\n",
       "       'successful_stop', 'go', 'nogo', 'go', 'successful_stop', 'nogo',\n",
       "       'go', 'go', 'go', 'go', 'go', 'nogo', 'go', 'unsuccessful_stop',\n",
       "       'go', 'go', 'nogo', 'go', 'go', 'go', 'go', 'go', 'go', 'go',\n",
       "       'unsuccessful_stop', 'go', 'go', 'go', 'go', 'go', 'go', 'go',\n",
       "       'go', 'go', 'go', 'go', 'go', 'go', 'go', 'unsuccessful_stop',\n",
       "       'nogo', 'go', 'successful_stop', 'go', 'unsuccessful_stop', 'go',\n",
       "       'go', 'go', 'go', 'go', 'go', 'go', 'go', 'unsuccessful_stop',\n",
       "       'unsuccessful_stop', 'go', 'go', 'go', 'unsuccessful_stop', 'go',\n",
       "       'go', 'go', 'unsuccessful_stop', 'go', 'go', 'go', 'go',\n",
       "       'successful_stop', 'go', 'go', 'nogo', 'go', 'go', 'go',\n",
       "       'successful_stop', 'go', 'unsuccessful_stop', 'go', 'go', 'go',\n",
       "       'successful_stop', 'go', 'go', 'go', 'unsuccessful_stop', 'go',\n",
       "       'go', 'go', 'go', 'go', 'go', 'go', 'go', 'go', 'successful_stop',\n",
       "       'go', 'unsuccessful_stop', 'go', 'go', 'go', 'go', 'go', 'go',\n",
       "       'go', 'go', 'go', 'go', 'nogo', 'go', 'go', 'unsuccessful_stop',\n",
       "       'unsuccessful_stop', 'go', 'go', 'go', 'go', 'successful_stop',\n",
       "       'go', 'go', 'go', 'nogo', 'go', 'go', 'go', 'unsuccessful_stop',\n",
       "       'go', 'go', 'nogo', 'go', 'go', 'go', 'nogo', 'go', 'go',\n",
       "       'successful_stop', 'go', 'go', 'nogo', 'go', 'nogo', 'go', 'go',\n",
       "       'go', 'go', 'go', 'go', 'go', 'successful_stop', 'go', 'go', 'go',\n",
       "       'go', 'go', 'go', 'go', 'unsuccessful_stop', 'go', 'go', 'go',\n",
       "       'go', 'nogo', 'go', 'go', 'go', 'go', 'unsuccessful_stop', 'go',\n",
       "       'go', 'go', 'go', 'go', 'go', 'go', 'go', 'go', 'go', 'go',\n",
       "       'successful_stop', 'successful_stop', 'go', 'go', 'go',\n",
       "       'successful_stop', 'go', 'go', 'go', 'successful_stop', 'go', 'go',\n",
       "       'go', 'unsuccessful_stop', 'go'], dtype=object)"
      ]
     },
     "execution_count": 8,
     "metadata": {},
     "output_type": "execute_result"
    }
   ],
   "source": [
    "trial_types"
   ]
  },
  {
   "cell_type": "code",
   "execution_count": 9,
   "metadata": {},
   "outputs": [
    {
     "data": {
      "text/plain": [
       "0         500\n",
       "1        3041\n",
       "2        5567\n",
       "3        8150\n",
       "4       10693\n",
       "        ...  \n",
       "235    598438\n",
       "236    600965\n",
       "237    603489\n",
       "238    606014\n",
       "239    608563\n",
       "Name: relStart, Length: 240, dtype: int64"
      ]
     },
     "execution_count": 9,
     "metadata": {},
     "output_type": "execute_result"
    }
   ],
   "source": [
    "trial_onsets"
   ]
  },
  {
   "cell_type": "code",
   "execution_count": 13,
   "metadata": {},
   "outputs": [
    {
     "data": {
      "text/plain": [
       "array([2500,  479,  429,  372,  311,  371,  412,  348,  346,  774,  377,\n",
       "       2500,  373,  293,  414,  383,  410,  365,  345,  356, 2500,  393,\n",
       "        392,  392,  327,  334, 2500,  428,  340,  316,  373,  361,  305,\n",
       "        303,  349,  316,  361,  374,  317,  313,  618,  495,  323,  262,\n",
       "       2500,  364,  365,  436,  305,  341,  338,  474, 2500, 2500, 2500,\n",
       "        425,  554,  289,  432,  338,  422,  334,  377, 2500,  362,  332,\n",
       "        448,  469, 2500,  447,  359,  545,  305,  364,  338,  393,  323,\n",
       "        526,  264,  286,  389,  340,  341,  345,  362,  283, 2500,  303,\n",
       "        313,  356,  316, 2500,  369, 2500,  472,  298,  477,  363,  322,\n",
       "       2500,  426,  356,  309,  519,  292,  362, 2500,  490,  347,  596,\n",
       "        312,  371,  357, 2500,  331, 2500,  443,  341,  339,  329,  453,\n",
       "        379,  301,  325, 2500,  440,  395,  420,  428,  419,  422,  348,\n",
       "        345,  402, 2500, 2500,  418,  338,  438, 2500, 2500, 2500, 2500,\n",
       "        374,  429,  745,  359,  445,  325,  439,  353,  365,  378,  264,\n",
       "        328,  398,  350,  381,  425,  467,  439,  394, 2500,  381,  366,\n",
       "        370,  522,  363,  281,  331, 2500,  343,  424,  376, 2500,  455,\n",
       "        328,  529,  438,  416,  347,  511,  345,  393, 2500,  376,  548,\n",
       "        428,  361,  396,  438,  349,  393, 2500,  395,  368, 2500,  438,\n",
       "        393,  286,  377, 2500,  387, 2500,  374,  351,  340,  397,  491,\n",
       "        437,  365,  460,  407, 2500,  337,  340, 2500,  429, 2500,  309,\n",
       "        324,  389,  325,  302,  266,  295,  399,  355, 2500,  331,  370,\n",
       "        257,  281,  419,  350,  326,  300,  341,  372,  434])"
      ]
     },
     "execution_count": 13,
     "metadata": {},
     "output_type": "execute_result"
    }
   ],
   "source": [
    "durations"
   ]
  },
  {
   "cell_type": "code",
   "execution_count": 9,
   "metadata": {},
   "outputs": [],
   "source": [
    "# Create a DataFrame to save to events file\n",
    "df = pd.DataFrame({'onset':trial_onsets/1000, 'duration':durations/1000, 'trial_type':trial_types})\n",
    "df.to_csv(os.path.join(datadir, tsv_files[0]), sep='\\t', float_format='%0.3f', index=False)"
   ]
  },
  {
   "cell_type": "code",
   "execution_count": null,
   "metadata": {},
   "outputs": [],
   "source": []
  }
 ],
 "metadata": {
  "kernelspec": {
   "display_name": "Python 3",
   "language": "python",
   "name": "python3"
  },
  "language_info": {
   "codemirror_mode": {
    "name": "ipython",
    "version": 3
   },
   "file_extension": ".py",
   "mimetype": "text/x-python",
   "name": "python",
   "nbconvert_exporter": "python",
   "pygments_lexer": "ipython3",
   "version": "3.6.9"
  }
 },
 "nbformat": 4,
 "nbformat_minor": 2
}
