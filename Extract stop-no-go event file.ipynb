{
 "cells": [
  {
   "cell_type": "code",
   "execution_count": 1,
   "metadata": {},
   "outputs": [],
   "source": [
    "import os\n",
    "import pandas as pd\n",
    "import numpy as np\n",
    "import matplotlib.pyplot as plt\n",
    "import glob\n",
    "%matplotlib inline"
   ]
  },
  {
   "cell_type": "code",
   "execution_count": 7,
   "metadata": {},
   "outputs": [],
   "source": [
    "sub = 'sub-12'\n",
    "ses = 'ses-01'\n",
    "\n",
    "battery = 'camcan'\n",
    "# task_source = 'gng'\n",
    "task = 'stop-nogo'\n",
    "\n",
    "main_dir = '/home/sshankar/ibc/analysis_pipeline/ibc_main/neurospin_data/info/'\n",
    "datadir = os.path.join(main_dir, sub, battery, ses)\n",
    "os.chdir(datadir)\n",
    "csv_files = sorted(glob.glob(task + '*.txt'))\n",
    "tsv_files = []\n",
    "i = 1\n",
    "# for i in range(len(csv_files)):\n",
    "tsv_files.append(task + '_' + sub + '_run-0' + str(i+1) + '.tsv')"
   ]
  },
  {
   "cell_type": "code",
   "execution_count": 3,
   "metadata": {},
   "outputs": [
    {
     "data": {
      "text/plain": [
       "['stop-nogo_sub-12_run-01_21621-952.txt',\n",
       " 'stop-nogo_sub-12_run-02_21621-105.txt']"
      ]
     },
     "execution_count": 3,
     "metadata": {},
     "output_type": "execute_result"
    }
   ],
   "source": [
    "csv_files"
   ]
  },
  {
   "cell_type": "code",
   "execution_count": 9,
   "metadata": {},
   "outputs": [
    {
     "data": {
      "text/plain": [
       "['stop-nogo_sub-05_run-02.tsv']"
      ]
     },
     "execution_count": 9,
     "metadata": {},
     "output_type": "execute_result"
    }
   ],
   "source": [
    "tsv_files"
   ]
  },
  {
   "cell_type": "code",
   "execution_count": 8,
   "metadata": {},
   "outputs": [],
   "source": [
    "# Read in the rest of the file\n",
    "file_df = pd.read_csv(os.path.join(datadir, csv_files[i]), sep='\\t', skipinitialspace=True)"
   ]
  },
  {
   "cell_type": "code",
   "execution_count": 9,
   "metadata": {},
   "outputs": [
    {
     "name": "stderr",
     "output_type": "stream",
     "text": [
      "/home/sshankar/env/fastsrm/lib/python3.6/site-packages/ipykernel_launcher.py:10: UserWarning: Boolean Series key will be reindexed to match DataFrame index.\n",
      "  # Remove the CWD from sys.path while we load stuff.\n",
      "/home/sshankar/env/fastsrm/lib/python3.6/site-packages/ipykernel_launcher.py:12: UserWarning: Boolean Series key will be reindexed to match DataFrame index.\n",
      "  if sys.path[0] == '':\n"
     ]
    }
   ],
   "source": [
    "# Extract the onsets of stimulus, probe and response\n",
    "trial_onsets = (file_df['relStart'] + 500)\n",
    "\n",
    "# Find the 4 trials types:\n",
    "# 1. Go trials ('type' = 0)\n",
    "# 2. No-go trials ('type' = 1 and 'Stype' = 1)\n",
    "# 3. Successful stop trials ('type' = 1 and 'Stype' = 2 or 3 and RT1 = 0 and RT2 = 0)\n",
    "# 3. Unsuccessful stop trials ('type' = 1 and 'Stype' = 2 or 3 and (RT1 != 0 or RT2 != 0))\n",
    "go_trials = file_df['type'] == 0\n",
    "unsucgo_trials = file_df.loc[go_trials][file_df['RT'] == 0].index\n",
    "nogo_trials = (file_df['type'] == 1) & (file_df['Stype'] == 1)\n",
    "unsucnogo_trials = file_df.loc[nogo_trials][file_df['RT'] != 0].index\n",
    "sucstop_trials = (file_df['type'] == 1) & ((file_df['Stype'] == 2) | (file_df['Stype'] == 3)) & \\\n",
    "            (file_df['RT2'] == 0)\n",
    "unsucstop_trials = (file_df['type'] == 1) & ((file_df['Stype'] == 2) | (file_df['Stype'] == 3)) & \\\n",
    "            (file_df['RT2'] != 0)\n",
    "\n",
    "# Calculate trial durations\n",
    "durations = np.array(np.ones(len(trial_onsets)), dtype=np.int_)\n",
    "durations[go_trials] = file_df.loc[go_trials]['RT']\n",
    "durations[unsucgo_trials] = 2500\n",
    "durations[nogo_trials] = 2500\n",
    "durations[unsucnogo_trials] = file_df.loc[unsucnogo_trials]['RT']\n",
    "durations[sucstop_trials] = 2500\n",
    "durations[unsucstop_trials] = file_df.loc[unsucstop_trials]['RTsum']\n",
    "\n",
    "# Assign trial types\n",
    "trial_types = np.array(np.ones(len(trial_onsets)), dtype=np.object_)\n",
    "trial_types[go_trials] = 'go'\n",
    "trial_types[nogo_trials] = 'nogo'\n",
    "trial_types[sucstop_trials] = 'successful_stop'\n",
    "trial_types[unsucstop_trials] = 'unsuccessful_stop'"
   ]
  },
  {
   "cell_type": "code",
   "execution_count": 10,
   "metadata": {},
   "outputs": [],
   "source": [
    "# Create a DataFrame to save to events file\n",
    "df = pd.DataFrame({'onset':trial_onsets/1000, 'duration':durations/1000, 'trial_type':trial_types})\n",
    "df.to_csv(os.path.join(datadir, tsv_files[0]), sep='\\t', float_format='%0.3f', index=False)"
   ]
  },
  {
   "cell_type": "code",
   "execution_count": null,
   "metadata": {},
   "outputs": [],
   "source": []
  }
 ],
 "metadata": {
  "kernelspec": {
   "display_name": "Python 3",
   "language": "python",
   "name": "python3"
  },
  "language_info": {
   "codemirror_mode": {
    "name": "ipython",
    "version": 3
   },
   "file_extension": ".py",
   "mimetype": "text/x-python",
   "name": "python",
   "nbconvert_exporter": "python",
   "pygments_lexer": "ipython3",
   "version": "3.6.9"
  }
 },
 "nbformat": 4,
 "nbformat_minor": 2
}
