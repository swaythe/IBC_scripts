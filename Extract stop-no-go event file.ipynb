{
 "cells": [
  {
   "cell_type": "code",
   "execution_count": 10,
   "metadata": {},
   "outputs": [],
   "source": [
    "import os\n",
    "import pandas as pd\n",
    "import numpy as np\n",
    "import matplotlib.pyplot as plt\n",
    "import glob\n",
    "%matplotlib inline"
   ]
  },
  {
   "cell_type": "code",
   "execution_count": 24,
   "metadata": {},
   "outputs": [],
   "source": [
    "sub = 'sub-09'\n",
    "ses = 'ses-01'\n",
    "run = 'run-01'\n",
    "battery = 'camcan'\n",
    "# task_source = 'gng'\n",
    "task = 'stop-nogo'\n",
    "\n",
    "main_dir = '/home/sshankar/ibc/analysis_pipeline/ibc_main/neurospin_data/info/'\n",
    "datadir = os.path.join(main_dir, sub, battery, ses)\n",
    "os.chdir(datadir)\n",
    "csv_files = glob.glob(task + '*.txt')\n",
    "tsv_files = []\n",
    "for i in range(len(csv_files)):\n",
    "    tsv_files.append(task + '_' + sub + '_run-0' + str(i+1) + '.tsv')"
   ]
  },
  {
   "cell_type": "code",
   "execution_count": 22,
   "metadata": {},
   "outputs": [
    {
     "data": {
      "text/plain": [
       "['stop-nogo_sub-09_run-02_30920-1041.txt',\n",
       " 'stop-nogo_sub-09_run-01_30920-1030.txt']"
      ]
     },
     "execution_count": 22,
     "metadata": {},
     "output_type": "execute_result"
    }
   ],
   "source": [
    "csv_files"
   ]
  },
  {
   "cell_type": "code",
   "execution_count": 25,
   "metadata": {},
   "outputs": [
    {
     "data": {
      "text/plain": [
       "['stop-nogo_sub-09_run-01.tsv', 'stop-nogo_sub-09_run-02.tsv']"
      ]
     },
     "execution_count": 25,
     "metadata": {},
     "output_type": "execute_result"
    }
   ],
   "source": [
    "tsv_files"
   ]
  },
  {
   "cell_type": "code",
   "execution_count": 41,
   "metadata": {},
   "outputs": [],
   "source": [
    "# Read in the rest of the file\n",
    "file_df = pd.read_csv(os.path.join(datadir, csv_files[1]), sep='\\t', skipinitialspace=True)"
   ]
  },
  {
   "cell_type": "code",
   "execution_count": 42,
   "metadata": {
    "scrolled": true
   },
   "outputs": [
    {
     "data": {
      "text/html": [
       "<div>\n",
       "<style scoped>\n",
       "    .dataframe tbody tr th:only-of-type {\n",
       "        vertical-align: middle;\n",
       "    }\n",
       "\n",
       "    .dataframe tbody tr th {\n",
       "        vertical-align: top;\n",
       "    }\n",
       "\n",
       "    .dataframe thead th {\n",
       "        text-align: right;\n",
       "    }\n",
       "</style>\n",
       "<table border=\"1\" class=\"dataframe\">\n",
       "  <thead>\n",
       "    <tr style=\"text-align: right;\">\n",
       "      <th></th>\n",
       "      <th>tr#</th>\n",
       "      <th>type</th>\n",
       "      <th>arrLR</th>\n",
       "      <th>Stype</th>\n",
       "      <th>Sdel</th>\n",
       "      <th>butt</th>\n",
       "      <th>resp</th>\n",
       "      <th>resp2</th>\n",
       "      <th>RT</th>\n",
       "      <th>RT2</th>\n",
       "      <th>RTsum</th>\n",
       "      <th>eval</th>\n",
       "      <th>relStart</th>\n",
       "    </tr>\n",
       "  </thead>\n",
       "  <tbody>\n",
       "    <tr>\n",
       "      <th>0</th>\n",
       "      <td>1</td>\n",
       "      <td>0</td>\n",
       "      <td>1</td>\n",
       "      <td>0</td>\n",
       "      <td>0</td>\n",
       "      <td>1</td>\n",
       "      <td>1</td>\n",
       "      <td>0</td>\n",
       "      <td>523</td>\n",
       "      <td>0</td>\n",
       "      <td>0</td>\n",
       "      <td>1</td>\n",
       "      <td>0</td>\n",
       "    </tr>\n",
       "    <tr>\n",
       "      <th>1</th>\n",
       "      <td>2</td>\n",
       "      <td>0</td>\n",
       "      <td>2</td>\n",
       "      <td>0</td>\n",
       "      <td>0</td>\n",
       "      <td>2</td>\n",
       "      <td>2</td>\n",
       "      <td>0</td>\n",
       "      <td>397</td>\n",
       "      <td>0</td>\n",
       "      <td>0</td>\n",
       "      <td>1</td>\n",
       "      <td>2523</td>\n",
       "    </tr>\n",
       "    <tr>\n",
       "      <th>2</th>\n",
       "      <td>3</td>\n",
       "      <td>1</td>\n",
       "      <td>2</td>\n",
       "      <td>3</td>\n",
       "      <td>300</td>\n",
       "      <td>2</td>\n",
       "      <td>0</td>\n",
       "      <td>2</td>\n",
       "      <td>0</td>\n",
       "      <td>218</td>\n",
       "      <td>518</td>\n",
       "      <td>2</td>\n",
       "      <td>5045</td>\n",
       "    </tr>\n",
       "    <tr>\n",
       "      <th>3</th>\n",
       "      <td>4</td>\n",
       "      <td>0</td>\n",
       "      <td>1</td>\n",
       "      <td>0</td>\n",
       "      <td>0</td>\n",
       "      <td>1</td>\n",
       "      <td>1</td>\n",
       "      <td>0</td>\n",
       "      <td>339</td>\n",
       "      <td>0</td>\n",
       "      <td>0</td>\n",
       "      <td>1</td>\n",
       "      <td>7591</td>\n",
       "    </tr>\n",
       "    <tr>\n",
       "      <th>4</th>\n",
       "      <td>5</td>\n",
       "      <td>1</td>\n",
       "      <td>2</td>\n",
       "      <td>2</td>\n",
       "      <td>250</td>\n",
       "      <td>2</td>\n",
       "      <td>0</td>\n",
       "      <td>0</td>\n",
       "      <td>0</td>\n",
       "      <td>0</td>\n",
       "      <td>0</td>\n",
       "      <td>1</td>\n",
       "      <td>10114</td>\n",
       "    </tr>\n",
       "    <tr>\n",
       "      <th>...</th>\n",
       "      <td>...</td>\n",
       "      <td>...</td>\n",
       "      <td>...</td>\n",
       "      <td>...</td>\n",
       "      <td>...</td>\n",
       "      <td>...</td>\n",
       "      <td>...</td>\n",
       "      <td>...</td>\n",
       "      <td>...</td>\n",
       "      <td>...</td>\n",
       "      <td>...</td>\n",
       "      <td>...</td>\n",
       "      <td>...</td>\n",
       "    </tr>\n",
       "    <tr>\n",
       "      <th>235</th>\n",
       "      <td>236</td>\n",
       "      <td>0</td>\n",
       "      <td>1</td>\n",
       "      <td>0</td>\n",
       "      <td>0</td>\n",
       "      <td>1</td>\n",
       "      <td>1</td>\n",
       "      <td>0</td>\n",
       "      <td>547</td>\n",
       "      <td>0</td>\n",
       "      <td>0</td>\n",
       "      <td>1</td>\n",
       "      <td>594246</td>\n",
       "    </tr>\n",
       "    <tr>\n",
       "      <th>236</th>\n",
       "      <td>237</td>\n",
       "      <td>0</td>\n",
       "      <td>2</td>\n",
       "      <td>0</td>\n",
       "      <td>0</td>\n",
       "      <td>2</td>\n",
       "      <td>2</td>\n",
       "      <td>0</td>\n",
       "      <td>476</td>\n",
       "      <td>0</td>\n",
       "      <td>0</td>\n",
       "      <td>1</td>\n",
       "      <td>596769</td>\n",
       "    </tr>\n",
       "    <tr>\n",
       "      <th>237</th>\n",
       "      <td>238</td>\n",
       "      <td>0</td>\n",
       "      <td>2</td>\n",
       "      <td>0</td>\n",
       "      <td>0</td>\n",
       "      <td>2</td>\n",
       "      <td>2</td>\n",
       "      <td>0</td>\n",
       "      <td>437</td>\n",
       "      <td>0</td>\n",
       "      <td>0</td>\n",
       "      <td>1</td>\n",
       "      <td>599292</td>\n",
       "    </tr>\n",
       "    <tr>\n",
       "      <th>238</th>\n",
       "      <td>239</td>\n",
       "      <td>1</td>\n",
       "      <td>2</td>\n",
       "      <td>3</td>\n",
       "      <td>400</td>\n",
       "      <td>2</td>\n",
       "      <td>0</td>\n",
       "      <td>2</td>\n",
       "      <td>0</td>\n",
       "      <td>56</td>\n",
       "      <td>456</td>\n",
       "      <td>2</td>\n",
       "      <td>601814</td>\n",
       "    </tr>\n",
       "    <tr>\n",
       "      <th>239</th>\n",
       "      <td>240</td>\n",
       "      <td>0</td>\n",
       "      <td>1</td>\n",
       "      <td>0</td>\n",
       "      <td>0</td>\n",
       "      <td>1</td>\n",
       "      <td>1</td>\n",
       "      <td>0</td>\n",
       "      <td>530</td>\n",
       "      <td>0</td>\n",
       "      <td>0</td>\n",
       "      <td>1</td>\n",
       "      <td>604360</td>\n",
       "    </tr>\n",
       "  </tbody>\n",
       "</table>\n",
       "<p>240 rows × 13 columns</p>\n",
       "</div>"
      ],
      "text/plain": [
       "     tr#  type  arrLR  Stype  Sdel  butt  resp  resp2   RT  RT2  RTsum  eval  \\\n",
       "0      1     0      1      0     0     1     1      0  523    0      0     1   \n",
       "1      2     0      2      0     0     2     2      0  397    0      0     1   \n",
       "2      3     1      2      3   300     2     0      2    0  218    518     2   \n",
       "3      4     0      1      0     0     1     1      0  339    0      0     1   \n",
       "4      5     1      2      2   250     2     0      0    0    0      0     1   \n",
       "..   ...   ...    ...    ...   ...   ...   ...    ...  ...  ...    ...   ...   \n",
       "235  236     0      1      0     0     1     1      0  547    0      0     1   \n",
       "236  237     0      2      0     0     2     2      0  476    0      0     1   \n",
       "237  238     0      2      0     0     2     2      0  437    0      0     1   \n",
       "238  239     1      2      3   400     2     0      2    0   56    456     2   \n",
       "239  240     0      1      0     0     1     1      0  530    0      0     1   \n",
       "\n",
       "     relStart  \n",
       "0           0  \n",
       "1        2523  \n",
       "2        5045  \n",
       "3        7591  \n",
       "4       10114  \n",
       "..        ...  \n",
       "235    594246  \n",
       "236    596769  \n",
       "237    599292  \n",
       "238    601814  \n",
       "239    604360  \n",
       "\n",
       "[240 rows x 13 columns]"
      ]
     },
     "execution_count": 42,
     "metadata": {},
     "output_type": "execute_result"
    }
   ],
   "source": [
    "file_df"
   ]
  },
  {
   "cell_type": "code",
   "execution_count": 29,
   "metadata": {},
   "outputs": [
    {
     "data": {
      "text/plain": [
       "Index(['tr#', 'type', 'arrLR', 'Stype', 'Sdel', 'butt', 'resp', 'resp2', 'RT',\n",
       "       'RT2', 'RTsum', 'eval', 'relStart'],\n",
       "      dtype='object')"
      ]
     },
     "execution_count": 29,
     "metadata": {},
     "output_type": "execute_result"
    }
   ],
   "source": [
    "file_df.keys()"
   ]
  },
  {
   "cell_type": "code",
   "execution_count": 43,
   "metadata": {},
   "outputs": [
    {
     "name": "stderr",
     "output_type": "stream",
     "text": [
      "/home/sshankar/env/fastsrm/lib/python3.6/site-packages/ipykernel_launcher.py:10: UserWarning: Boolean Series key will be reindexed to match DataFrame index.\n",
      "  # Remove the CWD from sys.path while we load stuff.\n",
      "/home/sshankar/env/fastsrm/lib/python3.6/site-packages/ipykernel_launcher.py:12: UserWarning: Boolean Series key will be reindexed to match DataFrame index.\n",
      "  if sys.path[0] == '':\n"
     ]
    }
   ],
   "source": [
    "# Extract the onsets of stimulus, probe and response\n",
    "trial_onsets = (file_df['relStart'] + 500)\n",
    "\n",
    "# Find the 4 trials types:\n",
    "# 1. Go trials ('type' = 0)\n",
    "# 2. No-go trials ('type' = 1 and 'Stype' = 1)\n",
    "# 3. Successful stop trials ('type' = 1 and 'Stype' = 2 or 3 and RT1 = 0 and RT2 = 0)\n",
    "# 3. Unsuccessful stop trials ('type' = 1 and 'Stype' = 2 or 3 and (RT1 != 0 or RT2 != 0))\n",
    "go_trials = file_df['type'] == 0\n",
    "unsucgo_trials = file_df.loc[go_trials][file_df['RT'] == 0].index\n",
    "nogo_trials = (file_df['type'] == 1) & (file_df['Stype'] == 1)\n",
    "unsucnogo_trials = file_df.loc[nogo_trials][file_df['RT'] != 0].index\n",
    "sucstop_trials = (file_df['type'] == 1) & ((file_df['Stype'] == 2) | (file_df['Stype'] == 3)) & \\\n",
    "            (file_df['RT2'] == 0)\n",
    "unsucstop_trials = (file_df['type'] == 1) & ((file_df['Stype'] == 2) | (file_df['Stype'] == 3)) & \\\n",
    "            (file_df['RT2'] != 0)\n",
    "\n",
    "# Calculate trial durations\n",
    "durations = np.array(np.ones(len(trial_onsets)), dtype=np.int_)\n",
    "durations[go_trials] = file_df.loc[go_trials]['RT']\n",
    "durations[unsucgo_trials] = 2500\n",
    "durations[nogo_trials] = 2500\n",
    "durations[unsucnogo_trials] = file_df.loc[unsucnogo_trials]['RT']\n",
    "durations[sucstop_trials] = 2500\n",
    "durations[unsucstop_trials] = file_df.loc[unsucstop_trials]['RTsum']\n",
    "\n",
    "# Assign trial types\n",
    "trial_types = np.array(np.ones(len(trial_onsets)), dtype=np.object_)\n",
    "trial_types[go_trials] = 'go'\n",
    "trial_types[nogo_trials] = 'nogo'\n",
    "trial_types[sucstop_trials] = 'successful_stop'\n",
    "trial_types[unsucstop_trials] = 'unsuccessful_stop'"
   ]
  },
  {
   "cell_type": "code",
   "execution_count": 37,
   "metadata": {},
   "outputs": [
    {
     "data": {
      "text/plain": [
       "array(['go', 'unsuccessful_stop', 'go', 'go', 'go', 'go', 'go', 'go',\n",
       "       'go', 'go', 'go', 'successful_stop', 'go', 'go', 'successful_stop',\n",
       "       'go', 'go', 'go', 'go', 'go', 'nogo', 'go', 'go', 'go', 'go',\n",
       "       'unsuccessful_stop', 'nogo', 'go', 'go', 'go', 'go', 'go', 'go',\n",
       "       'go', 'go', 'unsuccessful_stop', 'go', 'go', 'go', 'go', 'go',\n",
       "       'go', 'go', 'go', 'nogo', 'successful_stop', 'go', 'go', 'go',\n",
       "       'unsuccessful_stop', 'go', 'go', 'nogo', 'nogo', 'nogo', 'go',\n",
       "       'go', 'successful_stop', 'go', 'successful_stop', 'go',\n",
       "       'unsuccessful_stop', 'successful_stop', 'successful_stop', 'go',\n",
       "       'successful_stop', 'go', 'go', 'nogo', 'unsuccessful_stop', 'go',\n",
       "       'go', 'go', 'go', 'go', 'unsuccessful_stop', 'go', 'go', 'go',\n",
       "       'go', 'go', 'go', 'go', 'go', 'unsuccessful_stop', 'go', 'nogo',\n",
       "       'go', 'go', 'go', 'successful_stop', 'unsuccessful_stop', 'go',\n",
       "       'successful_stop', 'go', 'go', 'go', 'go', 'unsuccessful_stop',\n",
       "       'nogo', 'go', 'go', 'go', 'go', 'go', 'go', 'unsuccessful_stop',\n",
       "       'go', 'go', 'go', 'go', 'go', 'go', 'nogo', 'go', 'nogo', 'go',\n",
       "       'go', 'go', 'go', 'go', 'go', 'go', 'go', 'unsuccessful_stop',\n",
       "       'go', 'go', 'go', 'go', 'go', 'go', 'go', 'go', 'go',\n",
       "       'unsuccessful_stop', 'nogo', 'successful_stop', 'go', 'go',\n",
       "       'unsuccessful_stop', 'successful_stop', 'successful_stop', 'nogo',\n",
       "       'go', 'go', 'go', 'go', 'go', 'go', 'go', 'go', 'go', 'go', 'go',\n",
       "       'go', 'go', 'go', 'unsuccessful_stop', 'go', 'go', 'go',\n",
       "       'unsuccessful_stop', 'nogo', 'go', 'go', 'successful_stop', 'go',\n",
       "       'go', 'go', 'go', 'successful_stop', 'go', 'go', 'go',\n",
       "       'successful_stop', 'go', 'go', 'go', 'go', 'go', 'go', 'go', 'go',\n",
       "       'go', 'nogo', 'go', 'go', 'go', 'go', 'go', 'go', 'go',\n",
       "       'successful_stop', 'nogo', 'go', 'unsuccessful_stop', 'nogo', 'go',\n",
       "       'go', 'go', 'go', 'nogo', 'go', 'unsuccessful_stop', 'go', 'go',\n",
       "       'go', 'go', 'go', 'successful_stop', 'go', 'go', 'go', 'nogo',\n",
       "       'successful_stop', 'go', 'unsuccessful_stop', 'go', 'nogo', 'go',\n",
       "       'go', 'go', 'go', 'go', 'go', 'unsuccessful_stop', 'go', 'go',\n",
       "       'successful_stop', 'go', 'go', 'go', 'go', 'go', 'go', 'go', 'go',\n",
       "       'go', 'go', 'go'], dtype=object)"
      ]
     },
     "execution_count": 37,
     "metadata": {},
     "output_type": "execute_result"
    }
   ],
   "source": [
    "trial_types"
   ]
  },
  {
   "cell_type": "code",
   "execution_count": 38,
   "metadata": {},
   "outputs": [
    {
     "data": {
      "text/plain": [
       "0         500\n",
       "1        3023\n",
       "2        5568\n",
       "3        8091\n",
       "4       10614\n",
       "        ...  \n",
       "235    594702\n",
       "236    597225\n",
       "237    599748\n",
       "238    602271\n",
       "239    604793\n",
       "Name: relStart, Length: 240, dtype: int64"
      ]
     },
     "execution_count": 38,
     "metadata": {},
     "output_type": "execute_result"
    }
   ],
   "source": [
    "trial_onsets"
   ]
  },
  {
   "cell_type": "code",
   "execution_count": 39,
   "metadata": {},
   "outputs": [
    {
     "data": {
      "text/plain": [
       "array([ 526,  402,  512,  441,  423,  490,  472,  470,  557,  445,  516,\n",
       "       2500,  537,  516, 2500,  501,  440,  514,  553,  494, 2500,  509,\n",
       "        508,  425,  397,  430, 2500,  409,  506,  599,  500,  639,  481,\n",
       "        573,  492,  464,  419,  441,  618,  601,  386,  520,  639,  561,\n",
       "       2500, 2500,  595,  418,  509,  454,  508,  536, 2500, 2500, 2500,\n",
       "        494,  500, 2500,  575, 2500,  425,  513, 2500, 2500,  505, 2500,\n",
       "        537,  567, 2500,  680,  523,  710,  677,  582,  429,  437,  522,\n",
       "        445,  498,  630,  478,  569,  507,  549,  451,  546, 2500,  505,\n",
       "        408,  453, 2500,  573,  517, 2500,  508,  495,  559,  471,  597,\n",
       "       2500,  628,  542,  540,  544,  636,  581,  560,  547,  494,  526,\n",
       "        638,  429,  409, 2500,  569, 2500,  434,  520,  419,  387,  429,\n",
       "        454,  515,  459,  467,  374,  531,  524,  409,  430,  549,  427,\n",
       "        371,  459,  513, 2500, 2500,  572,  513,  503, 2500, 2500, 2500,\n",
       "        465,  511,  491,  467,  508,  416,  412,  395,  456,  414,  510,\n",
       "        646,  506,  441,  384,  492,  550,  556,  522, 2500,  534,  518,\n",
       "       2500,  432,  451,  572,  479, 2500,  600,  577,  638, 2500,  506,\n",
       "        694,  702,  690,  646,  637,  525,  492,  482, 2500,  525,  363,\n",
       "        458,  561,  447,  411,  358, 2500, 2500,  441,  443, 2500,  455,\n",
       "        390,  520,  453, 2500,  516,  428,  384,  454,  455,  496,  552,\n",
       "       2500,  524,  320,  376, 2500, 2500,  478,  438,  429, 2500,  542,\n",
       "        481,  434,  485,  370,  389,  443,  461,  421, 2500,  494,  447,\n",
       "        563,  442,  546,  541,  439,  468,  524,  366,  445])"
      ]
     },
     "execution_count": 39,
     "metadata": {},
     "output_type": "execute_result"
    }
   ],
   "source": [
    "durations"
   ]
  },
  {
   "cell_type": "code",
   "execution_count": 44,
   "metadata": {},
   "outputs": [],
   "source": [
    "# Create a DataFrame to save to events file\n",
    "df = pd.DataFrame({'onset':trial_onsets/1000, 'duration':durations/1000, 'trial_type':trial_types})\n",
    "df.to_csv(os.path.join(datadir, tsv_files[1]), sep='\\t', float_format='%0.3f', index=False)"
   ]
  },
  {
   "cell_type": "code",
   "execution_count": null,
   "metadata": {},
   "outputs": [],
   "source": []
  }
 ],
 "metadata": {
  "kernelspec": {
   "display_name": "Python 3",
   "language": "python",
   "name": "python3"
  },
  "language_info": {
   "codemirror_mode": {
    "name": "ipython",
    "version": 3
   },
   "file_extension": ".py",
   "mimetype": "text/x-python",
   "name": "python",
   "nbconvert_exporter": "python",
   "pygments_lexer": "ipython3",
   "version": "3.6.9"
  }
 },
 "nbformat": 4,
 "nbformat_minor": 2
}
