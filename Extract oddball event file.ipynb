{
 "cells": [
  {
   "cell_type": "code",
   "execution_count": 1,
   "metadata": {},
   "outputs": [],
   "source": [
    "import os\n",
    "import pandas as pd\n",
    "import numpy as np\n",
    "import glob"
   ]
  },
  {
   "cell_type": "code",
   "execution_count": 9,
   "metadata": {},
   "outputs": [],
   "source": [
    "sub = 'sub-04'\n",
    "ses = 'ses-02'\n",
    "battery = 'camcan'\n",
    "task = 'oddball'\n",
    "\n",
    "main_dir = '/home/sshankar/ibc/analysis_pipeline/ibc_main/neurospin_data/info/'\n",
    "datadir = os.path.join(main_dir, sub, battery, ses)\n",
    "os.chdir(datadir)\n",
    "csv_files = sorted(glob.glob('*' + task + '*.csv'))\n",
    "tsv_files = []\n",
    "# for i in range(len(csv_files)):\n",
    "i = 1\n",
    "tsv_files.append(task + '_' + sub + '_run-0' + str(i+1) + '.tsv')"
   ]
  },
  {
   "cell_type": "code",
   "execution_count": 3,
   "metadata": {},
   "outputs": [
    {
     "data": {
      "text/plain": [
       "['extracted_oddball_sub-4_run-01_962021-96.csv',\n",
       " 'extracted_oddball_sub-4_run-02_962021-914.csv']"
      ]
     },
     "execution_count": 3,
     "metadata": {},
     "output_type": "execute_result"
    }
   ],
   "source": [
    "csv_files"
   ]
  },
  {
   "cell_type": "code",
   "execution_count": 8,
   "metadata": {},
   "outputs": [
    {
     "data": {
      "text/plain": [
       "['oddball_sub-07_run-01.tsv']"
      ]
     },
     "execution_count": 8,
     "metadata": {},
     "output_type": "execute_result"
    }
   ],
   "source": [
    "tsv_files"
   ]
  },
  {
   "cell_type": "code",
   "execution_count": 10,
   "metadata": {},
   "outputs": [],
   "source": [
    "file_df = pd.read_csv(os.path.join(datadir, csv_files[i]))"
   ]
  },
  {
   "cell_type": "code",
   "execution_count": 11,
   "metadata": {},
   "outputs": [],
   "source": [
    "# In the csv file extracted from the E-Prime txt file, \n",
    "# run onset is the 'GetReady.OffsetTime' column of last row, \n",
    "# and all other columns of this row are empty.\n",
    "run_start = (file_df.loc[~np.isnan(file_df['GetReady.OffsetTime'])])['GetReady.OffsetTime']\n",
    "run_start = run_start.values[0]"
   ]
  },
  {
   "cell_type": "code",
   "execution_count": 12,
   "metadata": {},
   "outputs": [
    {
     "data": {
      "text/plain": [
       "59634.0"
      ]
     },
     "execution_count": 12,
     "metadata": {},
     "output_type": "execute_result"
    }
   ],
   "source": [
    "run_start"
   ]
  },
  {
   "cell_type": "code",
   "execution_count": 13,
   "metadata": {},
   "outputs": [
    {
     "name": "stderr",
     "output_type": "stream",
     "text": [
      "/home/sshankar/env/fastsrm/lib/python3.6/site-packages/ipykernel_launcher.py:13: SettingWithCopyWarning: \n",
      "A value is trying to be set on a copy of a slice from a DataFrame\n",
      "\n",
      "See the caveats in the documentation: http://pandas.pydata.org/pandas-docs/stable/user_guide/indexing.html#returning-a-view-versus-a-copy\n",
      "  del sys.path[0]\n"
     ]
    }
   ],
   "source": [
    "# Trial onsets are in 'CatImage.OnsetTime'\n",
    "trial_onsets = (file_df.loc[~np.isnan(file_df['CatImage.OnsetTime'])])['CatImage.OnsetTime']\n",
    "\n",
    "# Trial offsets are in 'CatImage.OffsetTime'\n",
    "trial_offsets = (file_df.loc[~np.isnan(file_df['CatImage.OffsetTime'])])['CatImage.OffsetTime']\n",
    "\n",
    "# In this task, trial duration and RT are the same\n",
    "durations = trial_offsets - trial_onsets\n",
    "\n",
    "# Finally, trial_types are in 'Running'\n",
    "trial_types = (file_df.loc[~np.isnan(file_df['CatImage.OffsetTime'])])['Running']\n",
    "trial_types[trial_types=='CatEasy'] = 'easy'\n",
    "trial_types[trial_types=='CatHard'] = 'hard'"
   ]
  },
  {
   "cell_type": "code",
   "execution_count": 14,
   "metadata": {},
   "outputs": [],
   "source": [
    "# Responses are in 'CatImage.RESP'. This field is not used in tsv file\n",
    "# generation but is useful for behavioral analysis.\n",
    "responses = (file_df.loc[~np.isnan(file_df['CatImage.OnsetTime'])])['CatImage.RESP']"
   ]
  },
  {
   "cell_type": "code",
   "execution_count": 9,
   "metadata": {},
   "outputs": [
    {
     "name": "stdout",
     "output_type": "stream",
     "text": [
      "616.5436893203884 1929.0816326530612\n"
     ]
    }
   ],
   "source": [
    "# Quick analysis to look at mean RTs for easy and difficult trials\n",
    "# easy RTs < difficult RTs\n",
    "\n",
    "# Find the indices of the easy trials\n",
    "easy = trial_types == 'CatEasy'\n",
    "\n",
    "# extract all the RTs\n",
    "RTs = trial_offsets - trial_onsets\n",
    "\n",
    "# Calculate mean RTs\n",
    "easy_mean = np.mean(RTs[easy])\n",
    "difficult_mean = np.mean(RTs[~easy])\n",
    "\n",
    "print(easy_mean, difficult_mean)"
   ]
  },
  {
   "cell_type": "code",
   "execution_count": 14,
   "metadata": {},
   "outputs": [],
   "source": [
    "# Create a DataFrame to save to events file\n",
    "df = pd.DataFrame({'onset':(trial_onsets-run_start)/1000, 'duration':durations/1000, 'trial_type':trial_types})\n",
    "df.to_csv(os.path.join(datadir, tsv_files[0]), sep='\\t', float_format='%0.3f', index=False)"
   ]
  },
  {
   "cell_type": "code",
   "execution_count": null,
   "metadata": {},
   "outputs": [],
   "source": []
  }
 ],
 "metadata": {
  "kernelspec": {
   "display_name": "Python 3",
   "language": "python",
   "name": "python3"
  },
  "language_info": {
   "codemirror_mode": {
    "name": "ipython",
    "version": 3
   },
   "file_extension": ".py",
   "mimetype": "text/x-python",
   "name": "python",
   "nbconvert_exporter": "python",
   "pygments_lexer": "ipython3",
   "version": "3.6.9"
  }
 },
 "nbformat": 4,
 "nbformat_minor": 2
}
