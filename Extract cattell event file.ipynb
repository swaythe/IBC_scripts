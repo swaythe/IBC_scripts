{
 "cells": [
  {
   "cell_type": "code",
   "execution_count": 1,
   "metadata": {},
   "outputs": [],
   "source": [
    "import os\n",
    "import pandas as pd\n",
    "import numpy as np"
   ]
  },
  {
   "cell_type": "code",
   "execution_count": 2,
   "metadata": {},
   "outputs": [],
   "source": [
    "sub = 'pilot-53'\n",
    "ses = 'ses-01'\n",
    "battery = 'camcan'\n",
    "task = 'cattell'\n",
    "\n",
    "main_dir = '/home/sshankar/ibc/analysis_pipeline/ibc_main/neurospin_data/info/'\n",
    "datadir = os.path.join(main_dir, sub, battery)\n",
    "csv_file = 'extracted_' + task + '_sub-53_' + ses + '.csv'\n",
    "tsv_file = task + '_sub-53_' + ses + '.tsv'"
   ]
  },
  {
   "cell_type": "code",
   "execution_count": 3,
   "metadata": {},
   "outputs": [],
   "source": [
    "file_df = pd.read_csv(os.path.join(datadir, csv_file))"
   ]
  },
  {
   "cell_type": "code",
   "execution_count": 4,
   "metadata": {},
   "outputs": [],
   "source": [
    "# In the csv file extracted from the E-Prime txt file, \n",
    "# run onset is the 'GetReady.OffsetTime' column of last row, \n",
    "# and all other columns of this row are empty.\n",
    "run_start = (file_df.loc[~np.isnan(file_df['GetReady.OffsetTime'])])['GetReady.OffsetTime']\n",
    "run_start = run_start.values[0]"
   ]
  },
  {
   "cell_type": "code",
   "execution_count": 7,
   "metadata": {},
   "outputs": [
    {
     "name": "stderr",
     "output_type": "stream",
     "text": [
      "/home/sshankar/env/fastsrm/lib/python3.6/site-packages/pandas/core/generic.py:5191: FutureWarning: Attribute 'is_copy' is deprecated and will be removed in a future version.\n",
      "  object.__getattribute__(self, name)\n",
      "/home/sshankar/env/fastsrm/lib/python3.6/site-packages/pandas/core/generic.py:5192: FutureWarning: Attribute 'is_copy' is deprecated and will be removed in a future version.\n",
      "  return object.__setattr__(self, name, value)\n"
     ]
    }
   ],
   "source": [
    "# Trial onsets are in 'CatImage.OnsetTime'\n",
    "trial_onsets = (file_df.loc[~np.isnan(file_df['CatImage.OnsetTime'])])['CatImage.OnsetTime']\n",
    "\n",
    "# Trial offsets are in 'CatImage.OffsetTime'\n",
    "trial_offsets = (file_df.loc[~np.isnan(file_df['CatImage.OffsetTime'])])['CatImage.OffsetTime']\n",
    "\n",
    "# In this task, trial duration and RT are the same\n",
    "durations = trial_offsets - trial_onsets\n",
    "\n",
    "# Finally, trial_types are in 'Running'\n",
    "trial_types = (file_df.loc[~np.isnan(file_df['CatImage.OffsetTime'])])['Running']\n",
    "trial_types[trial_types=='CatEasy'] = 'easy'\n",
    "trial_types[trial_types=='CatHard'] = 'hard'"
   ]
  },
  {
   "cell_type": "code",
   "execution_count": 6,
   "metadata": {},
   "outputs": [],
   "source": [
    "# Responses are in 'CatImage.RESP'. This field is not used in tsv file\n",
    "# generation but is useful for behavioral analysis.\n",
    "responses = (file_df.loc[~np.isnan(file_df['CatImage.OnsetTime'])])['CatImage.RESP']"
   ]
  },
  {
   "cell_type": "code",
   "execution_count": 9,
   "metadata": {},
   "outputs": [
    {
     "name": "stdout",
     "output_type": "stream",
     "text": [
      "616.5436893203884 1929.0816326530612\n"
     ]
    }
   ],
   "source": [
    "# Quick analysis to look at mean RTs for easy and difficult trials\n",
    "# easy RTs < difficult RTs\n",
    "\n",
    "# Find the indices of the easy trials\n",
    "easy = trial_types == 'CatEasy'\n",
    "\n",
    "# extract all the RTs\n",
    "RTs = trial_offsets - trial_onsets\n",
    "\n",
    "# Calculate mean RTs\n",
    "easy_mean = np.mean(RTs[easy])\n",
    "difficult_mean = np.mean(RTs[~easy])\n",
    "\n",
    "print(easy_mean, difficult_mean)"
   ]
  },
  {
   "cell_type": "code",
   "execution_count": 6,
   "metadata": {},
   "outputs": [],
   "source": [
    "# Create a DataFrame to save to events file\n",
    "df = pd.DataFrame({'onset':(trial_onsets-run_start)/1000, 'duration':durations/1000, 'trial_type':trial_types})\n",
    "df.to_csv(os.path.join(datadir, tsv_file), sep='\\t', float_format='%0.3f', index=False)"
   ]
  },
  {
   "cell_type": "code",
   "execution_count": null,
   "metadata": {},
   "outputs": [],
   "source": []
  }
 ],
 "metadata": {
  "kernelspec": {
   "display_name": "Python 3",
   "language": "python",
   "name": "python3"
  },
  "language_info": {
   "codemirror_mode": {
    "name": "ipython",
    "version": 3
   },
   "file_extension": ".py",
   "mimetype": "text/x-python",
   "name": "python",
   "nbconvert_exporter": "python",
   "pygments_lexer": "ipython3",
   "version": "3.6.9"
  }
 },
 "nbformat": 4,
 "nbformat_minor": 2
}
