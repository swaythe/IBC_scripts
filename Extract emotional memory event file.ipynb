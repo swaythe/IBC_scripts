{
 "cells": [
  {
   "cell_type": "code",
   "execution_count": 1,
   "metadata": {},
   "outputs": [],
   "source": [
    "import os\n",
    "import pandas as pd\n",
    "import numpy as np\n",
    "import matplotlib.pyplot as plt\n",
    "import glob\n",
    "%matplotlib inline"
   ]
  },
  {
   "cell_type": "code",
   "execution_count": 13,
   "metadata": {},
   "outputs": [],
   "source": [
    "sub = 'sub-12'\n",
    "ses = 'ses-01'\n",
    "battery = 'camcan'\n",
    "task = 'emotional-memory'\n",
    "\n",
    "main_dir = '/home/sshankar/ibc/analysis_pipeline/ibc_main/neurospin_data/info/'\n",
    "datadir = os.path.join(main_dir, sub, battery, ses)\n",
    "os.chdir(datadir)\n",
    "csv_files = sorted(glob.glob(task + '*.txt'))\n",
    "tsv_files = []\n",
    "i = 0\n",
    "# for i in range(len(csv_files)):\n",
    "tsv_files.append(task + '_' + sub + '_run-0' + str(i+1) + '.tsv')"
   ]
  },
  {
   "cell_type": "code",
   "execution_count": 3,
   "metadata": {},
   "outputs": [
    {
     "data": {
      "text/plain": [
       "['emotional-memory_sub-12_run-01_1624259125.txt',\n",
       " 'emotional-memory_sub-12_run-02_1624259822.txt']"
      ]
     },
     "execution_count": 3,
     "metadata": {},
     "output_type": "execute_result"
    }
   ],
   "source": [
    "csv_files"
   ]
  },
  {
   "cell_type": "code",
   "execution_count": 14,
   "metadata": {},
   "outputs": [],
   "source": [
    "# In the log file run start is the file line.\n",
    "# To extract it read in the first line by itself and then \n",
    "# read the rest of the file as a DataFrame.\n",
    "line1 = pd.read_csv(os.path.join(datadir, csv_files[i]), sep=':', header=None, nrows=1)\n",
    "run_start = line1[1][0]"
   ]
  },
  {
   "cell_type": "code",
   "execution_count": 15,
   "metadata": {},
   "outputs": [
    {
     "data": {
      "text/plain": [
       "1289.5722"
      ]
     },
     "execution_count": 15,
     "metadata": {},
     "output_type": "execute_result"
    }
   ],
   "source": [
    "run_start"
   ]
  },
  {
   "cell_type": "code",
   "execution_count": 16,
   "metadata": {},
   "outputs": [],
   "source": [
    "file_df = pd.read_csv(os.path.join(datadir, csv_files[i]), header=1, sep=',', skipinitialspace=True)\n",
    "# file_df = pd.read_csv(os.path.join(datadir, csv_files[0]), sep=',')"
   ]
  },
  {
   "cell_type": "code",
   "execution_count": 17,
   "metadata": {},
   "outputs": [],
   "source": [
    "# Find the trial-related rows\n",
    "# trials = file_df['img_valence'] != 'Scanner'\n",
    "valence = file_df['img_valence']\n",
    "negative_trials = file_df['img_valence'].isin(['3'])\n",
    "neutral_trials = file_df['img_valence'].isin(['2'])\n",
    "positive_trials = file_df['img_valence'].isin(['1'])"
   ]
  },
  {
   "cell_type": "code",
   "execution_count": 18,
   "metadata": {},
   "outputs": [],
   "source": [
    "# Trial/Image onsets are in 'img_onset'\n",
    "img_onsets = file_df['img_onset'].astype(float)\n",
    "\n",
    "# Object onsets are in 'obj_onset'\n",
    "obj_onsets = file_df['obj_onset'].astype(float)\n",
    "\n",
    "# Concatenate the two to get the onsets array\n",
    "trial_onsets = np.vstack((img_onsets, obj_onsets)).flatten('F')\n",
    "\n",
    "## Create durations array\n",
    "# In the task, the image is presented for 8 s. 2 s after image onset, \n",
    "# the object is presented, and stays on screen for the remaining 6 s.\n",
    "img_durations = np.repeat(8,len(file_df))\n",
    "obj_durations = np.repeat(6,len(file_df))\n",
    "# Interlace the two durations to create the durations array\n",
    "durations = (np.vstack((img_durations,obj_durations))).flatten('F')"
   ]
  },
  {
   "cell_type": "code",
   "execution_count": 19,
   "metadata": {},
   "outputs": [],
   "source": [
    "## Finally, create the trial_types array. This will be an interlacing\n",
    "## of the 'img_valence' vector for images and 'object' for objects\n",
    "img_types = np.array(np.ones(len(file_df)), dtype=np.object_)\n",
    "img_types[negative_trials] = 'negative_image'\n",
    "img_types[neutral_trials] = 'neutral_image'\n",
    "img_types[positive_trials] = 'positive_image'"
   ]
  },
  {
   "cell_type": "code",
   "execution_count": 20,
   "metadata": {},
   "outputs": [],
   "source": [
    "obj_types = np.repeat('object', len(file_df))"
   ]
  },
  {
   "cell_type": "code",
   "execution_count": 21,
   "metadata": {},
   "outputs": [],
   "source": [
    "trial_types = np.vstack((img_types,obj_types)).flatten('F')"
   ]
  },
  {
   "cell_type": "code",
   "execution_count": 22,
   "metadata": {},
   "outputs": [],
   "source": [
    "# Create a DataFrame to save to events file\n",
    "df = pd.DataFrame({'onset':(trial_onsets-run_start), 'duration':durations, 'trial_type':trial_types})\n",
    "df.to_csv(os.path.join(datadir, tsv_files[0]), sep='\\t', float_format='%0.3f', index=False)"
   ]
  },
  {
   "cell_type": "code",
   "execution_count": null,
   "metadata": {},
   "outputs": [],
   "source": []
  }
 ],
 "metadata": {
  "kernelspec": {
   "display_name": "Python 3",
   "language": "python",
   "name": "python3"
  },
  "language_info": {
   "codemirror_mode": {
    "name": "ipython",
    "version": 3
   },
   "file_extension": ".py",
   "mimetype": "text/x-python",
   "name": "python",
   "nbconvert_exporter": "python",
   "pygments_lexer": "ipython3",
   "version": "3.6.9"
  }
 },
 "nbformat": 4,
 "nbformat_minor": 2
}
