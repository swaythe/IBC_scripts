{
 "cells": [
  {
   "cell_type": "code",
   "execution_count": 2,
   "metadata": {},
   "outputs": [
    {
     "name": "stderr",
     "output_type": "stream",
     "text": [
      "/volatile/sshankar/pyp_env/lib/python3.6/site-packages/sklearn/externals/joblib/__init__.py:15: DeprecationWarning: sklearn.externals.joblib is deprecated in 0.21 and will be removed in 0.23. Please import this functionality directly from joblib, which can be installed with: pip install joblib. If this warning is raised when loading pickled models, you may need to re-serialize those models with scikit-learn 0.21+.\n",
      "  warnings.warn(msg, category=DeprecationWarning)\n"
     ]
    }
   ],
   "source": [
    "# Import the necessary modules/functions\n",
    "import pandas as pd\n",
    "import numpy as np\n",
    "from nistats.second_level_model import SecondLevelModel\n",
    "from nistats.thresholding import map_threshold\n",
    "from nilearn import plotting\n",
    "from nistats.reporting import make_glm_report\n",
    "\n",
    "%matplotlib inline"
   ]
  },
  {
   "cell_type": "code",
   "execution_count": 3,
   "metadata": {},
   "outputs": [],
   "source": [
    "make_glm_report?"
   ]
  },
  {
   "cell_type": "code",
   "execution_count": 4,
   "metadata": {},
   "outputs": [],
   "source": [
    "# Set some global variables\n",
    "n_sub = 13\n",
    "stats_dir = '/volatile/sshankar/ds000003-00001/Statistics/'"
   ]
  },
  {
   "cell_type": "code",
   "execution_count": 5,
   "metadata": {},
   "outputs": [],
   "source": [
    "# Let's gather the files that will form the input to the second level analysis\n",
    "\n",
    "second_level_input1 = []\n",
    "second_level_input2 = []\n",
    "second_level_input3 = []\n",
    "second_level_input4 = []\n",
    "\n",
    "contrast_mat = np.ones(n_sub)\n",
    "# Specify the contrast of interest\n",
    "me1 = 'word'\n",
    "me2 = 'pseudoword'\n",
    "contrast1 = 'word-pseudoword'\n",
    "contrast2 = 'pseudoword-word'\n",
    "\n",
    "for sub in range(n_sub):\n",
    "    s_name = 'sub-' + str(sub+1).zfill(2)\n",
    "    second_level_input1.append(stats_dir + s_name + '/' + s_name + '_' + me1 + '_stat-map.nii.gz')\n",
    "    second_level_input2.append(stats_dir + s_name + '/' + s_name + '_' + me2 + '_stat-map.nii.gz')\n",
    "    second_level_input3.append(stats_dir + s_name + '/' + s_name + '_' + contrast1 + '_stat-map.nii.gz')\n",
    "    second_level_input4.append(stats_dir + s_name + '/' + s_name + '_' + contrast2 + '_stat-map.nii.gz')"
   ]
  },
  {
   "cell_type": "code",
   "execution_count": 6,
   "metadata": {},
   "outputs": [],
   "source": [
    "# Construct a design matrix. We are including all subjects and \n",
    "# essentially finding the \"main effects\" of the contrasts performed\n",
    "# in the first level analysis\n",
    "design_matrix = pd.DataFrame([1] * len(second_level_input1), columns=['intercept'])"
   ]
  },
  {
   "cell_type": "code",
   "execution_count": 7,
   "metadata": {},
   "outputs": [],
   "source": [
    "# Set up the second level analysis\n",
    "second_level_model = SecondLevelModel(smoothing_fwhm=8)"
   ]
  },
  {
   "cell_type": "code",
   "execution_count": 8,
   "metadata": {},
   "outputs": [],
   "source": [
    "# Compute the contrast/main effect\n",
    "z_map1 = second_level_model.fit(second_level_input1, design_matrix=design_matrix).compute_contrast(output_type='z_score')\n",
    "report = make_glm_report(second_level_model, 'intercept')\n",
    "# report.save_as_html(stats_dir + 'rhymejudgement_report_second_level_' + me1 + '.html')\n",
    "\n",
    "# z_map2 = second_level_model.fit(second_level_input2, design_matrix=design_matrix).compute_contrast(output_type='z_score')\n",
    "# report = make_glm_report(second_level_model, [1])\n",
    "# report.save_as_html(stats_dir + 'rhymejudgement_report_second_level_' + me2 + '.html')\n",
    "\n",
    "# z_map3 = second_level_model.fit(second_level_input3, design_matrix=design_matrix).compute_contrast(output_type='z_score')\n",
    "# report = make_glm_report(second_level_model, [1])\n",
    "# report.save_as_html(stats_dir + 'rhymejudgement_report_second_level_' + contrast1 + '.html')\n",
    "\n",
    "# z_map4 = second_level_model.fit(second_level_input4, design_matrix=design_matrix).compute_contrast(output_type='z_score')\n",
    "# report = make_glm_report(second_level_model, [1])\n",
    "# report.save_as_html(stats_dir + 'rhymejudgement_report_second_level_' + contrast2 + '.html')"
   ]
  },
  {
   "cell_type": "code",
   "execution_count": null,
   "metadata": {},
   "outputs": [],
   "source": [
    "# Some FPR correction with cluster size thresholding, after applying an uncorrected p=0.01\n",
    "thresholded_map1, threshold1 = map_threshold(z_map1, alpha=.01, height_control='fpr', cluster_threshold=0)\n",
    "thresholded_map2, threshold2 = map_threshold(z_map2, alpha=.01, height_control='fpr', cluster_threshold=0)\n",
    "thresholded_map3, threshold3 = map_threshold(z_map3, alpha=.01, height_control='fpr', cluster_threshold=0)\n",
    "thresholded_map4, threshold4 = map_threshold(z_map4, alpha=.01, height_control='fpr', cluster_threshold=0)"
   ]
  },
  {
   "cell_type": "code",
   "execution_count": null,
   "metadata": {},
   "outputs": [],
   "source": [
    "plotting.plot_stat_map(thresholded_map1, threshold=threshold1, display_mode='z')"
   ]
  },
  {
   "cell_type": "code",
   "execution_count": null,
   "metadata": {},
   "outputs": [],
   "source": [
    "plotting.plot_stat_map(thresholded_map2, threshold=threshold2, display_mode='z')"
   ]
  },
  {
   "cell_type": "code",
   "execution_count": null,
   "metadata": {},
   "outputs": [],
   "source": [
    "plotting.plot_stat_map(thresholded_map3, threshold=threshold3, display_mode='z')"
   ]
  },
  {
   "cell_type": "code",
   "execution_count": 1,
   "metadata": {},
   "outputs": [
    {
     "ename": "NameError",
     "evalue": "name 'plotting' is not defined",
     "output_type": "error",
     "traceback": [
      "\u001b[0;31m---------------------------------------------------------------------------\u001b[0m",
      "\u001b[0;31mNameError\u001b[0m                                 Traceback (most recent call last)",
      "\u001b[0;32m<ipython-input-1-5363da703302>\u001b[0m in \u001b[0;36m<module>\u001b[0;34m\u001b[0m\n\u001b[0;32m----> 1\u001b[0;31m \u001b[0mplotting\u001b[0m\u001b[0;34m.\u001b[0m\u001b[0mplot_stat_map\u001b[0m\u001b[0;34m(\u001b[0m\u001b[0mthresholded_map4\u001b[0m\u001b[0;34m,\u001b[0m \u001b[0mthreshold\u001b[0m\u001b[0;34m=\u001b[0m\u001b[0mthreshold4\u001b[0m\u001b[0;34m,\u001b[0m \u001b[0mdisplay_mode\u001b[0m\u001b[0;34m=\u001b[0m\u001b[0;34m'z'\u001b[0m\u001b[0;34m)\u001b[0m\u001b[0;34m\u001b[0m\u001b[0m\n\u001b[0m",
      "\u001b[0;31mNameError\u001b[0m: name 'plotting' is not defined"
     ]
    }
   ],
   "source": [
    "plotting.plot_stat_map(thresholded_map4, threshold=threshold4, display_mode='z')"
   ]
  },
  {
   "cell_type": "code",
   "execution_count": null,
   "metadata": {},
   "outputs": [],
   "source": [
    "# Some FDR correction, after applying an uncorrected p=0.01\n",
    "thresholded_map3, threshold3 = map_threshold(z_map1, alpha=.01, height_control='fdr')\n",
    "thresholded_map4, threshold4 = map_threshold(z_map2, alpha=.01, height_control='fdr')"
   ]
  },
  {
   "cell_type": "code",
   "execution_count": null,
   "metadata": {},
   "outputs": [],
   "source": [
    "plotting.plot_stat_map(thresholded_map3, threshold=threshold3, display_mode='z')"
   ]
  },
  {
   "cell_type": "code",
   "execution_count": null,
   "metadata": {},
   "outputs": [],
   "source": [
    "plotting.plot_stat_map(thresholded_map4, threshold=threshold4, display_mode='z')"
   ]
  },
  {
   "cell_type": "code",
   "execution_count": null,
   "metadata": {},
   "outputs": [],
   "source": [
    "# Some FDR correction, after applying an uncorrected p=0.01\n",
    "thresholded_map5, threshold5 = map_threshold(z_map1, alpha=.5, height_control='bonferroni')\n",
    "thresholded_map6, threshold6 = map_threshold(z_map2, alpha=.5, height_control='bonferroni')"
   ]
  },
  {
   "cell_type": "code",
   "execution_count": null,
   "metadata": {},
   "outputs": [],
   "source": [
    "plotting.plot_stat_map(thresholded_map5, threshold=threshold5, display_mode='z')"
   ]
  },
  {
   "cell_type": "code",
   "execution_count": null,
   "metadata": {},
   "outputs": [],
   "source": [
    "plotting.plot_stat_map(thresholded_map6, threshold=threshold6, display_mode='z')"
   ]
  },
  {
   "cell_type": "code",
   "execution_count": null,
   "metadata": {},
   "outputs": [],
   "source": []
  }
 ],
 "metadata": {
  "kernelspec": {
   "display_name": "Python 3",
   "language": "python",
   "name": "python3"
  },
  "language_info": {
   "codemirror_mode": {
    "name": "ipython",
    "version": 3
   },
   "file_extension": ".py",
   "mimetype": "text/x-python",
   "name": "python",
   "nbconvert_exporter": "python",
   "pygments_lexer": "ipython3",
   "version": "3.6.8"
  }
 },
 "nbformat": 4,
 "nbformat_minor": 2
}
