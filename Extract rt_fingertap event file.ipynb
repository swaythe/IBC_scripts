{
 "cells": [
  {
   "cell_type": "code",
   "execution_count": 1,
   "metadata": {},
   "outputs": [],
   "source": [
    "import os\n",
    "import pandas as pd\n",
    "import numpy as np\n",
    "import itertools as it"
   ]
  },
  {
   "cell_type": "code",
   "execution_count": 8,
   "metadata": {},
   "outputs": [],
   "source": [
    "sub = 'pilot-54'\n",
    "ses = 'ses-01'\n",
    "battery = 'fbirn'\n",
    "\n",
    "main_dir = '/home/sshankar/ibc/analysis_pipeline/ibc_main/neurospin_data/info/'\n",
    "# main_dir = '/home/sshankar/Documents/Data/'\n",
    "datadir = os.path.join(main_dir, sub)\n",
    "csv_file = 'extracted_rt-fingertap_sub-54_ses-02_2112021-1233.csv'\n",
    "tsv_file = 'rt-fingertap_pilot-54_ses_02.tsv'"
   ]
  },
  {
   "cell_type": "code",
   "execution_count": 9,
   "metadata": {},
   "outputs": [],
   "source": [
    "file_df = pd.read_csv(os.path.join(datadir, csv_file))"
   ]
  },
  {
   "cell_type": "code",
   "execution_count": 10,
   "metadata": {},
   "outputs": [],
   "source": [
    "# In the csv file extracted from the E-Prime txt file, \n",
    "# run onset is the 'GetReady.OffsetTime' column of last row, \n",
    "# and all other columns of this row are empty.\n",
    "run_start = (file_df.loc[~np.isnan(file_df['Introduction.OffsetTime'])])['Introduction.OffsetTime']\n",
    "run_start = run_start.values[0]"
   ]
  },
  {
   "cell_type": "code",
   "execution_count": 11,
   "metadata": {},
   "outputs": [
    {
     "data": {
      "text/plain": [
       "66210.0"
      ]
     },
     "execution_count": 11,
     "metadata": {},
     "output_type": "execute_result"
    }
   ],
   "source": [
    "run_start"
   ]
  },
  {
   "cell_type": "code",
   "execution_count": 12,
   "metadata": {},
   "outputs": [],
   "source": [
    "# Get trial_types names from Procedure. This is a block design experiment \n",
    "# but there are trials of fix and checkerboard within each block. Blocks are \n",
    "# separated with Procedure names of \"fixationBlock\" and \"checkerBlock\".\n",
    "types = file_df['Procedure']\n",
    "trials = types.str.contains(\"Proc\", regex=False)\n",
    "trial_types = types[trials==True] \n",
    "trial_types[trial_types=='TrialProc'] = \"fingertap\"\n",
    "trial_types[trial_types=='DelayProc'] = \"rest\"\n",
    "\n",
    "# Rest block onsets and durations\n",
    "onset_rest = (file_df.loc[~np.isnan(file_df['delay2.OnsetTime'])])['delay2.OnsetTime']\n",
    "dur_rest = (file_df.loc[~np.isnan(file_df['delay2.OffsetTime'])])['delay2.OffsetTime'] - \\\n",
    "            (file_df.loc[~np.isnan(file_df['delay2.OnsetTime'])])['delay2.OnsetTime']\n",
    "\n",
    "# Task block onsets and durations\n",
    "onset_task = []\n",
    "offset_task = []\n",
    "dur_task = []\n",
    "\n",
    "# First finger tapping block\n",
    "onset_task.append(file_df.loc[0]['RTmeasure1.OnsetTime'])\n",
    "\n",
    "for idx in dur_rest.keys():\n",
    "    onset_task.append(file_df.loc[idx+1]['RTmeasure1.OnsetTime'])\n",
    "    offset_task.append(file_df.loc[idx-2]['RTmeasure1.OffsetTime'])\n",
    "    \n",
    "offset_task.append(file_df.iloc[-3]['RTmeasure1.OffsetTime'])\n",
    "dur_task = np.asarray(offset_task)-np.asarray(onset_task)\n",
    "\n",
    "# Combine the task and rest onsets and durations and set them in order\n",
    "onset_task.extend(list(onset_rest))\n",
    "sortidx = np.argsort(onset_task)\n",
    "\n",
    "onsets = np.asarray(onset_task)[sortidx]\n",
    "durations = np.concatenate((dur_task, dur_rest.values))[sortidx]"
   ]
  },
  {
   "cell_type": "code",
   "execution_count": 13,
   "metadata": {},
   "outputs": [],
   "source": [
    "# Create a DataFrame to save to events file\n",
    "df = pd.DataFrame({'onset':(onsets-run_start)/1000, 'duration':durations/1000, 'trial_type':trial_types})\n",
    "df.to_csv(os.path.join(datadir, tsv_file), sep='\\t', float_format='%0.3f', index=False)"
   ]
  },
  {
   "cell_type": "code",
   "execution_count": null,
   "metadata": {},
   "outputs": [],
   "source": []
  }
 ],
 "metadata": {
  "kernelspec": {
   "display_name": "Python 3",
   "language": "python",
   "name": "python3"
  },
  "language_info": {
   "codemirror_mode": {
    "name": "ipython",
    "version": 3
   },
   "file_extension": ".py",
   "mimetype": "text/x-python",
   "name": "python",
   "nbconvert_exporter": "python",
   "pygments_lexer": "ipython3",
   "version": "3.6.9"
  }
 },
 "nbformat": 4,
 "nbformat_minor": 2
}
