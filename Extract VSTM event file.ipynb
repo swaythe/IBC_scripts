{
 "cells": [
  {
   "cell_type": "code",
   "execution_count": 1,
   "metadata": {},
   "outputs": [],
   "source": [
    "import os\n",
    "import pandas as pd\n",
    "import numpy as np\n",
    "import glob"
   ]
  },
  {
   "cell_type": "code",
   "execution_count": 26,
   "metadata": {},
   "outputs": [],
   "source": [
    "sub = 'sub-12'\n",
    "ses = 'ses-02'\n",
    "battery = 'camcan'\n",
    "task = 'VSTMC'\n",
    "\n",
    "main_dir = '/home/sshankar/ibc/analysis_pipeline/ibc_main/neurospin_data/info/'\n",
    "datadir = os.path.join(main_dir, sub, battery, ses)\n",
    "os.chdir(datadir)\n",
    "csv_files = sorted(glob.glob('*' + task + '*.txt'))\n",
    "tsv_files = []\n",
    "# for i in range(len(csv_files)):\n",
    "i = 0\n",
    "tsv_files.append(task + '_' + sub + '_run-0' + str(i+1) + '.tsv')"
   ]
  },
  {
   "cell_type": "code",
   "execution_count": 27,
   "metadata": {},
   "outputs": [],
   "source": [
    "# In the log file run start is the file line.\n",
    "# To extract it read in the first line by itself and then \n",
    "# read the rest of the file as a DataFrame.\n",
    "line1 = pd.read_csv(os.path.join(datadir, csv_files[i]), sep=':', header=None, nrows=1)\n",
    "run_start = line1[1][0]"
   ]
  },
  {
   "cell_type": "code",
   "execution_count": 28,
   "metadata": {},
   "outputs": [
    {
     "data": {
      "text/plain": [
       "125.4668"
      ]
     },
     "execution_count": 28,
     "metadata": {},
     "output_type": "execute_result"
    }
   ],
   "source": [
    "run_start"
   ]
  },
  {
   "cell_type": "code",
   "execution_count": 29,
   "metadata": {},
   "outputs": [],
   "source": [
    "# Read in the rest of the file\n",
    "file_df = pd.read_csv(os.path.join(datadir, csv_files[i]), header=1, sep=',', skipinitialspace=True)"
   ]
  },
  {
   "cell_type": "code",
   "execution_count": 30,
   "metadata": {},
   "outputs": [],
   "source": [
    "# Extract the stimulus load (how many motion directions to remember: 1, 2 or 3)\n",
    "loads = file_df['Load']"
   ]
  },
  {
   "cell_type": "code",
   "execution_count": 31,
   "metadata": {},
   "outputs": [],
   "source": [
    "# Extract the onsets of stimulus, probe and response\n",
    "stim_onsets = file_df['Stim1_Onset']\n",
    "stim_offsets = file_df['Delay_Onset']\n",
    "stim_durations = stim_offsets - stim_onsets\n",
    "stim_types = np.repeat('stim_load', len(stim_onsets))\n",
    "stims = [i+str(j) for i, j in zip(stim_types, loads.values)]\n",
    "\n",
    "resp_period_onsets = file_df['Probe_Onset']\n",
    "resp_period_offsets = file_df['ResponseTime']\n",
    "resp_period_durations = resp_period_offsets - resp_period_onsets\n",
    "resp_types = np.repeat('resp_load', len(stim_onsets))\n",
    "resps = [i+str(j) for i, j in zip(resp_types, loads.values)]"
   ]
  },
  {
   "cell_type": "code",
   "execution_count": 32,
   "metadata": {},
   "outputs": [],
   "source": [
    "# Create onsets, durations and trial_types vectors that are a zipped merge \n",
    "# of the respective stim and resp vectors\n",
    "trial_onsets = (np.vstack((stim_onsets,resp_period_onsets))).flatten('F')\n",
    "durations = (np.vstack((stim_durations,resp_period_durations))).flatten('F')\n",
    "trial_types = (np.vstack((stims,resps))).flatten('F')"
   ]
  },
  {
   "cell_type": "code",
   "execution_count": 33,
   "metadata": {},
   "outputs": [],
   "source": [
    "# Create a DataFrame to save to events file\n",
    "df = pd.DataFrame({'onset':(trial_onsets-run_start), 'duration':durations, 'trial_type':trial_types})\n",
    "df.to_csv(os.path.join(datadir, tsv_files[0]), sep='\\t', float_format='%0.3f', index=False)"
   ]
  },
  {
   "cell_type": "code",
   "execution_count": null,
   "metadata": {},
   "outputs": [],
   "source": []
  }
 ],
 "metadata": {
  "kernelspec": {
   "display_name": "Python 3",
   "language": "python",
   "name": "python3"
  },
  "language_info": {
   "codemirror_mode": {
    "name": "ipython",
    "version": 3
   },
   "file_extension": ".py",
   "mimetype": "text/x-python",
   "name": "python",
   "nbconvert_exporter": "python",
   "pygments_lexer": "ipython3",
   "version": "3.6.9"
  }
 },
 "nbformat": 4,
 "nbformat_minor": 2
}
