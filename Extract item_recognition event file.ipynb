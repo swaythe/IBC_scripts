{
 "cells": [
  {
   "cell_type": "code",
   "execution_count": 1,
   "metadata": {},
   "outputs": [],
   "source": [
    "import os\n",
    "import pandas as pd\n",
    "import numpy as np\n",
    "import itertools as it\n",
    "import glob"
   ]
  },
  {
   "cell_type": "code",
   "execution_count": 9,
   "metadata": {},
   "outputs": [],
   "source": [
    "sub = 'sub-09'\n",
    "battery = 'fbirn'\n",
    "task = 'item-recognition'\n",
    "\n",
    "main_dir = '/home/sshankar/ibc/analysis_pipeline/ibc_main/neurospin_data/info/'\n",
    "datadir = os.path.join(main_dir, sub, battery)\n",
    "os.chdir(datadir)\n",
    "csv_files = sorted(glob.glob('*' + task + '*.csv'))\n",
    "tsv_files = []\n",
    "# for i in range(len(csv_files)):\n",
    "i = 1\n",
    "tsv_files.append(task + '_' + sub + '_run-0' + str(i+1) + '.tsv')"
   ]
  },
  {
   "cell_type": "code",
   "execution_count": 10,
   "metadata": {},
   "outputs": [],
   "source": [
    "file_df = pd.read_csv(os.path.join(datadir, csv_files[i]))"
   ]
  },
  {
   "cell_type": "code",
   "execution_count": 11,
   "metadata": {},
   "outputs": [],
   "source": [
    "# In the csv file extracted from the E-Prime txt file, \n",
    "# run onset is the 'GetReady.OffsetTime' column of last row, \n",
    "# and all other columns of this row are empty.\n",
    "\n",
    "\n",
    "# if ses == 1:\n",
    "#     run_start = (file_df.loc[~np.isnan(file_df['Introduction.OffsetTime'])])['Introduction.OffsetTime']\n",
    "#     run_start = run_start.values[0]\n",
    "# else:\n",
    "#     run_start = file_df.loc[0]['blank.OnsetTime']\n",
    "\n",
    "run_start = (file_df.loc[~np.isnan(file_df['Introduction.OffsetTime'])])['Introduction.OffsetTime']\n",
    "run_start = run_start.values[0]"
   ]
  },
  {
   "cell_type": "code",
   "execution_count": 12,
   "metadata": {},
   "outputs": [
    {
     "data": {
      "text/plain": [
       "54107.0"
      ]
     },
     "execution_count": 12,
     "metadata": {},
     "output_type": "execute_result"
    }
   ],
   "source": [
    "run_start"
   ]
  },
  {
   "cell_type": "code",
   "execution_count": 20,
   "metadata": {},
   "outputs": [
    {
     "name": "stdout",
     "output_type": "stream",
     "text": [
      "49893.0\n"
     ]
    }
   ],
   "source": [
    "print(file_df.loc[0]['blank.OnsetTime'])"
   ]
  },
  {
   "cell_type": "code",
   "execution_count": 13,
   "metadata": {},
   "outputs": [],
   "source": [
    "# Fixation event durations in index numbers: 12, 8, 10, 6, 8, 10, 8, 6\n",
    "# There are always 14 probe items and 14 arrow trials\n",
    "\n",
    "fix_dur = [12, 8, 10, 6, 8, 10, 8, 6]\n",
    "task_dur = 14\n",
    "\n",
    "# Order of blocks in ses-01\n",
    "# fix, one, fix, three, fix, five, fix, arrows, fix, five, fix, one, fix, arrows, fix, three\n",
    "# Order of blocks in ses-02\n",
    "# fix, three, fix, five, fix, arrows, fix, one, fix, three, fix, one, fix, five, fix, arrows\n",
    "\n",
    "if i == 0:\n",
    "    blocks = ['fix', 'one', 'fix', 'three', 'fix', 'five', 'fix', 'arrows', \\\n",
    "              'fix', 'five', 'fix', 'one', 'fix', 'arrows', 'fix', 'three']\n",
    "else:\n",
    "    blocks = ['fix', 'three', 'fix', 'five', 'fix', 'arrows', 'fix', 'one', \\\n",
    "              'fix', 'three', 'fix', 'one', 'fix', 'five', 'fix', 'arrows']\n",
    "    \n",
    "tidx = 0\n",
    "trial_types = []\n",
    "onsets = []\n",
    "durations = []\n",
    "\n",
    "for i, blk in enumerate(blocks):\n",
    "    if blk == 'one':\n",
    "        trial_types.append('load1_instr')\n",
    "        onsets.append(file_df.loc[tidx+15]['learnone.OnsetTime'])\n",
    "#         durations.append(file_df.loc[tidx]['learnone.OffsetTime']-file_df.loc[tidx+15]['learnone.OnsetTime'])\n",
    "        durations.append(2000)\n",
    "        \n",
    "        trial_types.append('encode1')\n",
    "        onsets.append(file_df.loc[tidx]['encodedigit.OnsetTime'])\n",
    "#         durations.append(file_df.loc[tidx]['encodedigit.OffsetTime']-file_df.loc[tidx]['encodedigit.OnsetTime'])\n",
    "        durations.append(1100)\n",
    "        \n",
    "        tidx = tidx + 1\n",
    "        \n",
    "        for pi in range(14):\n",
    "            if file_df.loc[tidx]['correctans'] == 'y':\n",
    "                trial_types.append('probe1_mem')\n",
    "            elif file_df.loc[tidx]['correctans'] == 'g':\n",
    "                trial_types.append('probe1_new')\n",
    "            else:\n",
    "                trial_types.append(file_df.loc[tidx]['correctans'])\n",
    "            onsets.append(file_df.loc[tidx]['probedigit.OnsetTime'])\n",
    "#             durations.append(file_df.loc[tidx]['probedigit.OffsetTime']-file_df.loc[tidx]['probedigit.OnsetTime'])\n",
    "            durations.append(1100)\n",
    "            tidx = tidx + 1\n",
    "        tidx = tidx + 1\n",
    "            \n",
    "    elif blk == 'three':\n",
    "        trial_types.append('load3_instr')\n",
    "        onsets.append(file_df.loc[tidx+17]['learnthree.OnsetTime'])\n",
    "#         durations.append(file_df.loc[tidx]['learnthree.OffsetTime']-file_df.loc[tidx+17]['learnthree.OnsetTime'])\n",
    "        durations.append(2000)\n",
    "        \n",
    "        for ei in range(3):\n",
    "            trial_types.append('encode3')\n",
    "            onsets.append(file_df.loc[tidx]['encodedigit.OnsetTime'])\n",
    "#             durations.append(file_df.loc[tidx+2]['encodedigit.OffsetTime']-file_df.loc[tidx]['encodedigit.OnsetTime'])\n",
    "            durations.append(1100)\n",
    "            tidx = tidx + 1\n",
    "        \n",
    "#         tidx = tidx + 3\n",
    "        \n",
    "        for pi in range(14):\n",
    "            if file_df.loc[tidx]['correctans'] == 'y':\n",
    "                trial_types.append('probe3_mem')\n",
    "            elif file_df.loc[tidx]['correctans'] == 'g':\n",
    "                trial_types.append('probe3_new')\n",
    "            else:\n",
    "                trial_types.append(file_df.loc[tidx]['correctans'])\n",
    "            onsets.append(file_df.loc[tidx]['probedigit.OnsetTime'])\n",
    "#             durations.append(file_df.loc[tidx]['probedigit.OffsetTime']-file_df.loc[tidx]['probedigit.OnsetTime'])\n",
    "            durations.append(1100)\n",
    "            tidx = tidx + 1\n",
    "        tidx = tidx + 1\n",
    "            \n",
    "    elif blk == 'five':\n",
    "        trial_types.append('load5_instr')\n",
    "        onsets.append(file_df.loc[tidx+19]['learnfive.OnsetTime'])\n",
    "#         durations.append(file_df.loc[tidx]['learnfive.OffsetTime']-file_df.loc[tidx+19]['learnfive.OnsetTime'])\n",
    "        durations.append(2000)\n",
    "        \n",
    "        for ei in range(5):\n",
    "            trial_types.append('encode5')\n",
    "            onsets.append(file_df.loc[tidx]['encodedigit.OnsetTime'])\n",
    "#             durations.append(file_df.loc[tidx+4]['encodedigit.OffsetTime']-file_df.loc[tidx]['encodedigit.OnsetTime'])\n",
    "            durations.append(1100)\n",
    "            tidx = tidx + 1\n",
    "        \n",
    "#         tidx = tidx + 5\n",
    "        \n",
    "        for pi in range(14):\n",
    "            if file_df.loc[tidx]['correctans'] == 'y':\n",
    "                trial_types.append('probe3_mem')\n",
    "            elif file_df.loc[tidx]['correctans'] == 'g':\n",
    "                trial_types.append('probe3_new')\n",
    "            else:\n",
    "                trial_types.append(file_df.loc[tidx]['correctans'])\n",
    "            onsets.append(file_df.loc[tidx]['probedigit.OnsetTime'])\n",
    "#             durations.append(file_df.loc[tidx]['probedigit.OffsetTime']-file_df.loc[tidx]['probedigit.OnsetTime'])\n",
    "            durations.append(1100)\n",
    "            tidx = tidx + 1\n",
    "        tidx = tidx + 1\n",
    "\n",
    "    elif blk == 'arrows':\n",
    "        for pi in range(14):\n",
    "            if file_df.loc[tidx]['correctans'] == 'y':\n",
    "                trial_types.append('arrow_left')\n",
    "            elif file_df.loc[tidx]['correctans'] == 'g':\n",
    "                trial_types.append('arrow_right')\n",
    "            else:\n",
    "                trial_types.append(file_df.loc[tidx]['correctans'])\n",
    "            onsets.append(file_df.loc[tidx]['arrow.OnsetTime'])\n",
    "#             durations.append(file_df.loc[tidx]['arrow.OffsetTime']-file_df.loc[tidx]['arrow.OnsetTime'])\n",
    "            durations.append(1100)\n",
    "            tidx = tidx + 1\n",
    "        tidx = tidx + 1\n",
    "        \n",
    "    elif blk == 'fix':\n",
    "        ntr = fix_dur[int(i/2)]\n",
    "        trial_types.append('fix')\n",
    "        onsets.append(file_df.loc[tidx]['blank.OnsetTime'])\n",
    "        if file_df.loc[tidx+ntr-1]['Procedure'] == 'fixationon':\n",
    "            durations.append(file_df.loc[tidx+ntr-1]['cross.OnsetTime']+file_df.loc[tidx+ntr-1]['Duration'] \\\n",
    "                            - file_df.loc[tidx]['blank.OnsetTime'])\n",
    "        elif file_df.loc[tidx+ntr-1]['Procedure'] == 'fixationoff':\n",
    "            durations.append(file_df.loc[tidx+ntr-1]['blank.OnsetTime']+file_df.loc[tidx+ntr-1]['Duration'] \\\n",
    "                            - file_df.loc[tidx]['blank.OnsetTime'])\n",
    "        tidx = tidx + ntr"
   ]
  },
  {
   "cell_type": "code",
   "execution_count": 14,
   "metadata": {},
   "outputs": [],
   "source": [
    "# Create a DataFrame to save to events file\n",
    "df = pd.DataFrame({'onset':np.array(onsets-run_start)/1000, 'duration':np.array(durations)/1000, 'trial_type':trial_types})\n",
    "df.to_csv(os.path.join(datadir, tsv_files[0]), sep='\\t', float_format='%0.3f', index=False)"
   ]
  },
  {
   "cell_type": "code",
   "execution_count": 8,
   "metadata": {},
   "outputs": [
    {
     "name": "stdout",
     "output_type": "stream",
     "text": [
      "['fix', 'load1_instr', 'encode1', 'probe1_mem', 'probe1_new', 'probe1_new', 'probe1_mem', 'probe1_mem', 'probe1_new', 'probe1_mem', 'probe1_new', 'probe1_new', 'probe1_mem', 'probe1_mem', 'probe1_new', 'probe1_new', 'probe1_mem', 'fix', 'load3_instr', 'encode3', 'encode3', 'encode3', 'probe3_mem', 'probe3_mem', 'probe3_mem', 'probe3_mem', 'probe3_new', 'probe3_new', 'probe3_mem', 'probe3_new', 'probe3_new', 'probe3_new', 'probe3_new', 'probe3_mem', 'probe3_new', 'probe3_mem', 'fix', 'load5_instr', 'encode5', 'encode5', 'encode5', 'encode5', 'encode5', 'probe3_new', 'probe3_new', 'probe3_new', 'probe3_new', 'probe3_new', 'probe3_mem', 'probe3_mem', 'probe3_mem', 'probe3_new', 'probe3_mem', 'probe3_mem', 'probe3_new', 'probe3_mem', 'probe3_mem', 'fix', 'arrow_right', 'arrow_left', 'arrow_right', 'arrow_right', 'arrow_left', 'arrow_left', 'arrow_right', 'arrow_left', 'arrow_right', 'arrow_left', 'arrow_left', 'arrow_right', 'arrow_right', 'arrow_left', 'fix', 'load5_instr', 'encode5', 'encode5', 'encode5', 'encode5', 'encode5', 'probe3_mem', 'probe3_new', 'probe3_new', 'probe3_mem', 'probe3_mem', 'probe3_new', 'probe3_new', 'probe3_mem', 'probe3_mem', 'probe3_mem', 'probe3_new', 'probe3_mem', 'probe3_new', 'probe3_new', 'fix', 'load1_instr', 'encode1', 'probe1_new', 'probe1_new', 'probe1_mem', 'probe1_new', 'probe1_new', 'probe1_new', 'probe1_mem', 'probe1_new', 'probe1_mem', 'probe1_mem', 'probe1_mem', 'probe1_mem', 'probe1_mem', 'probe1_new', 'fix', 'arrow_left', 'arrow_right', 'arrow_right', 'arrow_right', 'arrow_left', 'arrow_left', 'arrow_right', 'arrow_left', 'arrow_left', 'arrow_right', 'arrow_right', 'arrow_left', 'arrow_right', 'arrow_left', 'fix', 'load3_instr', 'encode3', 'encode3', 'encode3', 'probe3_mem', 'probe3_mem', 'probe3_mem', 'probe3_new', 'probe3_new', 'probe3_new', 'probe3_mem', 'probe3_new', 'probe3_new', 'probe3_mem', 'probe3_mem', 'probe3_new', 'probe3_new', 'probe3_mem']\n",
      "[55136.0, 67135.0, 69703.0, 75437.0, 78475.0, 80915.0, 83818.0, 86052.0, 88805.0, 91524.0, 93909.0, 97544.0, 100129.0, 101847.0, 105498.0, 108466.0, 110117.0, 112319.0, 120273.0, 123725.0, 126443.0, 128794.0, 134035.0, 136786.0, 139054.0, 142342.0, 145344.0, 147662.0, 149946.0, 152848.0, 155733.0, 158602.0, 161170.0, 164238.0, 166023.0, 169559.0, 170860.0, 179232.0, 182750.0, 184535.0, 187453.0, 190271.0, 193207.0, 198693.0, 201528.0, 203964.0, 206649.0, 208684.0, 211885.0, 214103.0, 217388.0, 220206.0, 223107.0, 225709.0, 227910.0, 230861.0, 233079.0, 235214.0, 240968.0, 243486.0, 245608.0, 249543.0, 251079.0, 254637.0, 257026.0, 259727.0, 262845.0, 265480.0, 268065.0, 270318.0, 273337.0, 276506.0, 277640.0, 285311.0, 287996.0, 290500.0, 293718.0, 297003.0, 299671.0, 304992.0, 307026.0, 310345.0, 312129.0, 315548.0, 317911.0, 320507.0, 323842.0, 325977.0, 329178.0, 332081.0, 333850.0, 336235.0, 340087.0, 341305.0, 349678.0, 352846.0, 358098.0, 361016.0, 362900.0, 366505.0, 368289.0, 371474.0, 374272.0, 377090.0, 379942.0, 382360.0, 385062.0, 387198.0, 390917.0, 393568.0, 394853.0, 403608.0, 405459.0, 408727.0, 410429.0, 414164.0, 416251.0, 418570.0, 421355.0, 424591.0, 427476.0, 430345.0, 432279.0, 435040.0, 438358.0, 439793.0, 444679.0, 448031.0, 450466.0, 452934.0, 458338.0, 461590.0, 463875.0, 467026.0, 469427.0, 472412.0, 474180.0, 477615.0, 479399.0, 483320.0, 485605.0, 488323.0, 490407.0, 493161.0]\n",
      "[11981.0, 2000, 1100, 1100, 1100, 1100, 1100, 1100, 1100, 1100, 1100, 1100, 1100, 1100, 1100, 1100, 1100, 7927.0, 2000, 1100, 1100, 1100, 1100, 1100, 1100, 1100, 1100, 1100, 1100, 1100, 1100, 1100, 1100, 1100, 1100, 1100, 8353.0, 2000, 1100, 1100, 1100, 1100, 1100, 1100, 1100, 1100, 1100, 1100, 1100, 1100, 1100, 1100, 1100, 1100, 1100, 1100, 1100, 4621.0, 1100, 1100, 1100, 1100, 1100, 1100, 1100, 1100, 1100, 1100, 1100, 1100, 1100, 1100, 7665.0, 2000, 1100, 1100, 1100, 1100, 1100, 1100, 1100, 1100, 1100, 1100, 1100, 1100, 1100, 1100, 1100, 1100, 1100, 1100, 1100, 8345.0, 2000, 1100, 1100, 1100, 1100, 1100, 1100, 1100, 1100, 1100, 1100, 1100, 1100, 1100, 1100, 1100, 7130.0, 1100, 1100, 1100, 1100, 1100, 1100, 1100, 1100, 1100, 1100, 1100, 1100, 1100, 1100, 4859.0, 2000, 1100, 1100, 1100, 1100, 1100, 1100, 1100, 1100, 1100, 1100, 1100, 1100, 1100, 1100, 1100, 1100, 1100]\n"
     ]
    }
   ],
   "source": [
    "print(trial_types); print(onsets); print(durations)"
   ]
  },
  {
   "cell_type": "code",
   "execution_count": null,
   "metadata": {},
   "outputs": [],
   "source": []
  },
  {
   "cell_type": "code",
   "execution_count": null,
   "metadata": {},
   "outputs": [],
   "source": []
  }
 ],
 "metadata": {
  "kernelspec": {
   "display_name": "Python 3",
   "language": "python",
   "name": "python3"
  },
  "language_info": {
   "codemirror_mode": {
    "name": "ipython",
    "version": 3
   },
   "file_extension": ".py",
   "mimetype": "text/x-python",
   "name": "python",
   "nbconvert_exporter": "python",
   "pygments_lexer": "ipython3",
   "version": "3.6.9"
  }
 },
 "nbformat": 4,
 "nbformat_minor": 2
}
